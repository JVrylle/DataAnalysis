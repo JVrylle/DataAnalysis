{
 "cells": [
  {
   "cell_type": "markdown",
   "id": "e0e731d2-6dbd-47b1-89b1-80d8e3d0b931",
   "metadata": {},
   "source": [
    "<h2>Josh Vrylle Castillo</h2>\n",
    "<h3>Data Analysis on Accidents</h3>"
   ]
  },
  {
   "cell_type": "markdown",
   "id": "e65bc867-3307-446a-b921-abe9eb534273",
   "metadata": {},
   "source": [
    "<h3>Installing and Importing Modules</h3>"
   ]
  },
  {
   "cell_type": "code",
   "execution_count": 1,
   "id": "3a156c02-f47a-4331-a56b-c4f38095c0df",
   "metadata": {},
   "outputs": [
    {
     "name": "stdout",
     "output_type": "stream",
     "text": [
      "Requirement already satisfied: numpy in c:\\users\\joshc\\appdata\\local\\programs\\python\\python311\\lib\\site-packages (1.26.2)\n",
      "Note: you may need to restart the kernel to use updated packages.\n"
     ]
    },
    {
     "name": "stderr",
     "output_type": "stream",
     "text": [
      "\n",
      "[notice] A new release of pip is available: 24.0 -> 25.0.1\n",
      "[notice] To update, run: python.exe -m pip install --upgrade pip\n"
     ]
    }
   ],
   "source": [
    "pip install numpy"
   ]
  },
  {
   "cell_type": "code",
   "execution_count": 2,
   "id": "7ba2a3db-d70a-472b-baa0-e4f1fc02df6a",
   "metadata": {},
   "outputs": [
    {
     "name": "stdout",
     "output_type": "stream",
     "text": [
      "Requirement already satisfied: seaborn in c:\\users\\joshc\\appdata\\local\\programs\\python\\python311\\lib\\site-packages (0.13.0)\n",
      "Requirement already satisfied: numpy!=1.24.0,>=1.20 in c:\\users\\joshc\\appdata\\local\\programs\\python\\python311\\lib\\site-packages (from seaborn) (1.26.2)\n",
      "Requirement already satisfied: pandas>=1.2 in c:\\users\\joshc\\appdata\\local\\programs\\python\\python311\\lib\\site-packages (from seaborn) (2.1.4)\n",
      "Requirement already satisfied: matplotlib!=3.6.1,>=3.3 in c:\\users\\joshc\\appdata\\local\\programs\\python\\python311\\lib\\site-packages (from seaborn) (3.8.2)\n",
      "Requirement already satisfied: contourpy>=1.0.1 in c:\\users\\joshc\\appdata\\local\\programs\\python\\python311\\lib\\site-packages (from matplotlib!=3.6.1,>=3.3->seaborn) (1.2.0)\n",
      "Requirement already satisfied: cycler>=0.10 in c:\\users\\joshc\\appdata\\local\\programs\\python\\python311\\lib\\site-packages (from matplotlib!=3.6.1,>=3.3->seaborn) (0.12.1)\n",
      "Requirement already satisfied: fonttools>=4.22.0 in c:\\users\\joshc\\appdata\\local\\programs\\python\\python311\\lib\\site-packages (from matplotlib!=3.6.1,>=3.3->seaborn) (4.45.1)\n",
      "Requirement already satisfied: kiwisolver>=1.3.1 in c:\\users\\joshc\\appdata\\local\\programs\\python\\python311\\lib\\site-packages (from matplotlib!=3.6.1,>=3.3->seaborn) (1.4.5)\n",
      "Requirement already satisfied: packaging>=20.0 in c:\\users\\joshc\\appdata\\roaming\\python\\python311\\site-packages (from matplotlib!=3.6.1,>=3.3->seaborn) (23.2)\n",
      "Requirement already satisfied: pillow>=8 in c:\\users\\joshc\\appdata\\local\\programs\\python\\python311\\lib\\site-packages (from matplotlib!=3.6.1,>=3.3->seaborn) (10.1.0)\n",
      "Requirement already satisfied: pyparsing>=2.3.1 in c:\\users\\joshc\\appdata\\local\\programs\\python\\python311\\lib\\site-packages (from matplotlib!=3.6.1,>=3.3->seaborn) (3.1.1)\n",
      "Requirement already satisfied: python-dateutil>=2.7 in c:\\users\\joshc\\appdata\\roaming\\python\\python311\\site-packages (from matplotlib!=3.6.1,>=3.3->seaborn) (2.8.2)\n",
      "Requirement already satisfied: pytz>=2020.1 in c:\\users\\joshc\\appdata\\local\\programs\\python\\python311\\lib\\site-packages (from pandas>=1.2->seaborn) (2023.3.post1)\n",
      "Requirement already satisfied: tzdata>=2022.1 in c:\\users\\joshc\\appdata\\local\\programs\\python\\python311\\lib\\site-packages (from pandas>=1.2->seaborn) (2023.3)\n",
      "Requirement already satisfied: six>=1.5 in c:\\users\\joshc\\appdata\\roaming\\python\\python311\\site-packages (from python-dateutil>=2.7->matplotlib!=3.6.1,>=3.3->seaborn) (1.16.0)\n",
      "Note: you may need to restart the kernel to use updated packages.\n"
     ]
    },
    {
     "name": "stderr",
     "output_type": "stream",
     "text": [
      "\n",
      "[notice] A new release of pip is available: 24.0 -> 25.0.1\n",
      "[notice] To update, run: python.exe -m pip install --upgrade pip\n"
     ]
    }
   ],
   "source": [
    "pip install seaborn"
   ]
  },
  {
   "cell_type": "code",
   "execution_count": 3,
   "id": "87a854c6-6386-4860-83c7-05dffbd93b93",
   "metadata": {},
   "outputs": [
    {
     "name": "stdout",
     "output_type": "stream",
     "text": [
      "Requirement already satisfied: pandas in c:\\users\\joshc\\appdata\\local\\programs\\python\\python311\\lib\\site-packages (2.1.4)\n",
      "Requirement already satisfied: numpy<2,>=1.23.2 in c:\\users\\joshc\\appdata\\local\\programs\\python\\python311\\lib\\site-packages (from pandas) (1.26.2)\n",
      "Requirement already satisfied: python-dateutil>=2.8.2 in c:\\users\\joshc\\appdata\\roaming\\python\\python311\\site-packages (from pandas) (2.8.2)\n",
      "Requirement already satisfied: pytz>=2020.1 in c:\\users\\joshc\\appdata\\local\\programs\\python\\python311\\lib\\site-packages (from pandas) (2023.3.post1)\n",
      "Requirement already satisfied: tzdata>=2022.1 in c:\\users\\joshc\\appdata\\local\\programs\\python\\python311\\lib\\site-packages (from pandas) (2023.3)\n",
      "Requirement already satisfied: six>=1.5 in c:\\users\\joshc\\appdata\\roaming\\python\\python311\\site-packages (from python-dateutil>=2.8.2->pandas) (1.16.0)\n",
      "Note: you may need to restart the kernel to use updated packages.\n"
     ]
    },
    {
     "name": "stderr",
     "output_type": "stream",
     "text": [
      "\n",
      "[notice] A new release of pip is available: 24.0 -> 25.0.1\n",
      "[notice] To update, run: python.exe -m pip install --upgrade pip\n"
     ]
    }
   ],
   "source": [
    "pip install pandas"
   ]
  },
  {
   "cell_type": "code",
   "execution_count": 4,
   "id": "a49bff3c-e9bf-4874-b019-2c985e686d5a",
   "metadata": {},
   "outputs": [
    {
     "name": "stdout",
     "output_type": "stream",
     "text": [
      "Requirement already satisfied: matplotlib in c:\\users\\joshc\\appdata\\local\\programs\\python\\python311\\lib\\site-packages (3.8.2)Note: you may need to restart the kernel to use updated packages.\n"
     ]
    },
    {
     "name": "stderr",
     "output_type": "stream",
     "text": [
      "\n",
      "[notice] A new release of pip is available: 24.0 -> 25.0.1\n",
      "[notice] To update, run: python.exe -m pip install --upgrade pip\n"
     ]
    },
    {
     "name": "stdout",
     "output_type": "stream",
     "text": [
      "\n",
      "Requirement already satisfied: contourpy>=1.0.1 in c:\\users\\joshc\\appdata\\local\\programs\\python\\python311\\lib\\site-packages (from matplotlib) (1.2.0)\n",
      "Requirement already satisfied: cycler>=0.10 in c:\\users\\joshc\\appdata\\local\\programs\\python\\python311\\lib\\site-packages (from matplotlib) (0.12.1)\n",
      "Requirement already satisfied: fonttools>=4.22.0 in c:\\users\\joshc\\appdata\\local\\programs\\python\\python311\\lib\\site-packages (from matplotlib) (4.45.1)\n",
      "Requirement already satisfied: kiwisolver>=1.3.1 in c:\\users\\joshc\\appdata\\local\\programs\\python\\python311\\lib\\site-packages (from matplotlib) (1.4.5)\n",
      "Requirement already satisfied: numpy<2,>=1.21 in c:\\users\\joshc\\appdata\\local\\programs\\python\\python311\\lib\\site-packages (from matplotlib) (1.26.2)\n",
      "Requirement already satisfied: packaging>=20.0 in c:\\users\\joshc\\appdata\\roaming\\python\\python311\\site-packages (from matplotlib) (23.2)\n",
      "Requirement already satisfied: pillow>=8 in c:\\users\\joshc\\appdata\\local\\programs\\python\\python311\\lib\\site-packages (from matplotlib) (10.1.0)\n",
      "Requirement already satisfied: pyparsing>=2.3.1 in c:\\users\\joshc\\appdata\\local\\programs\\python\\python311\\lib\\site-packages (from matplotlib) (3.1.1)\n",
      "Requirement already satisfied: python-dateutil>=2.7 in c:\\users\\joshc\\appdata\\roaming\\python\\python311\\site-packages (from matplotlib) (2.8.2)\n",
      "Requirement already satisfied: six>=1.5 in c:\\users\\joshc\\appdata\\roaming\\python\\python311\\site-packages (from python-dateutil>=2.7->matplotlib) (1.16.0)\n"
     ]
    }
   ],
   "source": [
    "pip install matplotlib"
   ]
  },
  {
   "cell_type": "code",
   "execution_count": 5,
   "id": "c03d2c51-10ba-48ed-bfbc-a3a56e0c61bb",
   "metadata": {},
   "outputs": [
    {
     "name": "stdout",
     "output_type": "stream",
     "text": [
      "Requirement already satisfied: scipy in c:\\users\\joshc\\appdata\\local\\programs\\python\\python311\\lib\\site-packages (1.15.2)\n",
      "Requirement already satisfied: numpy<2.5,>=1.23.5 in c:\\users\\joshc\\appdata\\local\\programs\\python\\python311\\lib\\site-packages (from scipy) (1.26.2)\n",
      "Note: you may need to restart the kernel to use updated packages.\n"
     ]
    },
    {
     "name": "stderr",
     "output_type": "stream",
     "text": [
      "\n",
      "[notice] A new release of pip is available: 24.0 -> 25.0.1\n",
      "[notice] To update, run: python.exe -m pip install --upgrade pip\n"
     ]
    }
   ],
   "source": [
    "pip install scipy"
   ]
  },
  {
   "cell_type": "code",
   "execution_count": 6,
   "id": "1b411987-2c7a-4aa9-b3a5-7f786ebdd7fc",
   "metadata": {},
   "outputs": [],
   "source": [
    "import numpy as np\n",
    "import pandas as pd\n",
    "import seaborn as sns\n",
    "import scipy as sp\n",
    "import matplotlib.pyplot as plt"
   ]
  },
  {
   "cell_type": "code",
   "execution_count": 70,
   "id": "5c7e4621-839e-4994-bad2-50ce6a2f8024",
   "metadata": {},
   "outputs": [],
   "source": [
    "from scipy.stats import f_oneway"
   ]
  },
  {
   "cell_type": "code",
   "execution_count": 7,
   "id": "6516abf2-0295-43ef-996c-d75109f14ad4",
   "metadata": {},
   "outputs": [],
   "source": [
    "accident = pd.read_csv('dataset\\\\accident_data.csv')"
   ]
  },
  {
   "cell_type": "code",
   "execution_count": 8,
   "id": "3d85c82b-56fb-42a9-8a14-a7e7273b2912",
   "metadata": {},
   "outputs": [
    {
     "data": {
      "text/html": [
       "<div>\n",
       "<style scoped>\n",
       "    .dataframe tbody tr th:only-of-type {\n",
       "        vertical-align: middle;\n",
       "    }\n",
       "\n",
       "    .dataframe tbody tr th {\n",
       "        vertical-align: top;\n",
       "    }\n",
       "\n",
       "    .dataframe thead th {\n",
       "        text-align: right;\n",
       "    }\n",
       "</style>\n",
       "<table border=\"1\" class=\"dataframe\">\n",
       "  <thead>\n",
       "    <tr style=\"text-align: right;\">\n",
       "      <th></th>\n",
       "      <th>Latitude</th>\n",
       "      <th>Longitude</th>\n",
       "      <th>Number_of_Casualties</th>\n",
       "      <th>Number_of_Vehicles</th>\n",
       "    </tr>\n",
       "  </thead>\n",
       "  <tbody>\n",
       "    <tr>\n",
       "      <th>count</th>\n",
       "      <td>660654.000000</td>\n",
       "      <td>660653.000000</td>\n",
       "      <td>660679.000000</td>\n",
       "      <td>660679.000000</td>\n",
       "    </tr>\n",
       "    <tr>\n",
       "      <th>mean</th>\n",
       "      <td>52.553866</td>\n",
       "      <td>-1.431210</td>\n",
       "      <td>1.357040</td>\n",
       "      <td>1.831255</td>\n",
       "    </tr>\n",
       "    <tr>\n",
       "      <th>std</th>\n",
       "      <td>1.406922</td>\n",
       "      <td>1.383330</td>\n",
       "      <td>0.824847</td>\n",
       "      <td>0.715269</td>\n",
       "    </tr>\n",
       "    <tr>\n",
       "      <th>min</th>\n",
       "      <td>49.914430</td>\n",
       "      <td>-7.516225</td>\n",
       "      <td>1.000000</td>\n",
       "      <td>1.000000</td>\n",
       "    </tr>\n",
       "    <tr>\n",
       "      <th>25%</th>\n",
       "      <td>51.490690</td>\n",
       "      <td>-2.332291</td>\n",
       "      <td>1.000000</td>\n",
       "      <td>1.000000</td>\n",
       "    </tr>\n",
       "    <tr>\n",
       "      <th>50%</th>\n",
       "      <td>52.315641</td>\n",
       "      <td>-1.411667</td>\n",
       "      <td>1.000000</td>\n",
       "      <td>2.000000</td>\n",
       "    </tr>\n",
       "    <tr>\n",
       "      <th>75%</th>\n",
       "      <td>53.453452</td>\n",
       "      <td>-0.232869</td>\n",
       "      <td>1.000000</td>\n",
       "      <td>2.000000</td>\n",
       "    </tr>\n",
       "    <tr>\n",
       "      <th>max</th>\n",
       "      <td>60.757544</td>\n",
       "      <td>1.762010</td>\n",
       "      <td>68.000000</td>\n",
       "      <td>32.000000</td>\n",
       "    </tr>\n",
       "  </tbody>\n",
       "</table>\n",
       "</div>"
      ],
      "text/plain": [
       "            Latitude      Longitude  Number_of_Casualties  Number_of_Vehicles\n",
       "count  660654.000000  660653.000000         660679.000000       660679.000000\n",
       "mean       52.553866      -1.431210              1.357040            1.831255\n",
       "std         1.406922       1.383330              0.824847            0.715269\n",
       "min        49.914430      -7.516225              1.000000            1.000000\n",
       "25%        51.490690      -2.332291              1.000000            1.000000\n",
       "50%        52.315641      -1.411667              1.000000            2.000000\n",
       "75%        53.453452      -0.232869              1.000000            2.000000\n",
       "max        60.757544       1.762010             68.000000           32.000000"
      ]
     },
     "execution_count": 8,
     "metadata": {},
     "output_type": "execute_result"
    }
   ],
   "source": [
    "accident.describe()"
   ]
  },
  {
   "cell_type": "code",
   "execution_count": 9,
   "id": "692ad14a-9f90-4ea3-ac87-9b46d785503a",
   "metadata": {},
   "outputs": [
    {
     "name": "stdout",
     "output_type": "stream",
     "text": [
      "<class 'pandas.core.frame.DataFrame'>\n",
      "RangeIndex: 660679 entries, 0 to 660678\n",
      "Data columns (total 14 columns):\n",
      " #   Column                   Non-Null Count   Dtype  \n",
      "---  ------                   --------------   -----  \n",
      " 0   Index                    660679 non-null  object \n",
      " 1   Accident_Severity        660679 non-null  object \n",
      " 2   Accident Date            660679 non-null  object \n",
      " 3   Latitude                 660654 non-null  float64\n",
      " 4   Light_Conditions         660679 non-null  object \n",
      " 5   District Area            660679 non-null  object \n",
      " 6   Longitude                660653 non-null  float64\n",
      " 7   Number_of_Casualties     660679 non-null  int64  \n",
      " 8   Number_of_Vehicles       660679 non-null  int64  \n",
      " 9   Road_Surface_Conditions  659953 non-null  object \n",
      " 10  Road_Type                656159 non-null  object \n",
      " 11  Urban_or_Rural_Area      660664 non-null  object \n",
      " 12  Weather_Conditions       646551 non-null  object \n",
      " 13  Vehicle_Type             660679 non-null  object \n",
      "dtypes: float64(2), int64(2), object(10)\n",
      "memory usage: 70.6+ MB\n"
     ]
    }
   ],
   "source": [
    "accident.info()"
   ]
  },
  {
   "cell_type": "markdown",
   "id": "0158f51e-ba9c-4f61-9117-12626b001540",
   "metadata": {},
   "source": [
    "<h3>Cleaning the Null Values</h3>"
   ]
  },
  {
   "cell_type": "code",
   "execution_count": 10,
   "id": "8e9a0164-c478-4364-a6fe-efbfc217cae9",
   "metadata": {},
   "outputs": [
    {
     "data": {
      "text/plain": [
       "Index                          0\n",
       "Accident_Severity              0\n",
       "Accident Date                  0\n",
       "Latitude                      25\n",
       "Light_Conditions               0\n",
       "District Area                  0\n",
       "Longitude                     26\n",
       "Number_of_Casualties           0\n",
       "Number_of_Vehicles             0\n",
       "Road_Surface_Conditions      726\n",
       "Road_Type                   4520\n",
       "Urban_or_Rural_Area           15\n",
       "Weather_Conditions         14128\n",
       "Vehicle_Type                   0\n",
       "dtype: int64"
      ]
     },
     "execution_count": 10,
     "metadata": {},
     "output_type": "execute_result"
    }
   ],
   "source": [
    "accident.isnull().sum()"
   ]
  },
  {
   "cell_type": "code",
   "execution_count": 11,
   "id": "36f757dd-04d1-45b5-95b1-9b66d606958a",
   "metadata": {},
   "outputs": [],
   "source": [
    "accident['Road_Surface_Conditions'] = accident['Road_Surface_Conditions'].fillna('Unaccounted Road Conditions')\n",
    "accident['Road_Type'] = accident['Road_Type'].fillna('Unaccounted Road Type')\n",
    "accident['Urban_or_Rural_Area'] = accident['Urban_or_Rural_Area'].fillna('Unaccounted')\n",
    "accident['Weather_Conditions'] = accident['Weather_Conditions'].fillna('Unaccounted Weather Cobditions')\n",
    "accident['Latitude'] = accident['Latitude'].fillna(accident['Latitude'].mode()[0])\n",
    "accident['Longitude'] = accident['Longitude'].fillna(accident['Longitude'].mode()[0])"
   ]
  },
  {
   "cell_type": "code",
   "execution_count": 12,
   "id": "75c4a51f-d1c3-4bec-b148-4b3e85aa0589",
   "metadata": {},
   "outputs": [],
   "source": [
    "# accident['Road_Surface_Conditions'] = accident['Road_Surface_Conditions'].fillna(accident['Road_Surface_Conditions'].mode()[0])\n",
    "# accident['Road_Type'] = accident['Road_Type'].fillna(accident['Road_Type'].mode()[0])\n",
    "# accident['Urban_or_Rural_Area'] = accident['Urban_or_Rural_Area'].fillna(accident['Urban_or_Rural_Area'].mode()[0])\n",
    "# accident['Weather_Conditions'] = accident['Weather_Conditions'].fillna(accident['Weather_Conditions'].mode()[0])\n",
    "# accident['Latitude'] = accident['Latitude'].fillna(accident['Latitude'].mode()[0])\n",
    "# accident['Longitude'] = accident['Longitude'].fillna(accident['Longitude'].mode()[0])"
   ]
  },
  {
   "cell_type": "markdown",
   "id": "78f076a6-a452-49ad-b377-e2e35c74834c",
   "metadata": {},
   "source": [
    "<h3>Cleaning the Data Types</h3>"
   ]
  },
  {
   "cell_type": "code",
   "execution_count": 13,
   "id": "40d87d2f-2781-4763-987d-3806fb0acc6c",
   "metadata": {},
   "outputs": [
    {
     "name": "stdout",
     "output_type": "stream",
     "text": [
      "<class 'pandas.core.frame.DataFrame'>\n",
      "RangeIndex: 660679 entries, 0 to 660678\n",
      "Data columns (total 14 columns):\n",
      " #   Column                   Non-Null Count   Dtype  \n",
      "---  ------                   --------------   -----  \n",
      " 0   Index                    660679 non-null  object \n",
      " 1   Accident_Severity        660679 non-null  object \n",
      " 2   Accident Date            660679 non-null  object \n",
      " 3   Latitude                 660679 non-null  float64\n",
      " 4   Light_Conditions         660679 non-null  object \n",
      " 5   District Area            660679 non-null  object \n",
      " 6   Longitude                660679 non-null  float64\n",
      " 7   Number_of_Casualties     660679 non-null  int64  \n",
      " 8   Number_of_Vehicles       660679 non-null  int64  \n",
      " 9   Road_Surface_Conditions  660679 non-null  object \n",
      " 10  Road_Type                660679 non-null  object \n",
      " 11  Urban_or_Rural_Area      660679 non-null  object \n",
      " 12  Weather_Conditions       660679 non-null  object \n",
      " 13  Vehicle_Type             660679 non-null  object \n",
      "dtypes: float64(2), int64(2), object(10)\n",
      "memory usage: 70.6+ MB\n"
     ]
    }
   ],
   "source": [
    "accident.info()"
   ]
  },
  {
   "cell_type": "code",
   "execution_count": 14,
   "id": "1db7918f-3788-4601-857c-62277b159502",
   "metadata": {},
   "outputs": [],
   "source": [
    "accident['Accident_Severity'] = accident['Accident_Severity'].astype('category')\n",
    "accident['Light_Conditions'] = accident['Light_Conditions'].astype('category')\n",
    "accident['District Area'] = accident['District Area'].astype('category')\n",
    "accident['Road_Surface_Conditions'] = accident['Road_Surface_Conditions'].astype('category')\n",
    "accident['Road_Type'] = accident['Road_Type'].astype('category')\n",
    "accident['Urban_or_Rural_Area'] = accident['Urban_or_Rural_Area'].astype('category')\n",
    "accident['Weather_Conditions'] = accident['Weather_Conditions'].astype('category')\n",
    "accident['Vehicle_Type'] = accident['Vehicle_Type'].astype('category')\n",
    "accident['Latitude'] = accident['Latitude'].astype('category')\n",
    "accident['Longitude'] = accident['Longitude'].astype('category')"
   ]
  },
  {
   "cell_type": "markdown",
   "id": "c5468933-c3ea-4e72-a946-2b27b9e14082",
   "metadata": {},
   "source": [
    "<h3>Modifying the Date</h3>"
   ]
  },
  {
   "cell_type": "code",
   "execution_count": 15,
   "id": "23a88159-87c0-4ee1-a7cb-596614686e8b",
   "metadata": {},
   "outputs": [],
   "source": [
    "accident['Accident Date'] = accident['Accident Date'].str.strip()\n",
    "\n",
    "accident['Accident Date'] = accident['Accident Date'].str.replace('/','-')"
   ]
  },
  {
   "cell_type": "code",
   "execution_count": 16,
   "id": "9394be57-0e88-4a96-b716-f696f67e4b46",
   "metadata": {},
   "outputs": [],
   "source": [
    "accident['Accident Date'] = pd.to_datetime(accident['Accident Date'], dayfirst=True, errors = 'coerce')"
   ]
  },
  {
   "cell_type": "code",
   "execution_count": 17,
   "id": "dd6374d5-6e31-494e-9d05-f0c4c2913fbb",
   "metadata": {},
   "outputs": [],
   "source": [
    "accident['Year'] = accident['Accident Date'].dt.year.astype('category')\n",
    "accident['Month'] = accident['Accident Date'].dt.month.astype('category')\n",
    "accident['Day'] = accident['Accident Date'].dt.day.astype('category')\n",
    "accident['DaysOfWeek'] = accident['Accident Date'].dt.dayofweek\n",
    "\n",
    "accident['DaysOfWeek'] = accident['DaysOfWeek'].map({0:'Monday',1:'Tuesday',2:'Wednesday',3:'Thursday',4:'Friday',5:'Saturday',6:'Sunday'})\n",
    "accident['Month'] = accident['Month'].map({1:'January',2:'February',3:'March',4:'April',5:'May',6:'June',7:'July',8:'August',9:'September',10:'October',11:'November',12:'December'})"
   ]
  },
  {
   "cell_type": "code",
   "execution_count": 18,
   "id": "fb8f089b-0a92-46ed-8930-bba8c1d42500",
   "metadata": {},
   "outputs": [
    {
     "data": {
      "text/plain": [
       "Index                      0\n",
       "Accident_Severity          0\n",
       "Accident Date              0\n",
       "Latitude                   0\n",
       "Light_Conditions           0\n",
       "District Area              0\n",
       "Longitude                  0\n",
       "Number_of_Casualties       0\n",
       "Number_of_Vehicles         0\n",
       "Road_Surface_Conditions    0\n",
       "Road_Type                  0\n",
       "Urban_or_Rural_Area        0\n",
       "Weather_Conditions         0\n",
       "Vehicle_Type               0\n",
       "Year                       0\n",
       "Month                      0\n",
       "Day                        0\n",
       "DaysOfWeek                 0\n",
       "dtype: int64"
      ]
     },
     "execution_count": 18,
     "metadata": {},
     "output_type": "execute_result"
    }
   ],
   "source": [
    "accident.isnull().sum()"
   ]
  },
  {
   "cell_type": "code",
   "execution_count": 19,
   "id": "446d08e8-ca37-47cd-94d6-d57a25327deb",
   "metadata": {},
   "outputs": [],
   "source": [
    "accident_2019 = accident[accident['Year'] == 2019]\n",
    "accident_2020 = accident[accident['Year'] == 2020]\n",
    "accident_2021 = accident[accident['Year'] == 2021]\n",
    "accident_2022 = accident[accident['Year'] == 2022]"
   ]
  },
  {
   "cell_type": "code",
   "execution_count": 20,
   "id": "6a6ace5b-0abd-42c5-bcb1-043bd4f4e3d8",
   "metadata": {},
   "outputs": [],
   "source": [
    "accident_january = accident[accident['Month'] == 'January']\n",
    "accident_february = accident[accident['Month'] == 'February']\n",
    "accident_march = accident[accident['Month'] == 'March']\n",
    "accident_april = accident[accident['Month'] == 'April']\n",
    "accident_may = accident[accident['Month'] == 'May']\n",
    "accident_june = accident[accident['Month'] == 'June']\n",
    "accident_july = accident[accident['Month'] == 'July']\n",
    "accident_august = accident[accident['Month'] == 'August']\n",
    "accident_september = accident[accident['Month'] == 'September']\n",
    "accident_october = accident[accident['Month'] == 'October']\n",
    "accident_november = accident[accident['Month'] == 'November']\n",
    "accident_december = accident[accident['Month'] == 'December']"
   ]
  },
  {
   "cell_type": "markdown",
   "id": "30c4b09a-ac76-4804-aa87-9fa7392444ca",
   "metadata": {},
   "source": [
    "<h1>Valuable Insights</h1>"
   ]
  },
  {
   "cell_type": "markdown",
   "id": "a5e38579-9516-4406-a564-3eb97b3eae0b",
   "metadata": {},
   "source": [
    "<h2>Question: Which factors contributes to the most Slight accidents? ( Light Conditions, Road Surface Conditions, Weather Conditions )</h2>"
   ]
  },
  {
   "cell_type": "code",
   "execution_count": 21,
   "id": "85eca5c7-d900-4ba9-a664-6a46c2bf1a12",
   "metadata": {},
   "outputs": [
    {
     "data": {
      "text/html": [
       "<div>\n",
       "<style scoped>\n",
       "    .dataframe tbody tr th:only-of-type {\n",
       "        vertical-align: middle;\n",
       "    }\n",
       "\n",
       "    .dataframe tbody tr th {\n",
       "        vertical-align: top;\n",
       "    }\n",
       "\n",
       "    .dataframe thead th {\n",
       "        text-align: right;\n",
       "    }\n",
       "</style>\n",
       "<table border=\"1\" class=\"dataframe\">\n",
       "  <thead>\n",
       "    <tr style=\"text-align: right;\">\n",
       "      <th>Light_Conditions</th>\n",
       "      <th>Darkness - lighting unknown</th>\n",
       "      <th>Darkness - lights lit</th>\n",
       "      <th>Darkness - lights unlit</th>\n",
       "      <th>Darkness - no lighting</th>\n",
       "      <th>Daylight</th>\n",
       "    </tr>\n",
       "    <tr>\n",
       "      <th>Accident_Severity</th>\n",
       "      <th></th>\n",
       "      <th></th>\n",
       "      <th></th>\n",
       "      <th></th>\n",
       "      <th></th>\n",
       "    </tr>\n",
       "  </thead>\n",
       "  <tbody>\n",
       "    <tr>\n",
       "      <th>Fatal</th>\n",
       "      <td>68</td>\n",
       "      <td>1860</td>\n",
       "      <td>45</td>\n",
       "      <td>1612</td>\n",
       "      <td>5076</td>\n",
       "    </tr>\n",
       "    <tr>\n",
       "      <th>Serious</th>\n",
       "      <td>794</td>\n",
       "      <td>19130</td>\n",
       "      <td>360</td>\n",
       "      <td>7174</td>\n",
       "      <td>60759</td>\n",
       "    </tr>\n",
       "    <tr>\n",
       "      <th>Slight</th>\n",
       "      <td>5622</td>\n",
       "      <td>108345</td>\n",
       "      <td>2138</td>\n",
       "      <td>28651</td>\n",
       "      <td>419045</td>\n",
       "    </tr>\n",
       "  </tbody>\n",
       "</table>\n",
       "</div>"
      ],
      "text/plain": [
       "Light_Conditions   Darkness - lighting unknown  Darkness - lights lit  \\\n",
       "Accident_Severity                                                       \n",
       "Fatal                                       68                   1860   \n",
       "Serious                                    794                  19130   \n",
       "Slight                                    5622                 108345   \n",
       "\n",
       "Light_Conditions   Darkness - lights unlit  Darkness - no lighting  Daylight  \n",
       "Accident_Severity                                                             \n",
       "Fatal                                   45                    1612      5076  \n",
       "Serious                                360                    7174     60759  \n",
       "Slight                                2138                   28651    419045  "
      ]
     },
     "execution_count": 21,
     "metadata": {},
     "output_type": "execute_result"
    }
   ],
   "source": [
    "accident.groupby(['Accident_Severity','Light_Conditions'],observed=False).size().unstack()"
   ]
  },
  {
   "cell_type": "code",
   "execution_count": 23,
   "id": "a6d84c07-ec84-4ebd-b8ea-0e77c06d5c0d",
   "metadata": {},
   "outputs": [
    {
     "data": {
      "text/plain": [
       "563801"
      ]
     },
     "execution_count": 23,
     "metadata": {},
     "output_type": "execute_result"
    }
   ],
   "source": [
    "slight = accident[accident['Accident_Severity'] == 'Slight'].value_counts().sum()\n",
    "slight"
   ]
  },
  {
   "cell_type": "code",
   "execution_count": 24,
   "id": "841a83dc-c2c6-4270-bbff-a87ca9fa546c",
   "metadata": {},
   "outputs": [
    {
     "data": {
      "text/plain": [
       "419045"
      ]
     },
     "execution_count": 24,
     "metadata": {},
     "output_type": "execute_result"
    }
   ],
   "source": [
    "accident[(accident['Accident_Severity'] == 'Slight')&(accident['Light_Conditions'] == 'Daylight')].value_counts().sum()\n"
   ]
  },
  {
   "cell_type": "code",
   "execution_count": 41,
   "id": "4380a911-b6f6-4f96-a838-0abe325f27ad",
   "metadata": {},
   "outputs": [
    {
     "data": {
      "text/plain": [
       "0.743249834604763"
      ]
     },
     "execution_count": 41,
     "metadata": {},
     "output_type": "execute_result"
    }
   ],
   "source": [
    "419045 / slight"
   ]
  },
  {
   "cell_type": "markdown",
   "id": "80be4d2d-9ed8-4106-8275-8bd33877f225",
   "metadata": {},
   "source": [
    "<h3>Insight 1: Daylight is the leading light condition that causes the most slight accidents from 2019 to 2022. 74.32% of the Slight accidents comes from Daylight condition.</h3>"
   ]
  },
  {
   "cell_type": "code",
   "execution_count": 26,
   "id": "fd9bedbd-eb8d-42d5-8a73-e69093a7e51a",
   "metadata": {},
   "outputs": [
    {
     "data": {
      "text/html": [
       "<div>\n",
       "<style scoped>\n",
       "    .dataframe tbody tr th:only-of-type {\n",
       "        vertical-align: middle;\n",
       "    }\n",
       "\n",
       "    .dataframe tbody tr th {\n",
       "        vertical-align: top;\n",
       "    }\n",
       "\n",
       "    .dataframe thead th {\n",
       "        text-align: right;\n",
       "    }\n",
       "</style>\n",
       "<table border=\"1\" class=\"dataframe\">\n",
       "  <thead>\n",
       "    <tr style=\"text-align: right;\">\n",
       "      <th>Road_Surface_Conditions</th>\n",
       "      <th>Dry</th>\n",
       "      <th>Flood over 3cm. deep</th>\n",
       "      <th>Frost or ice</th>\n",
       "      <th>Snow</th>\n",
       "      <th>Unaccounted Road Conditions</th>\n",
       "      <th>Wet or damp</th>\n",
       "    </tr>\n",
       "    <tr>\n",
       "      <th>Accident_Severity</th>\n",
       "      <th></th>\n",
       "      <th></th>\n",
       "      <th></th>\n",
       "      <th></th>\n",
       "      <th></th>\n",
       "      <th></th>\n",
       "    </tr>\n",
       "  </thead>\n",
       "  <tbody>\n",
       "    <tr>\n",
       "      <th>Fatal</th>\n",
       "      <td>5788</td>\n",
       "      <td>23</td>\n",
       "      <td>193</td>\n",
       "      <td>35</td>\n",
       "      <td>2</td>\n",
       "      <td>2620</td>\n",
       "    </tr>\n",
       "    <tr>\n",
       "      <th>Serious</th>\n",
       "      <td>61638</td>\n",
       "      <td>152</td>\n",
       "      <td>2007</td>\n",
       "      <td>565</td>\n",
       "      <td>70</td>\n",
       "      <td>23785</td>\n",
       "    </tr>\n",
       "    <tr>\n",
       "      <th>Slight</th>\n",
       "      <td>380395</td>\n",
       "      <td>842</td>\n",
       "      <td>16317</td>\n",
       "      <td>5290</td>\n",
       "      <td>654</td>\n",
       "      <td>160303</td>\n",
       "    </tr>\n",
       "  </tbody>\n",
       "</table>\n",
       "</div>"
      ],
      "text/plain": [
       "Road_Surface_Conditions     Dry  Flood over 3cm. deep  Frost or ice  Snow  \\\n",
       "Accident_Severity                                                           \n",
       "Fatal                      5788                    23           193    35   \n",
       "Serious                   61638                   152          2007   565   \n",
       "Slight                   380395                   842         16317  5290   \n",
       "\n",
       "Road_Surface_Conditions  Unaccounted Road Conditions  Wet or damp  \n",
       "Accident_Severity                                                  \n",
       "Fatal                                              2         2620  \n",
       "Serious                                           70        23785  \n",
       "Slight                                           654       160303  "
      ]
     },
     "execution_count": 26,
     "metadata": {},
     "output_type": "execute_result"
    }
   ],
   "source": [
    "accident.groupby(['Accident_Severity','Road_Surface_Conditions'],observed=False).size().unstack()"
   ]
  },
  {
   "cell_type": "code",
   "execution_count": 27,
   "id": "65c93e9f-1cfb-4861-b037-a555271d8e30",
   "metadata": {},
   "outputs": [
    {
     "data": {
      "text/plain": [
       "380395"
      ]
     },
     "execution_count": 27,
     "metadata": {},
     "output_type": "execute_result"
    }
   ],
   "source": [
    "accident[(accident['Accident_Severity'] == 'Slight')&(accident['Road_Surface_Conditions'] == 'Dry')].value_counts().sum()"
   ]
  },
  {
   "cell_type": "code",
   "execution_count": 28,
   "id": "1650eeeb-1741-4335-a343-e08f50ac61f8",
   "metadata": {},
   "outputs": [
    {
     "data": {
      "text/plain": [
       "0.6758572616933989"
      ]
     },
     "execution_count": 28,
     "metadata": {},
     "output_type": "execute_result"
    }
   ],
   "source": [
    "381049 / slight"
   ]
  },
  {
   "cell_type": "markdown",
   "id": "4cef0e59-92ac-485c-8dad-b65866245647",
   "metadata": {},
   "source": [
    "<h3>Insight 2: Dry is the leading road condition that causes the most slight accidents from 2019 to 2022. 67.59% of the Slight accidents comes from Dry road condition. </h3>"
   ]
  },
  {
   "cell_type": "code",
   "execution_count": 29,
   "id": "09adcddb-c635-4128-a192-f81f47fe2b01",
   "metadata": {},
   "outputs": [
    {
     "data": {
      "text/html": [
       "<div>\n",
       "<style scoped>\n",
       "    .dataframe tbody tr th:only-of-type {\n",
       "        vertical-align: middle;\n",
       "    }\n",
       "\n",
       "    .dataframe tbody tr th {\n",
       "        vertical-align: top;\n",
       "    }\n",
       "\n",
       "    .dataframe thead th {\n",
       "        text-align: right;\n",
       "    }\n",
       "</style>\n",
       "<table border=\"1\" class=\"dataframe\">\n",
       "  <thead>\n",
       "    <tr style=\"text-align: right;\">\n",
       "      <th>Weather_Conditions</th>\n",
       "      <th>Fine + high winds</th>\n",
       "      <th>Fine no high winds</th>\n",
       "      <th>Fog or mist</th>\n",
       "      <th>Other</th>\n",
       "      <th>Raining + high winds</th>\n",
       "      <th>Raining no high winds</th>\n",
       "      <th>Snowing + high winds</th>\n",
       "      <th>Snowing no high winds</th>\n",
       "      <th>Unaccounted Weather Cobditions</th>\n",
       "    </tr>\n",
       "    <tr>\n",
       "      <th>Accident_Severity</th>\n",
       "      <th></th>\n",
       "      <th></th>\n",
       "      <th></th>\n",
       "      <th></th>\n",
       "      <th></th>\n",
       "      <th></th>\n",
       "      <th></th>\n",
       "      <th></th>\n",
       "      <th></th>\n",
       "    </tr>\n",
       "  </thead>\n",
       "  <tbody>\n",
       "    <tr>\n",
       "      <th>Fatal</th>\n",
       "      <td>175</td>\n",
       "      <td>7100</td>\n",
       "      <td>82</td>\n",
       "      <td>165</td>\n",
       "      <td>145</td>\n",
       "      <td>848</td>\n",
       "      <td>3</td>\n",
       "      <td>36</td>\n",
       "      <td>107</td>\n",
       "    </tr>\n",
       "    <tr>\n",
       "      <th>Serious</th>\n",
       "      <td>1245</td>\n",
       "      <td>72046</td>\n",
       "      <td>483</td>\n",
       "      <td>1801</td>\n",
       "      <td>1261</td>\n",
       "      <td>9468</td>\n",
       "      <td>109</td>\n",
       "      <td>565</td>\n",
       "      <td>1239</td>\n",
       "    </tr>\n",
       "    <tr>\n",
       "      <th>Slight</th>\n",
       "      <td>7134</td>\n",
       "      <td>441739</td>\n",
       "      <td>2963</td>\n",
       "      <td>15184</td>\n",
       "      <td>8209</td>\n",
       "      <td>69380</td>\n",
       "      <td>773</td>\n",
       "      <td>5637</td>\n",
       "      <td>12782</td>\n",
       "    </tr>\n",
       "  </tbody>\n",
       "</table>\n",
       "</div>"
      ],
      "text/plain": [
       "Weather_Conditions  Fine + high winds  Fine no high winds  Fog or mist  Other  \\\n",
       "Accident_Severity                                                               \n",
       "Fatal                             175                7100           82    165   \n",
       "Serious                          1245               72046          483   1801   \n",
       "Slight                           7134              441739         2963  15184   \n",
       "\n",
       "Weather_Conditions  Raining + high winds  Raining no high winds  \\\n",
       "Accident_Severity                                                 \n",
       "Fatal                                145                    848   \n",
       "Serious                             1261                   9468   \n",
       "Slight                              8209                  69380   \n",
       "\n",
       "Weather_Conditions  Snowing + high winds  Snowing no high winds  \\\n",
       "Accident_Severity                                                 \n",
       "Fatal                                  3                     36   \n",
       "Serious                              109                    565   \n",
       "Slight                               773                   5637   \n",
       "\n",
       "Weather_Conditions  Unaccounted Weather Cobditions  \n",
       "Accident_Severity                                   \n",
       "Fatal                                          107  \n",
       "Serious                                       1239  \n",
       "Slight                                       12782  "
      ]
     },
     "execution_count": 29,
     "metadata": {},
     "output_type": "execute_result"
    }
   ],
   "source": [
    "accident.groupby(['Accident_Severity','Weather_Conditions'],observed=False).size().unstack()"
   ]
  },
  {
   "cell_type": "code",
   "execution_count": 30,
   "id": "a8f774c0-de92-4cbf-a2a1-5947f62d5147",
   "metadata": {},
   "outputs": [
    {
     "data": {
      "text/plain": [
       "441739"
      ]
     },
     "execution_count": 30,
     "metadata": {},
     "output_type": "execute_result"
    }
   ],
   "source": [
    "accident[(accident['Accident_Severity'] == 'Slight')&(accident['Weather_Conditions'] == 'Fine no high winds')].value_counts().sum()"
   ]
  },
  {
   "cell_type": "code",
   "execution_count": 31,
   "id": "f209e5c4-ba06-4cc5-9694-a8a7fac645b8",
   "metadata": {},
   "outputs": [
    {
     "data": {
      "text/plain": [
       "0.8061727453480927"
      ]
     },
     "execution_count": 31,
     "metadata": {},
     "output_type": "execute_result"
    }
   ],
   "source": [
    "454521 / slight"
   ]
  },
  {
   "cell_type": "markdown",
   "id": "ee850e87-4616-438d-803c-61e5a935248a",
   "metadata": {},
   "source": [
    "<h3>Insight 3: Fine no high winds is the leading weather condition that causes the most slight accidents from 2019 to 2022. 80.61% of the Slight accidents comes from Fine no high winds weather condition.</h3>"
   ]
  },
  {
   "cell_type": "markdown",
   "id": "2cf876c9-9ac3-4325-acec-a0d6c5b278d2",
   "metadata": {},
   "source": [
    "<h3>Insight 4: According to the data above, the highest accident severity is slight, followed by serious and fatal, respectively. The most common conditions for the Slight accidents are the following: 74.32% for Daylight, 67.58% for Dry roads, and 80.61% for Fine no high winds weather. This means that you are most prone to slight accidents while in the most ideal weather(fine no high winds), road condition(dry), and light condition(daylight).</h3>"
   ]
  },
  {
   "cell_type": "markdown",
   "id": "832e194b-c7e3-49e5-906f-0f087e2717d3",
   "metadata": {},
   "source": [
    "<h2>Question: From the data gathered above. Slight accidents happen during the most ideal weather conditions. Does the same concept happen to Serious accidents? What about Fatal accidents? </h2>"
   ]
  },
  {
   "cell_type": "code",
   "execution_count": 32,
   "id": "8012177a-4d22-4ef2-b11d-cf4545bc5480",
   "metadata": {},
   "outputs": [
    {
     "data": {
      "text/html": [
       "<div>\n",
       "<style scoped>\n",
       "    .dataframe tbody tr th:only-of-type {\n",
       "        vertical-align: middle;\n",
       "    }\n",
       "\n",
       "    .dataframe tbody tr th {\n",
       "        vertical-align: top;\n",
       "    }\n",
       "\n",
       "    .dataframe thead th {\n",
       "        text-align: right;\n",
       "    }\n",
       "</style>\n",
       "<table border=\"1\" class=\"dataframe\">\n",
       "  <thead>\n",
       "    <tr style=\"text-align: right;\">\n",
       "      <th>Light_Conditions</th>\n",
       "      <th>Darkness - lighting unknown</th>\n",
       "      <th>Darkness - lights lit</th>\n",
       "      <th>Darkness - lights unlit</th>\n",
       "      <th>Darkness - no lighting</th>\n",
       "      <th>Daylight</th>\n",
       "    </tr>\n",
       "    <tr>\n",
       "      <th>Accident_Severity</th>\n",
       "      <th></th>\n",
       "      <th></th>\n",
       "      <th></th>\n",
       "      <th></th>\n",
       "      <th></th>\n",
       "    </tr>\n",
       "  </thead>\n",
       "  <tbody>\n",
       "    <tr>\n",
       "      <th>Fatal</th>\n",
       "      <td>68</td>\n",
       "      <td>1860</td>\n",
       "      <td>45</td>\n",
       "      <td>1612</td>\n",
       "      <td>5076</td>\n",
       "    </tr>\n",
       "    <tr>\n",
       "      <th>Serious</th>\n",
       "      <td>794</td>\n",
       "      <td>19130</td>\n",
       "      <td>360</td>\n",
       "      <td>7174</td>\n",
       "      <td>60759</td>\n",
       "    </tr>\n",
       "    <tr>\n",
       "      <th>Slight</th>\n",
       "      <td>5622</td>\n",
       "      <td>108345</td>\n",
       "      <td>2138</td>\n",
       "      <td>28651</td>\n",
       "      <td>419045</td>\n",
       "    </tr>\n",
       "  </tbody>\n",
       "</table>\n",
       "</div>"
      ],
      "text/plain": [
       "Light_Conditions   Darkness - lighting unknown  Darkness - lights lit  \\\n",
       "Accident_Severity                                                       \n",
       "Fatal                                       68                   1860   \n",
       "Serious                                    794                  19130   \n",
       "Slight                                    5622                 108345   \n",
       "\n",
       "Light_Conditions   Darkness - lights unlit  Darkness - no lighting  Daylight  \n",
       "Accident_Severity                                                             \n",
       "Fatal                                   45                    1612      5076  \n",
       "Serious                                360                    7174     60759  \n",
       "Slight                                2138                   28651    419045  "
      ]
     },
     "execution_count": 32,
     "metadata": {},
     "output_type": "execute_result"
    }
   ],
   "source": [
    "accident.groupby(['Accident_Severity','Light_Conditions'],observed=False).size().unstack()"
   ]
  },
  {
   "cell_type": "code",
   "execution_count": 33,
   "id": "9af3e9d7-8e35-40c8-b26b-2f32658eb69b",
   "metadata": {},
   "outputs": [
    {
     "data": {
      "text/html": [
       "<div>\n",
       "<style scoped>\n",
       "    .dataframe tbody tr th:only-of-type {\n",
       "        vertical-align: middle;\n",
       "    }\n",
       "\n",
       "    .dataframe tbody tr th {\n",
       "        vertical-align: top;\n",
       "    }\n",
       "\n",
       "    .dataframe thead th {\n",
       "        text-align: right;\n",
       "    }\n",
       "</style>\n",
       "<table border=\"1\" class=\"dataframe\">\n",
       "  <thead>\n",
       "    <tr style=\"text-align: right;\">\n",
       "      <th>Road_Surface_Conditions</th>\n",
       "      <th>Dry</th>\n",
       "      <th>Flood over 3cm. deep</th>\n",
       "      <th>Frost or ice</th>\n",
       "      <th>Snow</th>\n",
       "      <th>Unaccounted Road Conditions</th>\n",
       "      <th>Wet or damp</th>\n",
       "    </tr>\n",
       "    <tr>\n",
       "      <th>Accident_Severity</th>\n",
       "      <th></th>\n",
       "      <th></th>\n",
       "      <th></th>\n",
       "      <th></th>\n",
       "      <th></th>\n",
       "      <th></th>\n",
       "    </tr>\n",
       "  </thead>\n",
       "  <tbody>\n",
       "    <tr>\n",
       "      <th>Fatal</th>\n",
       "      <td>5788</td>\n",
       "      <td>23</td>\n",
       "      <td>193</td>\n",
       "      <td>35</td>\n",
       "      <td>2</td>\n",
       "      <td>2620</td>\n",
       "    </tr>\n",
       "    <tr>\n",
       "      <th>Serious</th>\n",
       "      <td>61638</td>\n",
       "      <td>152</td>\n",
       "      <td>2007</td>\n",
       "      <td>565</td>\n",
       "      <td>70</td>\n",
       "      <td>23785</td>\n",
       "    </tr>\n",
       "    <tr>\n",
       "      <th>Slight</th>\n",
       "      <td>380395</td>\n",
       "      <td>842</td>\n",
       "      <td>16317</td>\n",
       "      <td>5290</td>\n",
       "      <td>654</td>\n",
       "      <td>160303</td>\n",
       "    </tr>\n",
       "  </tbody>\n",
       "</table>\n",
       "</div>"
      ],
      "text/plain": [
       "Road_Surface_Conditions     Dry  Flood over 3cm. deep  Frost or ice  Snow  \\\n",
       "Accident_Severity                                                           \n",
       "Fatal                      5788                    23           193    35   \n",
       "Serious                   61638                   152          2007   565   \n",
       "Slight                   380395                   842         16317  5290   \n",
       "\n",
       "Road_Surface_Conditions  Unaccounted Road Conditions  Wet or damp  \n",
       "Accident_Severity                                                  \n",
       "Fatal                                              2         2620  \n",
       "Serious                                           70        23785  \n",
       "Slight                                           654       160303  "
      ]
     },
     "execution_count": 33,
     "metadata": {},
     "output_type": "execute_result"
    }
   ],
   "source": [
    "accident.groupby(['Accident_Severity','Road_Surface_Conditions'],observed=False).size().unstack()"
   ]
  },
  {
   "cell_type": "code",
   "execution_count": 34,
   "id": "e4fda99e-7daf-4fb1-b2f1-081d03260b2d",
   "metadata": {},
   "outputs": [
    {
     "data": {
      "text/html": [
       "<div>\n",
       "<style scoped>\n",
       "    .dataframe tbody tr th:only-of-type {\n",
       "        vertical-align: middle;\n",
       "    }\n",
       "\n",
       "    .dataframe tbody tr th {\n",
       "        vertical-align: top;\n",
       "    }\n",
       "\n",
       "    .dataframe thead th {\n",
       "        text-align: right;\n",
       "    }\n",
       "</style>\n",
       "<table border=\"1\" class=\"dataframe\">\n",
       "  <thead>\n",
       "    <tr style=\"text-align: right;\">\n",
       "      <th>Weather_Conditions</th>\n",
       "      <th>Fine + high winds</th>\n",
       "      <th>Fine no high winds</th>\n",
       "      <th>Fog or mist</th>\n",
       "      <th>Other</th>\n",
       "      <th>Raining + high winds</th>\n",
       "      <th>Raining no high winds</th>\n",
       "      <th>Snowing + high winds</th>\n",
       "      <th>Snowing no high winds</th>\n",
       "      <th>Unaccounted Weather Cobditions</th>\n",
       "    </tr>\n",
       "    <tr>\n",
       "      <th>Accident_Severity</th>\n",
       "      <th></th>\n",
       "      <th></th>\n",
       "      <th></th>\n",
       "      <th></th>\n",
       "      <th></th>\n",
       "      <th></th>\n",
       "      <th></th>\n",
       "      <th></th>\n",
       "      <th></th>\n",
       "    </tr>\n",
       "  </thead>\n",
       "  <tbody>\n",
       "    <tr>\n",
       "      <th>Fatal</th>\n",
       "      <td>175</td>\n",
       "      <td>7100</td>\n",
       "      <td>82</td>\n",
       "      <td>165</td>\n",
       "      <td>145</td>\n",
       "      <td>848</td>\n",
       "      <td>3</td>\n",
       "      <td>36</td>\n",
       "      <td>107</td>\n",
       "    </tr>\n",
       "    <tr>\n",
       "      <th>Serious</th>\n",
       "      <td>1245</td>\n",
       "      <td>72046</td>\n",
       "      <td>483</td>\n",
       "      <td>1801</td>\n",
       "      <td>1261</td>\n",
       "      <td>9468</td>\n",
       "      <td>109</td>\n",
       "      <td>565</td>\n",
       "      <td>1239</td>\n",
       "    </tr>\n",
       "    <tr>\n",
       "      <th>Slight</th>\n",
       "      <td>7134</td>\n",
       "      <td>441739</td>\n",
       "      <td>2963</td>\n",
       "      <td>15184</td>\n",
       "      <td>8209</td>\n",
       "      <td>69380</td>\n",
       "      <td>773</td>\n",
       "      <td>5637</td>\n",
       "      <td>12782</td>\n",
       "    </tr>\n",
       "  </tbody>\n",
       "</table>\n",
       "</div>"
      ],
      "text/plain": [
       "Weather_Conditions  Fine + high winds  Fine no high winds  Fog or mist  Other  \\\n",
       "Accident_Severity                                                               \n",
       "Fatal                             175                7100           82    165   \n",
       "Serious                          1245               72046          483   1801   \n",
       "Slight                           7134              441739         2963  15184   \n",
       "\n",
       "Weather_Conditions  Raining + high winds  Raining no high winds  \\\n",
       "Accident_Severity                                                 \n",
       "Fatal                                145                    848   \n",
       "Serious                             1261                   9468   \n",
       "Slight                              8209                  69380   \n",
       "\n",
       "Weather_Conditions  Snowing + high winds  Snowing no high winds  \\\n",
       "Accident_Severity                                                 \n",
       "Fatal                                  3                     36   \n",
       "Serious                              109                    565   \n",
       "Slight                               773                   5637   \n",
       "\n",
       "Weather_Conditions  Unaccounted Weather Cobditions  \n",
       "Accident_Severity                                   \n",
       "Fatal                                          107  \n",
       "Serious                                       1239  \n",
       "Slight                                       12782  "
      ]
     },
     "execution_count": 34,
     "metadata": {},
     "output_type": "execute_result"
    }
   ],
   "source": [
    "accident.groupby(['Accident_Severity','Weather_Conditions'],observed=False).size().unstack()"
   ]
  },
  {
   "cell_type": "markdown",
   "id": "d67a4c24-732f-4db5-a697-b734627d478c",
   "metadata": {},
   "source": [
    "<h3>Insight 5: The conditions that causes the most Serious accidents are the following: daylight(light condition), dry(road condition), and Fine no winds(weather condition)</h3>"
   ]
  },
  {
   "cell_type": "markdown",
   "id": "6f038663-a70d-469d-84ba-4c7ab4e60614",
   "metadata": {},
   "source": [
    "<h3>Insight 6: The conditions that causes the most Fatal accidents are the following: daylight(light condition), dry(road condition), and Fine no winds(weather condition)</h3>"
   ]
  },
  {
   "cell_type": "markdown",
   "id": "9b76dced-a991-4c5f-b955-2de25b62ec6c",
   "metadata": {},
   "source": [
    "<h3>Insight 7: Answering the previous question. Surprisingly, the same concept applies to Serious and Fatal accidents. We can conclude that the 'ideal conditions' can cause the most accidents. We all know that in unideal conditions such as having fogs, snows, wet roads, and very dim roads, it is very dangerous to go outside. One possible reason why more accidents happen during ideal conditions is because there are more people outside, thus higher probability of them being in an accident. When an unideal condition is present like a typhoon, people tends to stay indoors, making them safer.</h3>"
   ]
  },
  {
   "cell_type": "code",
   "execution_count": 35,
   "id": "974aadd0-f20e-4d44-ae7b-0f3b31a1b597",
   "metadata": {},
   "outputs": [
    {
     "data": {
      "text/html": [
       "<div>\n",
       "<style scoped>\n",
       "    .dataframe tbody tr th:only-of-type {\n",
       "        vertical-align: middle;\n",
       "    }\n",
       "\n",
       "    .dataframe tbody tr th {\n",
       "        vertical-align: top;\n",
       "    }\n",
       "\n",
       "    .dataframe thead th {\n",
       "        text-align: right;\n",
       "    }\n",
       "</style>\n",
       "<table border=\"1\" class=\"dataframe\">\n",
       "  <thead>\n",
       "    <tr style=\"text-align: right;\">\n",
       "      <th></th>\n",
       "      <th>Index</th>\n",
       "      <th>Accident_Severity</th>\n",
       "      <th>Accident Date</th>\n",
       "      <th>Latitude</th>\n",
       "      <th>Light_Conditions</th>\n",
       "      <th>District Area</th>\n",
       "      <th>Longitude</th>\n",
       "      <th>Number_of_Casualties</th>\n",
       "      <th>Number_of_Vehicles</th>\n",
       "      <th>Road_Surface_Conditions</th>\n",
       "      <th>Road_Type</th>\n",
       "      <th>Urban_or_Rural_Area</th>\n",
       "      <th>Weather_Conditions</th>\n",
       "      <th>Vehicle_Type</th>\n",
       "      <th>Year</th>\n",
       "      <th>Month</th>\n",
       "      <th>Day</th>\n",
       "      <th>DaysOfWeek</th>\n",
       "    </tr>\n",
       "  </thead>\n",
       "  <tbody>\n",
       "    <tr>\n",
       "      <th>0</th>\n",
       "      <td>200701BS64157</td>\n",
       "      <td>Serious</td>\n",
       "      <td>2019-06-05</td>\n",
       "      <td>51.506187</td>\n",
       "      <td>Darkness - lights lit</td>\n",
       "      <td>Kensington and Chelsea</td>\n",
       "      <td>-0.209082</td>\n",
       "      <td>1</td>\n",
       "      <td>2</td>\n",
       "      <td>Dry</td>\n",
       "      <td>Single carriageway</td>\n",
       "      <td>Urban</td>\n",
       "      <td>Fine no high winds</td>\n",
       "      <td>Car</td>\n",
       "      <td>2019</td>\n",
       "      <td>June</td>\n",
       "      <td>5</td>\n",
       "      <td>Wednesday</td>\n",
       "    </tr>\n",
       "    <tr>\n",
       "      <th>1</th>\n",
       "      <td>200701BS65737</td>\n",
       "      <td>Serious</td>\n",
       "      <td>2019-07-02</td>\n",
       "      <td>51.495029</td>\n",
       "      <td>Daylight</td>\n",
       "      <td>Kensington and Chelsea</td>\n",
       "      <td>-0.173647</td>\n",
       "      <td>1</td>\n",
       "      <td>2</td>\n",
       "      <td>Wet or damp</td>\n",
       "      <td>Single carriageway</td>\n",
       "      <td>Urban</td>\n",
       "      <td>Raining no high winds</td>\n",
       "      <td>Car</td>\n",
       "      <td>2019</td>\n",
       "      <td>July</td>\n",
       "      <td>2</td>\n",
       "      <td>Tuesday</td>\n",
       "    </tr>\n",
       "    <tr>\n",
       "      <th>2</th>\n",
       "      <td>200701BS66127</td>\n",
       "      <td>Serious</td>\n",
       "      <td>2019-08-26</td>\n",
       "      <td>51.517715</td>\n",
       "      <td>Darkness - lighting unknown</td>\n",
       "      <td>Kensington and Chelsea</td>\n",
       "      <td>-0.210215</td>\n",
       "      <td>1</td>\n",
       "      <td>3</td>\n",
       "      <td>Dry</td>\n",
       "      <td>Unaccounted Road Type</td>\n",
       "      <td>Urban</td>\n",
       "      <td>Unaccounted Weather Cobditions</td>\n",
       "      <td>Taxi/Private hire car</td>\n",
       "      <td>2019</td>\n",
       "      <td>August</td>\n",
       "      <td>26</td>\n",
       "      <td>Monday</td>\n",
       "    </tr>\n",
       "    <tr>\n",
       "      <th>3</th>\n",
       "      <td>200701BS66128</td>\n",
       "      <td>Serious</td>\n",
       "      <td>2019-08-16</td>\n",
       "      <td>51.495478</td>\n",
       "      <td>Daylight</td>\n",
       "      <td>Kensington and Chelsea</td>\n",
       "      <td>-0.202731</td>\n",
       "      <td>1</td>\n",
       "      <td>4</td>\n",
       "      <td>Dry</td>\n",
       "      <td>Single carriageway</td>\n",
       "      <td>Urban</td>\n",
       "      <td>Fine no high winds</td>\n",
       "      <td>Bus or coach (17 or more pass seats)</td>\n",
       "      <td>2019</td>\n",
       "      <td>August</td>\n",
       "      <td>16</td>\n",
       "      <td>Friday</td>\n",
       "    </tr>\n",
       "    <tr>\n",
       "      <th>4</th>\n",
       "      <td>200701BS66837</td>\n",
       "      <td>Slight</td>\n",
       "      <td>2019-09-03</td>\n",
       "      <td>51.488576</td>\n",
       "      <td>Darkness - lights lit</td>\n",
       "      <td>Kensington and Chelsea</td>\n",
       "      <td>-0.192487</td>\n",
       "      <td>1</td>\n",
       "      <td>2</td>\n",
       "      <td>Dry</td>\n",
       "      <td>Unaccounted Road Type</td>\n",
       "      <td>Urban</td>\n",
       "      <td>Unaccounted Weather Cobditions</td>\n",
       "      <td>Other vehicle</td>\n",
       "      <td>2019</td>\n",
       "      <td>September</td>\n",
       "      <td>3</td>\n",
       "      <td>Tuesday</td>\n",
       "    </tr>\n",
       "    <tr>\n",
       "      <th>...</th>\n",
       "      <td>...</td>\n",
       "      <td>...</td>\n",
       "      <td>...</td>\n",
       "      <td>...</td>\n",
       "      <td>...</td>\n",
       "      <td>...</td>\n",
       "      <td>...</td>\n",
       "      <td>...</td>\n",
       "      <td>...</td>\n",
       "      <td>...</td>\n",
       "      <td>...</td>\n",
       "      <td>...</td>\n",
       "      <td>...</td>\n",
       "      <td>...</td>\n",
       "      <td>...</td>\n",
       "      <td>...</td>\n",
       "      <td>...</td>\n",
       "      <td>...</td>\n",
       "    </tr>\n",
       "    <tr>\n",
       "      <th>660674</th>\n",
       "      <td>201091NM01760</td>\n",
       "      <td>Slight</td>\n",
       "      <td>2022-02-18</td>\n",
       "      <td>57.374005</td>\n",
       "      <td>Daylight</td>\n",
       "      <td>Highland</td>\n",
       "      <td>-3.467828</td>\n",
       "      <td>2</td>\n",
       "      <td>1</td>\n",
       "      <td>Dry</td>\n",
       "      <td>Single carriageway</td>\n",
       "      <td>Rural</td>\n",
       "      <td>Fine no high winds</td>\n",
       "      <td>Car</td>\n",
       "      <td>2022</td>\n",
       "      <td>February</td>\n",
       "      <td>18</td>\n",
       "      <td>Friday</td>\n",
       "    </tr>\n",
       "    <tr>\n",
       "      <th>660675</th>\n",
       "      <td>201091NM01881</td>\n",
       "      <td>Slight</td>\n",
       "      <td>2022-02-21</td>\n",
       "      <td>57.232273</td>\n",
       "      <td>Darkness - no lighting</td>\n",
       "      <td>Highland</td>\n",
       "      <td>-3.809281</td>\n",
       "      <td>1</td>\n",
       "      <td>1</td>\n",
       "      <td>Frost or ice</td>\n",
       "      <td>Single carriageway</td>\n",
       "      <td>Rural</td>\n",
       "      <td>Fine no high winds</td>\n",
       "      <td>Car</td>\n",
       "      <td>2022</td>\n",
       "      <td>February</td>\n",
       "      <td>21</td>\n",
       "      <td>Monday</td>\n",
       "    </tr>\n",
       "    <tr>\n",
       "      <th>660676</th>\n",
       "      <td>201091NM01935</td>\n",
       "      <td>Slight</td>\n",
       "      <td>2022-02-23</td>\n",
       "      <td>57.585044</td>\n",
       "      <td>Daylight</td>\n",
       "      <td>Highland</td>\n",
       "      <td>-3.862727</td>\n",
       "      <td>1</td>\n",
       "      <td>3</td>\n",
       "      <td>Frost or ice</td>\n",
       "      <td>Single carriageway</td>\n",
       "      <td>Rural</td>\n",
       "      <td>Fine no high winds</td>\n",
       "      <td>Car</td>\n",
       "      <td>2022</td>\n",
       "      <td>February</td>\n",
       "      <td>23</td>\n",
       "      <td>Wednesday</td>\n",
       "    </tr>\n",
       "    <tr>\n",
       "      <th>660677</th>\n",
       "      <td>201091NM01964</td>\n",
       "      <td>Serious</td>\n",
       "      <td>2022-02-23</td>\n",
       "      <td>57.214898</td>\n",
       "      <td>Darkness - no lighting</td>\n",
       "      <td>Highland</td>\n",
       "      <td>-3.823997</td>\n",
       "      <td>1</td>\n",
       "      <td>2</td>\n",
       "      <td>Wet or damp</td>\n",
       "      <td>Single carriageway</td>\n",
       "      <td>Rural</td>\n",
       "      <td>Fine no high winds</td>\n",
       "      <td>Motorcycle over 500cc</td>\n",
       "      <td>2022</td>\n",
       "      <td>February</td>\n",
       "      <td>23</td>\n",
       "      <td>Wednesday</td>\n",
       "    </tr>\n",
       "    <tr>\n",
       "      <th>660678</th>\n",
       "      <td>201091NM02142</td>\n",
       "      <td>Serious</td>\n",
       "      <td>2022-02-28</td>\n",
       "      <td>57.575210</td>\n",
       "      <td>Daylight</td>\n",
       "      <td>Highland</td>\n",
       "      <td>-3.895673</td>\n",
       "      <td>1</td>\n",
       "      <td>1</td>\n",
       "      <td>Wet or damp</td>\n",
       "      <td>Dual carriageway</td>\n",
       "      <td>Rural</td>\n",
       "      <td>Snowing no high winds</td>\n",
       "      <td>Car</td>\n",
       "      <td>2022</td>\n",
       "      <td>February</td>\n",
       "      <td>28</td>\n",
       "      <td>Monday</td>\n",
       "    </tr>\n",
       "  </tbody>\n",
       "</table>\n",
       "<p>660679 rows × 18 columns</p>\n",
       "</div>"
      ],
      "text/plain": [
       "                Index Accident_Severity Accident Date   Latitude  \\\n",
       "0       200701BS64157           Serious    2019-06-05  51.506187   \n",
       "1       200701BS65737           Serious    2019-07-02  51.495029   \n",
       "2       200701BS66127           Serious    2019-08-26  51.517715   \n",
       "3       200701BS66128           Serious    2019-08-16  51.495478   \n",
       "4       200701BS66837            Slight    2019-09-03  51.488576   \n",
       "...               ...               ...           ...        ...   \n",
       "660674  201091NM01760            Slight    2022-02-18  57.374005   \n",
       "660675  201091NM01881            Slight    2022-02-21  57.232273   \n",
       "660676  201091NM01935            Slight    2022-02-23  57.585044   \n",
       "660677  201091NM01964           Serious    2022-02-23  57.214898   \n",
       "660678  201091NM02142           Serious    2022-02-28  57.575210   \n",
       "\n",
       "                   Light_Conditions           District Area Longitude  \\\n",
       "0             Darkness - lights lit  Kensington and Chelsea -0.209082   \n",
       "1                          Daylight  Kensington and Chelsea -0.173647   \n",
       "2       Darkness - lighting unknown  Kensington and Chelsea -0.210215   \n",
       "3                          Daylight  Kensington and Chelsea -0.202731   \n",
       "4             Darkness - lights lit  Kensington and Chelsea -0.192487   \n",
       "...                             ...                     ...       ...   \n",
       "660674                     Daylight                Highland -3.467828   \n",
       "660675       Darkness - no lighting                Highland -3.809281   \n",
       "660676                     Daylight                Highland -3.862727   \n",
       "660677       Darkness - no lighting                Highland -3.823997   \n",
       "660678                     Daylight                Highland -3.895673   \n",
       "\n",
       "        Number_of_Casualties  Number_of_Vehicles Road_Surface_Conditions  \\\n",
       "0                          1                   2                     Dry   \n",
       "1                          1                   2             Wet or damp   \n",
       "2                          1                   3                     Dry   \n",
       "3                          1                   4                     Dry   \n",
       "4                          1                   2                     Dry   \n",
       "...                      ...                 ...                     ...   \n",
       "660674                     2                   1                     Dry   \n",
       "660675                     1                   1            Frost or ice   \n",
       "660676                     1                   3            Frost or ice   \n",
       "660677                     1                   2             Wet or damp   \n",
       "660678                     1                   1             Wet or damp   \n",
       "\n",
       "                    Road_Type Urban_or_Rural_Area  \\\n",
       "0          Single carriageway               Urban   \n",
       "1          Single carriageway               Urban   \n",
       "2       Unaccounted Road Type               Urban   \n",
       "3          Single carriageway               Urban   \n",
       "4       Unaccounted Road Type               Urban   \n",
       "...                       ...                 ...   \n",
       "660674     Single carriageway               Rural   \n",
       "660675     Single carriageway               Rural   \n",
       "660676     Single carriageway               Rural   \n",
       "660677     Single carriageway               Rural   \n",
       "660678       Dual carriageway               Rural   \n",
       "\n",
       "                    Weather_Conditions                          Vehicle_Type  \\\n",
       "0                   Fine no high winds                                   Car   \n",
       "1                Raining no high winds                                   Car   \n",
       "2       Unaccounted Weather Cobditions                 Taxi/Private hire car   \n",
       "3                   Fine no high winds  Bus or coach (17 or more pass seats)   \n",
       "4       Unaccounted Weather Cobditions                         Other vehicle   \n",
       "...                                ...                                   ...   \n",
       "660674              Fine no high winds                                   Car   \n",
       "660675              Fine no high winds                                   Car   \n",
       "660676              Fine no high winds                                   Car   \n",
       "660677              Fine no high winds                 Motorcycle over 500cc   \n",
       "660678           Snowing no high winds                                   Car   \n",
       "\n",
       "        Year      Month Day DaysOfWeek  \n",
       "0       2019       June   5  Wednesday  \n",
       "1       2019       July   2    Tuesday  \n",
       "2       2019     August  26     Monday  \n",
       "3       2019     August  16     Friday  \n",
       "4       2019  September   3    Tuesday  \n",
       "...      ...        ...  ..        ...  \n",
       "660674  2022   February  18     Friday  \n",
       "660675  2022   February  21     Monday  \n",
       "660676  2022   February  23  Wednesday  \n",
       "660677  2022   February  23  Wednesday  \n",
       "660678  2022   February  28     Monday  \n",
       "\n",
       "[660679 rows x 18 columns]"
      ]
     },
     "execution_count": 35,
     "metadata": {},
     "output_type": "execute_result"
    }
   ],
   "source": [
    "accident"
   ]
  },
  {
   "cell_type": "markdown",
   "id": "fc0252ce-8c6f-4907-8b58-36fa96961901",
   "metadata": {},
   "source": [
    "<h2>Question: Since we found out that ideal conditions makes you more prone to accidents. Where does all these accidents usually occur despite the influence of other conditions? Find out whether there are more accidents on Urban or Rural areas. </h2>"
   ]
  },
  {
   "cell_type": "code",
   "execution_count": 36,
   "id": "3a2fa98c-6cc2-453b-8cfb-e00debdfbb81",
   "metadata": {},
   "outputs": [],
   "source": [
    "urban = accident[accident['Urban_or_Rural_Area'] == 'Urban']\n",
    "rural = accident[accident['Urban_or_Rural_Area'] == 'Rural']"
   ]
  },
  {
   "cell_type": "code",
   "execution_count": 37,
   "id": "5be76a36-27ed-4b9c-95d2-c15484455cf0",
   "metadata": {},
   "outputs": [
    {
     "data": {
      "text/plain": [
       "421663"
      ]
     },
     "execution_count": 37,
     "metadata": {},
     "output_type": "execute_result"
    }
   ],
   "source": [
    "urban.value_counts().sum()"
   ]
  },
  {
   "cell_type": "code",
   "execution_count": 38,
   "id": "320fc34e-82f7-40c8-acd5-dae87053f6d9",
   "metadata": {},
   "outputs": [
    {
     "data": {
      "text/plain": [
       "238990"
      ]
     },
     "execution_count": 38,
     "metadata": {},
     "output_type": "execute_result"
    }
   ],
   "source": [
    "rural.value_counts().sum()"
   ]
  },
  {
   "cell_type": "code",
   "execution_count": 48,
   "id": "d7cc2cef-6daf-449b-85ad-c48bc7650426",
   "metadata": {},
   "outputs": [
    {
     "data": {
      "text/plain": [
       "660679"
      ]
     },
     "execution_count": 48,
     "metadata": {},
     "output_type": "execute_result"
    }
   ],
   "source": [
    "total_urban_rural = accident['Urban_or_Rural_Area'].value_counts().sum()\n",
    "total_urban_rural"
   ]
  },
  {
   "cell_type": "code",
   "execution_count": 49,
   "id": "9e33fc00-5279-44fb-8287-d48824d08c2c",
   "metadata": {},
   "outputs": [
    {
     "data": {
      "text/plain": [
       "0.6382267334060868"
      ]
     },
     "execution_count": 49,
     "metadata": {},
     "output_type": "execute_result"
    }
   ],
   "source": [
    "421663/ total_urban_rural"
   ]
  },
  {
   "cell_type": "code",
   "execution_count": 50,
   "id": "25f3803c-5d9e-4ce4-8fab-2925630954a9",
   "metadata": {},
   "outputs": [
    {
     "data": {
      "text/plain": [
       "0.3617339131408748"
      ]
     },
     "execution_count": 50,
     "metadata": {},
     "output_type": "execute_result"
    }
   ],
   "source": [
    "238990/total_urban_rural"
   ]
  },
  {
   "cell_type": "code",
   "execution_count": 54,
   "id": "ea17a91b-3bf3-471b-80fd-6dcccf0ecaa2",
   "metadata": {},
   "outputs": [
    {
     "data": {
      "text/plain": [
       "99.99000000000001"
      ]
     },
     "execution_count": 54,
     "metadata": {},
     "output_type": "execute_result"
    }
   ],
   "source": [
    "63.82 + 36.17\n"
   ]
  },
  {
   "cell_type": "code",
   "execution_count": 52,
   "id": "12733057-82d5-4f4f-bc38-6782cb98f2cc",
   "metadata": {},
   "outputs": [
    {
     "data": {
      "text/plain": [
       "3.935345303840432e-05"
      ]
     },
     "execution_count": 52,
     "metadata": {},
     "output_type": "execute_result"
    }
   ],
   "source": [
    "1 - 0.9999606465469616"
   ]
  },
  {
   "cell_type": "markdown",
   "id": "42161473-56b7-4464-96d1-a6a5e2e51c1f",
   "metadata": {},
   "source": [
    "<h3>Insight 8: 63.82% of the accidents happen in Urban areas. 36.17% of the accidents happens in Rural areas. The remaining 0.01% are unaccounted for. This means that there are more accidents in places where there are more people present.</h3> "
   ]
  },
  {
   "cell_type": "markdown",
   "id": "a9273dc8-f67d-45f5-8ea8-fceaef7acd07",
   "metadata": {},
   "source": [
    "<h2>Question: For the accidents in Urban areas, what are the top 5 vehicle types that causes the most accidents? What about the Rural areas?</h2>"
   ]
  },
  {
   "cell_type": "code",
   "execution_count": 69,
   "id": "bfb139cc-0376-476b-95d4-c30c9954e9a7",
   "metadata": {},
   "outputs": [
    {
     "data": {
      "text/plain": [
       "Vehicle_Type\n",
       "Car                                      497992\n",
       "Van / Goods 3.5 tonnes mgw or under       34160\n",
       "Bus or coach (17 or more pass seats)      25878\n",
       "Motorcycle over 500cc                     25657\n",
       "Goods 7.5 tonnes mgw and over             17307\n",
       "Motorcycle 125cc and under                15269\n",
       "Taxi/Private hire car                     13294\n",
       "Motorcycle over 125cc and up to 500cc      7656\n",
       "Motorcycle 50cc and under                  7603\n",
       "Goods over 3.5t. and under 7.5t            6096\n",
       "Other vehicle                              5637\n",
       "Minibus (8 - 16 passenger seats)           1976\n",
       "Agricultural vehicle                       1947\n",
       "Pedal cycle                                 197\n",
       "Data missing or out of range                  6\n",
       "Ridden horse                                  4\n",
       "Name: count, dtype: int64"
      ]
     },
     "execution_count": 69,
     "metadata": {},
     "output_type": "execute_result"
    }
   ],
   "source": [
    "accident['Vehicle_Type'].value_counts()"
   ]
  },
  {
   "cell_type": "code",
   "execution_count": 67,
   "id": "629a64ac-42a2-4485-ad24-c9ad6600aa40",
   "metadata": {},
   "outputs": [
    {
     "data": {
      "text/plain": [
       "Vehicle_Type\n",
       "Car                                      316053\n",
       "Van / Goods 3.5 tonnes mgw or under       22003\n",
       "Bus or coach (17 or more pass seats)      16850\n",
       "Motorcycle over 500cc                     16700\n",
       "Goods 7.5 tonnes mgw and over             11151\n",
       "Motorcycle 125cc and under                10246\n",
       "Taxi/Private hire car                      8612\n",
       "Motorcycle over 125cc and up to 500cc      4982\n",
       "Motorcycle 50cc and under                  4893\n",
       "Goods over 3.5t. and under 7.5t            3864\n",
       "Other vehicle                              3643\n",
       "Agricultural vehicle                       1272\n",
       "Minibus (8 - 16 passenger seats)           1258\n",
       "Pedal cycle                                 127\n",
       "Data missing or out of range                  6\n",
       "Ridden horse                                  3\n",
       "Name: count, dtype: int64"
      ]
     },
     "execution_count": 67,
     "metadata": {},
     "output_type": "execute_result"
    }
   ],
   "source": [
    "urban['Vehicle_Type'].value_counts()"
   ]
  },
  {
   "cell_type": "code",
   "execution_count": 68,
   "id": "c1a7fbf9-f91d-43aa-9cba-74b289533414",
   "metadata": {},
   "outputs": [
    {
     "data": {
      "text/plain": [
       "Vehicle_Type\n",
       "Car                                      181922\n",
       "Van / Goods 3.5 tonnes mgw or under       12156\n",
       "Bus or coach (17 or more pass seats)       9025\n",
       "Motorcycle over 500cc                      8957\n",
       "Goods 7.5 tonnes mgw and over              6156\n",
       "Motorcycle 125cc and under                 5023\n",
       "Taxi/Private hire car                      4677\n",
       "Motorcycle 50cc and under                  2710\n",
       "Motorcycle over 125cc and up to 500cc      2674\n",
       "Goods over 3.5t. and under 7.5t            2232\n",
       "Other vehicle                              1994\n",
       "Minibus (8 - 16 passenger seats)            718\n",
       "Agricultural vehicle                        675\n",
       "Pedal cycle                                  70\n",
       "Ridden horse                                  1\n",
       "Data missing or out of range                  0\n",
       "Name: count, dtype: int64"
      ]
     },
     "execution_count": 68,
     "metadata": {},
     "output_type": "execute_result"
    }
   ],
   "source": [
    "rural['Vehicle_Type'].value_counts()"
   ]
  },
  {
   "cell_type": "markdown",
   "id": "50eb735d-523c-4fb0-9dfa-68e92f399bd9",
   "metadata": {},
   "source": [
    "<h3>Insight 9: The top 5 vehicle type that causes the most accident on Urban Areas are the following: Car, Van / Goods 3.5 tonnes mgw or under, Bus or coach (17 or more pass seats), Motorcycle over 500cc, and Goods 7.5 tonnes mgw and over.</h3>"
   ]
  },
  {
   "cell_type": "markdown",
   "id": "b57f1407-f61a-4945-8915-b7fff4d8919a",
   "metadata": {},
   "source": [
    "<h3>Insight 10: The top 5 vehicle type that causes the most accident on Rural Areas are the following: Car, Van / Goods 3.5 tonnes mgw or under, Bus or coach (17 or more pass seats), Motorcycle over 500cc, and Goods 7.5 tonnes mgw and over.</h3>"
   ]
  },
  {
   "cell_type": "markdown",
   "id": "f79d0fec-fe44-44b2-8207-6c3bf8bdef11",
   "metadata": {},
   "source": [
    "<h3>Insight 11: Despite being whole different areas, Urban and Rural areas have the same leading type of vehicles in causing accidents. This might indicate that the vehicle type that is much largely produced can cause the most accidents. The most common type of vehicle in United Kingdom are cars and vans, and they are the leading vehicle types for accidents. </h3>"
   ]
  },
  {
   "cell_type": "markdown",
   "id": "d0dff4dd-9302-4b5c-b910-df7c3464fe16",
   "metadata": {},
   "source": [
    "<h2>Question: Using the oldest data availlable in the dataframe, can you find the total percentage and exact amount of the fatalities?</h2>"
   ]
  },
  {
   "cell_type": "code",
   "execution_count": 94,
   "id": "dd5e2e96-5733-42cd-8e8d-ada2beb6c5f2",
   "metadata": {},
   "outputs": [
    {
     "data": {
      "text/plain": [
       "Accident_Severity\n",
       "Slight     155079\n",
       "Serious     24322\n",
       "Fatal        2714\n",
       "Name: count, dtype: int64"
      ]
     },
     "execution_count": 94,
     "metadata": {},
     "output_type": "execute_result"
    }
   ],
   "source": [
    "accident_2019 = accident[accident['Year'] == 2019]\n",
    "accident_2019['Accident_Severity'].value_counts()"
   ]
  },
  {
   "cell_type": "code",
   "execution_count": 95,
   "id": "b85b683f-2cbf-48d8-b87d-c75716381b4d",
   "metadata": {},
   "outputs": [
    {
     "data": {
      "text/plain": [
       "182115"
      ]
     },
     "execution_count": 95,
     "metadata": {},
     "output_type": "execute_result"
    }
   ],
   "source": [
    "accident_2019['Accident_Severity'].value_counts().sum()"
   ]
  },
  {
   "cell_type": "code",
   "execution_count": 96,
   "id": "c1f66e7f-85d1-43d4-9011-6598538b1cc0",
   "metadata": {},
   "outputs": [
    {
     "data": {
      "text/plain": [
       "0.01879254114763293"
      ]
     },
     "execution_count": 96,
     "metadata": {},
     "output_type": "execute_result"
    }
   ],
   "source": [
    "2714 /144419"
   ]
  },
  {
   "cell_type": "markdown",
   "id": "54a87470-7766-41bd-9424-9d79174298d4",
   "metadata": {},
   "source": [
    "<h3>Insight 12: In year 2019, 1.87% of the accidents are fatal with a number 2714 occurences.</h3>"
   ]
  },
  {
   "cell_type": "markdown",
   "id": "7b831d3d-dbce-4757-a7ad-241da4344aad",
   "metadata": {},
   "source": [
    "<h2>Question: What about using the most recent data availlable in the dataframe, can you find the total percentage and exact amount of the fatalities?</h2>"
   ]
  },
  {
   "cell_type": "code",
   "execution_count": 97,
   "id": "c4bfdea8-44d3-458d-8b5c-385c3eb0c050",
   "metadata": {},
   "outputs": [
    {
     "data": {
      "text/plain": [
       "Accident_Severity\n",
       "Slight     124093\n",
       "Serious     18777\n",
       "Fatal        1549\n",
       "Name: count, dtype: int64"
      ]
     },
     "execution_count": 97,
     "metadata": {},
     "output_type": "execute_result"
    }
   ],
   "source": [
    "accident_2022 = accident[accident['Year'] == 2022]\n",
    "accident_2022['Accident_Severity'].value_counts()"
   ]
  },
  {
   "cell_type": "code",
   "execution_count": 98,
   "id": "be2c7495-c58e-4e51-93b2-e4d957f4f989",
   "metadata": {},
   "outputs": [
    {
     "data": {
      "text/plain": [
       "144419"
      ]
     },
     "execution_count": 98,
     "metadata": {},
     "output_type": "execute_result"
    }
   ],
   "source": [
    "accident_2022['Accident_Severity'].value_counts().sum()"
   ]
  },
  {
   "cell_type": "code",
   "execution_count": 99,
   "id": "11675fa2-b68a-4f12-82e7-cce7c8d0be7e",
   "metadata": {},
   "outputs": [
    {
     "data": {
      "text/plain": [
       "0.010725735533413194"
      ]
     },
     "execution_count": 99,
     "metadata": {},
     "output_type": "execute_result"
    }
   ],
   "source": [
    "1549 / 144419"
   ]
  },
  {
   "cell_type": "markdown",
   "id": "c8208356-3fec-4eaa-b316-8038c7abbb17",
   "metadata": {},
   "source": [
    "<h3>Insight 13: In year 2022, 1.07% of the accidents are fatal with a number 1549 occurences.</h3>"
   ]
  },
  {
   "cell_type": "markdown",
   "id": "4d384f38-bbbd-4735-83dc-d89e9ea97b8b",
   "metadata": {},
   "source": [
    "<h3>Insight 14: Based on the analysis about Fatal accidents. We found out that they have significantly less numbers than that of Slight and Serious accidents combined with only less than 2% occurences. In comparison between the year 2019 and 2022, there are less fatal accidents in the recent years compared to older years. </h3>"
   ]
  },
  {
   "cell_type": "markdown",
   "id": "95d00cc8-579d-470a-b076-19b18b3891e7",
   "metadata": {},
   "source": [
    "<h2>Question: Using the data from 2022, What months causes the most overall accidents? What about the average accidents per month?</h2>"
   ]
  },
  {
   "cell_type": "code",
   "execution_count": 110,
   "id": "b2f0c747-47e0-4a72-8a84-93991b0e4d50",
   "metadata": {},
   "outputs": [
    {
     "data": {
      "text/html": [
       "<div>\n",
       "<style scoped>\n",
       "    .dataframe tbody tr th:only-of-type {\n",
       "        vertical-align: middle;\n",
       "    }\n",
       "\n",
       "    .dataframe tbody tr th {\n",
       "        vertical-align: top;\n",
       "    }\n",
       "\n",
       "    .dataframe thead th {\n",
       "        text-align: right;\n",
       "    }\n",
       "</style>\n",
       "<table border=\"1\" class=\"dataframe\">\n",
       "  <thead>\n",
       "    <tr style=\"text-align: right;\">\n",
       "      <th>Month</th>\n",
       "      <th>January</th>\n",
       "      <th>February</th>\n",
       "      <th>March</th>\n",
       "      <th>April</th>\n",
       "      <th>May</th>\n",
       "      <th>June</th>\n",
       "      <th>July</th>\n",
       "      <th>August</th>\n",
       "      <th>September</th>\n",
       "      <th>October</th>\n",
       "      <th>November</th>\n",
       "      <th>December</th>\n",
       "    </tr>\n",
       "    <tr>\n",
       "      <th>Accident_Severity</th>\n",
       "      <th></th>\n",
       "      <th></th>\n",
       "      <th></th>\n",
       "      <th></th>\n",
       "      <th></th>\n",
       "      <th></th>\n",
       "      <th></th>\n",
       "      <th></th>\n",
       "      <th></th>\n",
       "      <th></th>\n",
       "      <th></th>\n",
       "      <th></th>\n",
       "    </tr>\n",
       "  </thead>\n",
       "  <tbody>\n",
       "    <tr>\n",
       "      <th>Fatal</th>\n",
       "      <td>104</td>\n",
       "      <td>117</td>\n",
       "      <td>129</td>\n",
       "      <td>115</td>\n",
       "      <td>147</td>\n",
       "      <td>138</td>\n",
       "      <td>121</td>\n",
       "      <td>160</td>\n",
       "      <td>144</td>\n",
       "      <td>151</td>\n",
       "      <td>133</td>\n",
       "      <td>90</td>\n",
       "    </tr>\n",
       "    <tr>\n",
       "      <th>Serious</th>\n",
       "      <td>1139</td>\n",
       "      <td>1290</td>\n",
       "      <td>1606</td>\n",
       "      <td>1599</td>\n",
       "      <td>1757</td>\n",
       "      <td>1740</td>\n",
       "      <td>1765</td>\n",
       "      <td>1626</td>\n",
       "      <td>1791</td>\n",
       "      <td>1762</td>\n",
       "      <td>1631</td>\n",
       "      <td>1071</td>\n",
       "    </tr>\n",
       "    <tr>\n",
       "      <th>Slight</th>\n",
       "      <td>8724</td>\n",
       "      <td>9528</td>\n",
       "      <td>10606</td>\n",
       "      <td>9796</td>\n",
       "      <td>10468</td>\n",
       "      <td>10934</td>\n",
       "      <td>10767</td>\n",
       "      <td>10302</td>\n",
       "      <td>11025</td>\n",
       "      <td>11621</td>\n",
       "      <td>11858</td>\n",
       "      <td>8464</td>\n",
       "    </tr>\n",
       "  </tbody>\n",
       "</table>\n",
       "</div>"
      ],
      "text/plain": [
       "Month              January  February  March  April    May   June   July  \\\n",
       "Accident_Severity                                                         \n",
       "Fatal                  104       117    129    115    147    138    121   \n",
       "Serious               1139      1290   1606   1599   1757   1740   1765   \n",
       "Slight                8724      9528  10606   9796  10468  10934  10767   \n",
       "\n",
       "Month              August  September  October  November  December  \n",
       "Accident_Severity                                                  \n",
       "Fatal                 160        144      151       133        90  \n",
       "Serious              1626       1791     1762      1631      1071  \n",
       "Slight              10302      11025    11621     11858      8464  "
      ]
     },
     "execution_count": 110,
     "metadata": {},
     "output_type": "execute_result"
    }
   ],
   "source": [
    "accident_2022.groupby(['Accident_Severity','Month'], observed=False).size().unstack()"
   ]
  },
  {
   "cell_type": "code",
   "execution_count": 111,
   "id": "a2f6e133-708b-483c-b5f0-62ccc75bc341",
   "metadata": {},
   "outputs": [
    {
     "data": {
      "text/plain": [
       "Month\n",
       "January       9967\n",
       "February     10935\n",
       "March        12341\n",
       "April        11510\n",
       "May          12372\n",
       "June         12812\n",
       "July         12653\n",
       "August       12088\n",
       "September    12960\n",
       "October      13534\n",
       "November     13622\n",
       "December      9625\n",
       "dtype: int64"
      ]
     },
     "execution_count": 111,
     "metadata": {},
     "output_type": "execute_result"
    }
   ],
   "source": [
    "accident_2022.groupby(['Accident_Severity','Month'], observed=False).size().unstack().sum()"
   ]
  },
  {
   "cell_type": "markdown",
   "id": "9c863d65-adec-43ec-bdb3-53b3195f0917",
   "metadata": {},
   "source": [
    "<h3>Insight 15: The month with the highest accident rate during 2022 is November, closely followed by October, with only a margin of 88 accidents. This occurence might be due to Halloween event every November.</h3>"
   ]
  },
  {
   "cell_type": "markdown",
   "id": "c5873432-6256-4365-91be-5af1f918b3c6",
   "metadata": {},
   "source": [
    "<h3>Insight 16: The month with the lowest accident rate during 2022 is December, followed closely by January, and then relatively followed by February. These are the months where most people are usually on vacation.</h3>"
   ]
  },
  {
   "cell_type": "markdown",
   "id": "aaea9d7f-949d-43ca-9f91-a55cbab5cb66",
   "metadata": {},
   "source": [
    "<h2>Question: Since November and October is the month where there is the highest accidents. Does the Halloween have to do with this? Halloween is celebrated during October 31, for some people it extends to early November 1.</h2>"
   ]
  },
  {
   "cell_type": "code",
   "execution_count": 134,
   "id": "bdc08e1a-af48-4c2b-9637-9608ddefd927",
   "metadata": {},
   "outputs": [
    {
     "data": {
      "text/html": [
       "<div>\n",
       "<style scoped>\n",
       "    .dataframe tbody tr th:only-of-type {\n",
       "        vertical-align: middle;\n",
       "    }\n",
       "\n",
       "    .dataframe tbody tr th {\n",
       "        vertical-align: top;\n",
       "    }\n",
       "\n",
       "    .dataframe thead th {\n",
       "        text-align: right;\n",
       "    }\n",
       "</style>\n",
       "<table border=\"1\" class=\"dataframe\">\n",
       "  <thead>\n",
       "    <tr style=\"text-align: right;\">\n",
       "      <th>Month</th>\n",
       "      <th>January</th>\n",
       "      <th>February</th>\n",
       "      <th>March</th>\n",
       "      <th>April</th>\n",
       "      <th>May</th>\n",
       "      <th>June</th>\n",
       "      <th>July</th>\n",
       "      <th>August</th>\n",
       "      <th>September</th>\n",
       "      <th>October</th>\n",
       "      <th>November</th>\n",
       "      <th>December</th>\n",
       "    </tr>\n",
       "    <tr>\n",
       "      <th>Day</th>\n",
       "      <th></th>\n",
       "      <th></th>\n",
       "      <th></th>\n",
       "      <th></th>\n",
       "      <th></th>\n",
       "      <th></th>\n",
       "      <th></th>\n",
       "      <th></th>\n",
       "      <th></th>\n",
       "      <th></th>\n",
       "      <th></th>\n",
       "      <th></th>\n",
       "    </tr>\n",
       "  </thead>\n",
       "  <tbody>\n",
       "    <tr>\n",
       "      <th>1</th>\n",
       "      <td>276</td>\n",
       "      <td>631</td>\n",
       "      <td>571</td>\n",
       "      <td>480</td>\n",
       "      <td>354</td>\n",
       "      <td>446</td>\n",
       "      <td>436</td>\n",
       "      <td>318</td>\n",
       "      <td>460</td>\n",
       "      <td>656</td>\n",
       "      <td>432</td>\n",
       "      <td>245</td>\n",
       "    </tr>\n",
       "    <tr>\n",
       "      <th>2</th>\n",
       "      <td>274</td>\n",
       "      <td>408</td>\n",
       "      <td>524</td>\n",
       "      <td>327</td>\n",
       "      <td>239</td>\n",
       "      <td>448</td>\n",
       "      <td>492</td>\n",
       "      <td>318</td>\n",
       "      <td>441</td>\n",
       "      <td>463</td>\n",
       "      <td>457</td>\n",
       "      <td>236</td>\n",
       "    </tr>\n",
       "    <tr>\n",
       "      <th>3</th>\n",
       "      <td>252</td>\n",
       "      <td>447</td>\n",
       "      <td>341</td>\n",
       "      <td>321</td>\n",
       "      <td>272</td>\n",
       "      <td>473</td>\n",
       "      <td>401</td>\n",
       "      <td>376</td>\n",
       "      <td>484</td>\n",
       "      <td>346</td>\n",
       "      <td>520</td>\n",
       "      <td>288</td>\n",
       "    </tr>\n",
       "    <tr>\n",
       "      <th>4</th>\n",
       "      <td>379</td>\n",
       "      <td>363</td>\n",
       "      <td>430</td>\n",
       "      <td>276</td>\n",
       "      <td>446</td>\n",
       "      <td>439</td>\n",
       "      <td>338</td>\n",
       "      <td>426</td>\n",
       "      <td>375</td>\n",
       "      <td>487</td>\n",
       "      <td>489</td>\n",
       "      <td>255</td>\n",
       "    </tr>\n",
       "    <tr>\n",
       "      <th>5</th>\n",
       "      <td>360</td>\n",
       "      <td>472</td>\n",
       "      <td>472</td>\n",
       "      <td>231</td>\n",
       "      <td>366</td>\n",
       "      <td>398</td>\n",
       "      <td>429</td>\n",
       "      <td>377</td>\n",
       "      <td>314</td>\n",
       "      <td>411</td>\n",
       "      <td>598</td>\n",
       "      <td>326</td>\n",
       "    </tr>\n",
       "    <tr>\n",
       "      <th>6</th>\n",
       "      <td>254</td>\n",
       "      <td>336</td>\n",
       "      <td>381</td>\n",
       "      <td>324</td>\n",
       "      <td>369</td>\n",
       "      <td>293</td>\n",
       "      <td>400</td>\n",
       "      <td>411</td>\n",
       "      <td>423</td>\n",
       "      <td>477</td>\n",
       "      <td>396</td>\n",
       "      <td>412</td>\n",
       "    </tr>\n",
       "    <tr>\n",
       "      <th>7</th>\n",
       "      <td>263</td>\n",
       "      <td>213</td>\n",
       "      <td>352</td>\n",
       "      <td>349</td>\n",
       "      <td>441</td>\n",
       "      <td>410</td>\n",
       "      <td>382</td>\n",
       "      <td>374</td>\n",
       "      <td>468</td>\n",
       "      <td>455</td>\n",
       "      <td>317</td>\n",
       "      <td>355</td>\n",
       "    </tr>\n",
       "    <tr>\n",
       "      <th>8</th>\n",
       "      <td>301</td>\n",
       "      <td>358</td>\n",
       "      <td>483</td>\n",
       "      <td>405</td>\n",
       "      <td>376</td>\n",
       "      <td>449</td>\n",
       "      <td>443</td>\n",
       "      <td>295</td>\n",
       "      <td>424</td>\n",
       "      <td>482</td>\n",
       "      <td>530</td>\n",
       "      <td>390</td>\n",
       "    </tr>\n",
       "    <tr>\n",
       "      <th>9</th>\n",
       "      <td>236</td>\n",
       "      <td>433</td>\n",
       "      <td>341</td>\n",
       "      <td>438</td>\n",
       "      <td>270</td>\n",
       "      <td>429</td>\n",
       "      <td>487</td>\n",
       "      <td>388</td>\n",
       "      <td>460</td>\n",
       "      <td>360</td>\n",
       "      <td>498</td>\n",
       "      <td>444</td>\n",
       "    </tr>\n",
       "    <tr>\n",
       "      <th>10</th>\n",
       "      <td>123</td>\n",
       "      <td>546</td>\n",
       "      <td>400</td>\n",
       "      <td>407</td>\n",
       "      <td>404</td>\n",
       "      <td>352</td>\n",
       "      <td>392</td>\n",
       "      <td>458</td>\n",
       "      <td>474</td>\n",
       "      <td>367</td>\n",
       "      <td>517</td>\n",
       "      <td>412</td>\n",
       "    </tr>\n",
       "    <tr>\n",
       "      <th>11</th>\n",
       "      <td>263</td>\n",
       "      <td>417</td>\n",
       "      <td>383</td>\n",
       "      <td>304</td>\n",
       "      <td>402</td>\n",
       "      <td>449</td>\n",
       "      <td>343</td>\n",
       "      <td>370</td>\n",
       "      <td>429</td>\n",
       "      <td>469</td>\n",
       "      <td>472</td>\n",
       "      <td>378</td>\n",
       "    </tr>\n",
       "    <tr>\n",
       "      <th>12</th>\n",
       "      <td>262</td>\n",
       "      <td>407</td>\n",
       "      <td>464</td>\n",
       "      <td>347</td>\n",
       "      <td>417</td>\n",
       "      <td>372</td>\n",
       "      <td>446</td>\n",
       "      <td>397</td>\n",
       "      <td>339</td>\n",
       "      <td>486</td>\n",
       "      <td>549</td>\n",
       "      <td>303</td>\n",
       "    </tr>\n",
       "    <tr>\n",
       "      <th>13</th>\n",
       "      <td>376</td>\n",
       "      <td>331</td>\n",
       "      <td>372</td>\n",
       "      <td>426</td>\n",
       "      <td>403</td>\n",
       "      <td>312</td>\n",
       "      <td>461</td>\n",
       "      <td>495</td>\n",
       "      <td>373</td>\n",
       "      <td>406</td>\n",
       "      <td>374</td>\n",
       "      <td>455</td>\n",
       "    </tr>\n",
       "    <tr>\n",
       "      <th>14</th>\n",
       "      <td>278</td>\n",
       "      <td>276</td>\n",
       "      <td>297</td>\n",
       "      <td>343</td>\n",
       "      <td>475</td>\n",
       "      <td>385</td>\n",
       "      <td>466</td>\n",
       "      <td>378</td>\n",
       "      <td>465</td>\n",
       "      <td>402</td>\n",
       "      <td>327</td>\n",
       "      <td>444</td>\n",
       "    </tr>\n",
       "    <tr>\n",
       "      <th>15</th>\n",
       "      <td>345</td>\n",
       "      <td>376</td>\n",
       "      <td>353</td>\n",
       "      <td>383</td>\n",
       "      <td>422</td>\n",
       "      <td>470</td>\n",
       "      <td>442</td>\n",
       "      <td>320</td>\n",
       "      <td>433</td>\n",
       "      <td>482</td>\n",
       "      <td>568</td>\n",
       "      <td>441</td>\n",
       "    </tr>\n",
       "    <tr>\n",
       "      <th>16</th>\n",
       "      <td>269</td>\n",
       "      <td>395</td>\n",
       "      <td>388</td>\n",
       "      <td>428</td>\n",
       "      <td>306</td>\n",
       "      <td>488</td>\n",
       "      <td>455</td>\n",
       "      <td>400</td>\n",
       "      <td>431</td>\n",
       "      <td>410</td>\n",
       "      <td>537</td>\n",
       "      <td>423</td>\n",
       "    </tr>\n",
       "    <tr>\n",
       "      <th>17</th>\n",
       "      <td>300</td>\n",
       "      <td>424</td>\n",
       "      <td>364</td>\n",
       "      <td>413</td>\n",
       "      <td>407</td>\n",
       "      <td>452</td>\n",
       "      <td>342</td>\n",
       "      <td>404</td>\n",
       "      <td>486</td>\n",
       "      <td>329</td>\n",
       "      <td>450</td>\n",
       "      <td>540</td>\n",
       "    </tr>\n",
       "    <tr>\n",
       "      <th>18</th>\n",
       "      <td>383</td>\n",
       "      <td>367</td>\n",
       "      <td>406</td>\n",
       "      <td>313</td>\n",
       "      <td>434</td>\n",
       "      <td>472</td>\n",
       "      <td>278</td>\n",
       "      <td>384</td>\n",
       "      <td>412</td>\n",
       "      <td>399</td>\n",
       "      <td>541</td>\n",
       "      <td>274</td>\n",
       "    </tr>\n",
       "    <tr>\n",
       "      <th>19</th>\n",
       "      <td>351</td>\n",
       "      <td>419</td>\n",
       "      <td>457</td>\n",
       "      <td>351</td>\n",
       "      <td>364</td>\n",
       "      <td>339</td>\n",
       "      <td>420</td>\n",
       "      <td>430</td>\n",
       "      <td>322</td>\n",
       "      <td>525</td>\n",
       "      <td>584</td>\n",
       "      <td>211</td>\n",
       "    </tr>\n",
       "    <tr>\n",
       "      <th>20</th>\n",
       "      <td>356</td>\n",
       "      <td>412</td>\n",
       "      <td>370</td>\n",
       "      <td>418</td>\n",
       "      <td>405</td>\n",
       "      <td>346</td>\n",
       "      <td>396</td>\n",
       "      <td>425</td>\n",
       "      <td>462</td>\n",
       "      <td>508</td>\n",
       "      <td>375</td>\n",
       "      <td>301</td>\n",
       "    </tr>\n",
       "    <tr>\n",
       "      <th>21</th>\n",
       "      <td>389</td>\n",
       "      <td>334</td>\n",
       "      <td>305</td>\n",
       "      <td>430</td>\n",
       "      <td>490</td>\n",
       "      <td>439</td>\n",
       "      <td>487</td>\n",
       "      <td>374</td>\n",
       "      <td>442</td>\n",
       "      <td>452</td>\n",
       "      <td>273</td>\n",
       "      <td>235</td>\n",
       "    </tr>\n",
       "    <tr>\n",
       "      <th>22</th>\n",
       "      <td>401</td>\n",
       "      <td>403</td>\n",
       "      <td>377</td>\n",
       "      <td>432</td>\n",
       "      <td>468</td>\n",
       "      <td>518</td>\n",
       "      <td>412</td>\n",
       "      <td>346</td>\n",
       "      <td>484</td>\n",
       "      <td>464</td>\n",
       "      <td>433</td>\n",
       "      <td>347</td>\n",
       "    </tr>\n",
       "    <tr>\n",
       "      <th>23</th>\n",
       "      <td>287</td>\n",
       "      <td>357</td>\n",
       "      <td>402</td>\n",
       "      <td>501</td>\n",
       "      <td>442</td>\n",
       "      <td>506</td>\n",
       "      <td>449</td>\n",
       "      <td>427</td>\n",
       "      <td>513</td>\n",
       "      <td>427</td>\n",
       "      <td>472</td>\n",
       "      <td>307</td>\n",
       "    </tr>\n",
       "    <tr>\n",
       "      <th>24</th>\n",
       "      <td>232</td>\n",
       "      <td>390</td>\n",
       "      <td>390</td>\n",
       "      <td>389</td>\n",
       "      <td>489</td>\n",
       "      <td>452</td>\n",
       "      <td>345</td>\n",
       "      <td>397</td>\n",
       "      <td>445</td>\n",
       "      <td>313</td>\n",
       "      <td>460</td>\n",
       "      <td>325</td>\n",
       "    </tr>\n",
       "    <tr>\n",
       "      <th>25</th>\n",
       "      <td>325</td>\n",
       "      <td>392</td>\n",
       "      <td>422</td>\n",
       "      <td>291</td>\n",
       "      <td>436</td>\n",
       "      <td>493</td>\n",
       "      <td>272</td>\n",
       "      <td>435</td>\n",
       "      <td>408</td>\n",
       "      <td>448</td>\n",
       "      <td>451</td>\n",
       "      <td>145</td>\n",
       "    </tr>\n",
       "    <tr>\n",
       "      <th>26</th>\n",
       "      <td>362</td>\n",
       "      <td>448</td>\n",
       "      <td>468</td>\n",
       "      <td>420</td>\n",
       "      <td>409</td>\n",
       "      <td>449</td>\n",
       "      <td>399</td>\n",
       "      <td>470</td>\n",
       "      <td>317</td>\n",
       "      <td>470</td>\n",
       "      <td>544</td>\n",
       "      <td>195</td>\n",
       "    </tr>\n",
       "    <tr>\n",
       "      <th>27</th>\n",
       "      <td>381</td>\n",
       "      <td>328</td>\n",
       "      <td>346</td>\n",
       "      <td>455</td>\n",
       "      <td>476</td>\n",
       "      <td>354</td>\n",
       "      <td>359</td>\n",
       "      <td>404</td>\n",
       "      <td>441</td>\n",
       "      <td>439</td>\n",
       "      <td>415</td>\n",
       "      <td>179</td>\n",
       "    </tr>\n",
       "    <tr>\n",
       "      <th>28</th>\n",
       "      <td>383</td>\n",
       "      <td>252</td>\n",
       "      <td>301</td>\n",
       "      <td>392</td>\n",
       "      <td>523</td>\n",
       "      <td>482</td>\n",
       "      <td>437</td>\n",
       "      <td>391</td>\n",
       "      <td>393</td>\n",
       "      <td>366</td>\n",
       "      <td>274</td>\n",
       "      <td>181</td>\n",
       "    </tr>\n",
       "    <tr>\n",
       "      <th>29</th>\n",
       "      <td>479</td>\n",
       "      <td>0</td>\n",
       "      <td>400</td>\n",
       "      <td>422</td>\n",
       "      <td>478</td>\n",
       "      <td>466</td>\n",
       "      <td>405</td>\n",
       "      <td>335</td>\n",
       "      <td>561</td>\n",
       "      <td>420</td>\n",
       "      <td>377</td>\n",
       "      <td>214</td>\n",
       "    </tr>\n",
       "    <tr>\n",
       "      <th>30</th>\n",
       "      <td>515</td>\n",
       "      <td>0</td>\n",
       "      <td>403</td>\n",
       "      <td>494</td>\n",
       "      <td>326</td>\n",
       "      <td>431</td>\n",
       "      <td>440</td>\n",
       "      <td>328</td>\n",
       "      <td>481</td>\n",
       "      <td>471</td>\n",
       "      <td>392</td>\n",
       "      <td>171</td>\n",
       "    </tr>\n",
       "    <tr>\n",
       "      <th>31</th>\n",
       "      <td>312</td>\n",
       "      <td>0</td>\n",
       "      <td>378</td>\n",
       "      <td>0</td>\n",
       "      <td>263</td>\n",
       "      <td>0</td>\n",
       "      <td>399</td>\n",
       "      <td>437</td>\n",
       "      <td>0</td>\n",
       "      <td>344</td>\n",
       "      <td>0</td>\n",
       "      <td>193</td>\n",
       "    </tr>\n",
       "  </tbody>\n",
       "</table>\n",
       "</div>"
      ],
      "text/plain": [
       "Month  January  February  March  April  May  June  July  August  September  \\\n",
       "Day                                                                          \n",
       "1          276       631    571    480  354   446   436     318        460   \n",
       "2          274       408    524    327  239   448   492     318        441   \n",
       "3          252       447    341    321  272   473   401     376        484   \n",
       "4          379       363    430    276  446   439   338     426        375   \n",
       "5          360       472    472    231  366   398   429     377        314   \n",
       "6          254       336    381    324  369   293   400     411        423   \n",
       "7          263       213    352    349  441   410   382     374        468   \n",
       "8          301       358    483    405  376   449   443     295        424   \n",
       "9          236       433    341    438  270   429   487     388        460   \n",
       "10         123       546    400    407  404   352   392     458        474   \n",
       "11         263       417    383    304  402   449   343     370        429   \n",
       "12         262       407    464    347  417   372   446     397        339   \n",
       "13         376       331    372    426  403   312   461     495        373   \n",
       "14         278       276    297    343  475   385   466     378        465   \n",
       "15         345       376    353    383  422   470   442     320        433   \n",
       "16         269       395    388    428  306   488   455     400        431   \n",
       "17         300       424    364    413  407   452   342     404        486   \n",
       "18         383       367    406    313  434   472   278     384        412   \n",
       "19         351       419    457    351  364   339   420     430        322   \n",
       "20         356       412    370    418  405   346   396     425        462   \n",
       "21         389       334    305    430  490   439   487     374        442   \n",
       "22         401       403    377    432  468   518   412     346        484   \n",
       "23         287       357    402    501  442   506   449     427        513   \n",
       "24         232       390    390    389  489   452   345     397        445   \n",
       "25         325       392    422    291  436   493   272     435        408   \n",
       "26         362       448    468    420  409   449   399     470        317   \n",
       "27         381       328    346    455  476   354   359     404        441   \n",
       "28         383       252    301    392  523   482   437     391        393   \n",
       "29         479         0    400    422  478   466   405     335        561   \n",
       "30         515         0    403    494  326   431   440     328        481   \n",
       "31         312         0    378      0  263     0   399     437          0   \n",
       "\n",
       "Month  October  November  December  \n",
       "Day                                 \n",
       "1          656       432       245  \n",
       "2          463       457       236  \n",
       "3          346       520       288  \n",
       "4          487       489       255  \n",
       "5          411       598       326  \n",
       "6          477       396       412  \n",
       "7          455       317       355  \n",
       "8          482       530       390  \n",
       "9          360       498       444  \n",
       "10         367       517       412  \n",
       "11         469       472       378  \n",
       "12         486       549       303  \n",
       "13         406       374       455  \n",
       "14         402       327       444  \n",
       "15         482       568       441  \n",
       "16         410       537       423  \n",
       "17         329       450       540  \n",
       "18         399       541       274  \n",
       "19         525       584       211  \n",
       "20         508       375       301  \n",
       "21         452       273       235  \n",
       "22         464       433       347  \n",
       "23         427       472       307  \n",
       "24         313       460       325  \n",
       "25         448       451       145  \n",
       "26         470       544       195  \n",
       "27         439       415       179  \n",
       "28         366       274       181  \n",
       "29         420       377       214  \n",
       "30         471       392       171  \n",
       "31         344         0       193  "
      ]
     },
     "execution_count": 134,
     "metadata": {},
     "output_type": "execute_result"
    }
   ],
   "source": [
    "accident_2022.groupby(['Day','Month'], observed=False).size().unstack()"
   ]
  },
  {
   "cell_type": "markdown",
   "id": "3385dcdf-60ea-431e-9f92-c524677ea1e9",
   "metadata": {},
   "source": [
    "<h3>Insight 17: In October 31, There are 344 accidents. In November 1, there 432 accidents. The Day in October and November which has the highest accidents is October 1 and November 5. This means that Halloween event does not heighten the amount of accidents. But, it does lower the accident rate for October 31, the start of Halloween."
   ]
  },
  {
   "cell_type": "code",
   "execution_count": 135,
   "id": "703b63d0-b9f6-4aaa-a32b-c5419730ec39",
   "metadata": {},
   "outputs": [
    {
     "data": {
      "text/html": [
       "<div>\n",
       "<style scoped>\n",
       "    .dataframe tbody tr th:only-of-type {\n",
       "        vertical-align: middle;\n",
       "    }\n",
       "\n",
       "    .dataframe tbody tr th {\n",
       "        vertical-align: top;\n",
       "    }\n",
       "\n",
       "    .dataframe thead th {\n",
       "        text-align: right;\n",
       "    }\n",
       "</style>\n",
       "<table border=\"1\" class=\"dataframe\">\n",
       "  <thead>\n",
       "    <tr style=\"text-align: right;\">\n",
       "      <th></th>\n",
       "      <th>Index</th>\n",
       "      <th>Accident_Severity</th>\n",
       "      <th>Accident Date</th>\n",
       "      <th>Latitude</th>\n",
       "      <th>Light_Conditions</th>\n",
       "      <th>District Area</th>\n",
       "      <th>Longitude</th>\n",
       "      <th>Number_of_Casualties</th>\n",
       "      <th>Number_of_Vehicles</th>\n",
       "      <th>Road_Surface_Conditions</th>\n",
       "      <th>Road_Type</th>\n",
       "      <th>Urban_or_Rural_Area</th>\n",
       "      <th>Weather_Conditions</th>\n",
       "      <th>Vehicle_Type</th>\n",
       "      <th>Year</th>\n",
       "      <th>Month</th>\n",
       "      <th>Day</th>\n",
       "      <th>DaysOfWeek</th>\n",
       "    </tr>\n",
       "  </thead>\n",
       "  <tbody>\n",
       "    <tr>\n",
       "      <th>0</th>\n",
       "      <td>200701BS64157</td>\n",
       "      <td>Serious</td>\n",
       "      <td>2019-06-05</td>\n",
       "      <td>51.506187</td>\n",
       "      <td>Darkness - lights lit</td>\n",
       "      <td>Kensington and Chelsea</td>\n",
       "      <td>-0.209082</td>\n",
       "      <td>1</td>\n",
       "      <td>2</td>\n",
       "      <td>Dry</td>\n",
       "      <td>Single carriageway</td>\n",
       "      <td>Urban</td>\n",
       "      <td>Fine no high winds</td>\n",
       "      <td>Car</td>\n",
       "      <td>2019</td>\n",
       "      <td>June</td>\n",
       "      <td>5</td>\n",
       "      <td>Wednesday</td>\n",
       "    </tr>\n",
       "    <tr>\n",
       "      <th>1</th>\n",
       "      <td>200701BS65737</td>\n",
       "      <td>Serious</td>\n",
       "      <td>2019-07-02</td>\n",
       "      <td>51.495029</td>\n",
       "      <td>Daylight</td>\n",
       "      <td>Kensington and Chelsea</td>\n",
       "      <td>-0.173647</td>\n",
       "      <td>1</td>\n",
       "      <td>2</td>\n",
       "      <td>Wet or damp</td>\n",
       "      <td>Single carriageway</td>\n",
       "      <td>Urban</td>\n",
       "      <td>Raining no high winds</td>\n",
       "      <td>Car</td>\n",
       "      <td>2019</td>\n",
       "      <td>July</td>\n",
       "      <td>2</td>\n",
       "      <td>Tuesday</td>\n",
       "    </tr>\n",
       "    <tr>\n",
       "      <th>2</th>\n",
       "      <td>200701BS66127</td>\n",
       "      <td>Serious</td>\n",
       "      <td>2019-08-26</td>\n",
       "      <td>51.517715</td>\n",
       "      <td>Darkness - lighting unknown</td>\n",
       "      <td>Kensington and Chelsea</td>\n",
       "      <td>-0.210215</td>\n",
       "      <td>1</td>\n",
       "      <td>3</td>\n",
       "      <td>Dry</td>\n",
       "      <td>Unaccounted Road Type</td>\n",
       "      <td>Urban</td>\n",
       "      <td>Unaccounted Weather Cobditions</td>\n",
       "      <td>Taxi/Private hire car</td>\n",
       "      <td>2019</td>\n",
       "      <td>August</td>\n",
       "      <td>26</td>\n",
       "      <td>Monday</td>\n",
       "    </tr>\n",
       "    <tr>\n",
       "      <th>3</th>\n",
       "      <td>200701BS66128</td>\n",
       "      <td>Serious</td>\n",
       "      <td>2019-08-16</td>\n",
       "      <td>51.495478</td>\n",
       "      <td>Daylight</td>\n",
       "      <td>Kensington and Chelsea</td>\n",
       "      <td>-0.202731</td>\n",
       "      <td>1</td>\n",
       "      <td>4</td>\n",
       "      <td>Dry</td>\n",
       "      <td>Single carriageway</td>\n",
       "      <td>Urban</td>\n",
       "      <td>Fine no high winds</td>\n",
       "      <td>Bus or coach (17 or more pass seats)</td>\n",
       "      <td>2019</td>\n",
       "      <td>August</td>\n",
       "      <td>16</td>\n",
       "      <td>Friday</td>\n",
       "    </tr>\n",
       "    <tr>\n",
       "      <th>4</th>\n",
       "      <td>200701BS66837</td>\n",
       "      <td>Slight</td>\n",
       "      <td>2019-09-03</td>\n",
       "      <td>51.488576</td>\n",
       "      <td>Darkness - lights lit</td>\n",
       "      <td>Kensington and Chelsea</td>\n",
       "      <td>-0.192487</td>\n",
       "      <td>1</td>\n",
       "      <td>2</td>\n",
       "      <td>Dry</td>\n",
       "      <td>Unaccounted Road Type</td>\n",
       "      <td>Urban</td>\n",
       "      <td>Unaccounted Weather Cobditions</td>\n",
       "      <td>Other vehicle</td>\n",
       "      <td>2019</td>\n",
       "      <td>September</td>\n",
       "      <td>3</td>\n",
       "      <td>Tuesday</td>\n",
       "    </tr>\n",
       "    <tr>\n",
       "      <th>...</th>\n",
       "      <td>...</td>\n",
       "      <td>...</td>\n",
       "      <td>...</td>\n",
       "      <td>...</td>\n",
       "      <td>...</td>\n",
       "      <td>...</td>\n",
       "      <td>...</td>\n",
       "      <td>...</td>\n",
       "      <td>...</td>\n",
       "      <td>...</td>\n",
       "      <td>...</td>\n",
       "      <td>...</td>\n",
       "      <td>...</td>\n",
       "      <td>...</td>\n",
       "      <td>...</td>\n",
       "      <td>...</td>\n",
       "      <td>...</td>\n",
       "      <td>...</td>\n",
       "    </tr>\n",
       "    <tr>\n",
       "      <th>660674</th>\n",
       "      <td>201091NM01760</td>\n",
       "      <td>Slight</td>\n",
       "      <td>2022-02-18</td>\n",
       "      <td>57.374005</td>\n",
       "      <td>Daylight</td>\n",
       "      <td>Highland</td>\n",
       "      <td>-3.467828</td>\n",
       "      <td>2</td>\n",
       "      <td>1</td>\n",
       "      <td>Dry</td>\n",
       "      <td>Single carriageway</td>\n",
       "      <td>Rural</td>\n",
       "      <td>Fine no high winds</td>\n",
       "      <td>Car</td>\n",
       "      <td>2022</td>\n",
       "      <td>February</td>\n",
       "      <td>18</td>\n",
       "      <td>Friday</td>\n",
       "    </tr>\n",
       "    <tr>\n",
       "      <th>660675</th>\n",
       "      <td>201091NM01881</td>\n",
       "      <td>Slight</td>\n",
       "      <td>2022-02-21</td>\n",
       "      <td>57.232273</td>\n",
       "      <td>Darkness - no lighting</td>\n",
       "      <td>Highland</td>\n",
       "      <td>-3.809281</td>\n",
       "      <td>1</td>\n",
       "      <td>1</td>\n",
       "      <td>Frost or ice</td>\n",
       "      <td>Single carriageway</td>\n",
       "      <td>Rural</td>\n",
       "      <td>Fine no high winds</td>\n",
       "      <td>Car</td>\n",
       "      <td>2022</td>\n",
       "      <td>February</td>\n",
       "      <td>21</td>\n",
       "      <td>Monday</td>\n",
       "    </tr>\n",
       "    <tr>\n",
       "      <th>660676</th>\n",
       "      <td>201091NM01935</td>\n",
       "      <td>Slight</td>\n",
       "      <td>2022-02-23</td>\n",
       "      <td>57.585044</td>\n",
       "      <td>Daylight</td>\n",
       "      <td>Highland</td>\n",
       "      <td>-3.862727</td>\n",
       "      <td>1</td>\n",
       "      <td>3</td>\n",
       "      <td>Frost or ice</td>\n",
       "      <td>Single carriageway</td>\n",
       "      <td>Rural</td>\n",
       "      <td>Fine no high winds</td>\n",
       "      <td>Car</td>\n",
       "      <td>2022</td>\n",
       "      <td>February</td>\n",
       "      <td>23</td>\n",
       "      <td>Wednesday</td>\n",
       "    </tr>\n",
       "    <tr>\n",
       "      <th>660677</th>\n",
       "      <td>201091NM01964</td>\n",
       "      <td>Serious</td>\n",
       "      <td>2022-02-23</td>\n",
       "      <td>57.214898</td>\n",
       "      <td>Darkness - no lighting</td>\n",
       "      <td>Highland</td>\n",
       "      <td>-3.823997</td>\n",
       "      <td>1</td>\n",
       "      <td>2</td>\n",
       "      <td>Wet or damp</td>\n",
       "      <td>Single carriageway</td>\n",
       "      <td>Rural</td>\n",
       "      <td>Fine no high winds</td>\n",
       "      <td>Motorcycle over 500cc</td>\n",
       "      <td>2022</td>\n",
       "      <td>February</td>\n",
       "      <td>23</td>\n",
       "      <td>Wednesday</td>\n",
       "    </tr>\n",
       "    <tr>\n",
       "      <th>660678</th>\n",
       "      <td>201091NM02142</td>\n",
       "      <td>Serious</td>\n",
       "      <td>2022-02-28</td>\n",
       "      <td>57.575210</td>\n",
       "      <td>Daylight</td>\n",
       "      <td>Highland</td>\n",
       "      <td>-3.895673</td>\n",
       "      <td>1</td>\n",
       "      <td>1</td>\n",
       "      <td>Wet or damp</td>\n",
       "      <td>Dual carriageway</td>\n",
       "      <td>Rural</td>\n",
       "      <td>Snowing no high winds</td>\n",
       "      <td>Car</td>\n",
       "      <td>2022</td>\n",
       "      <td>February</td>\n",
       "      <td>28</td>\n",
       "      <td>Monday</td>\n",
       "    </tr>\n",
       "  </tbody>\n",
       "</table>\n",
       "<p>660679 rows × 18 columns</p>\n",
       "</div>"
      ],
      "text/plain": [
       "                Index Accident_Severity Accident Date   Latitude  \\\n",
       "0       200701BS64157           Serious    2019-06-05  51.506187   \n",
       "1       200701BS65737           Serious    2019-07-02  51.495029   \n",
       "2       200701BS66127           Serious    2019-08-26  51.517715   \n",
       "3       200701BS66128           Serious    2019-08-16  51.495478   \n",
       "4       200701BS66837            Slight    2019-09-03  51.488576   \n",
       "...               ...               ...           ...        ...   \n",
       "660674  201091NM01760            Slight    2022-02-18  57.374005   \n",
       "660675  201091NM01881            Slight    2022-02-21  57.232273   \n",
       "660676  201091NM01935            Slight    2022-02-23  57.585044   \n",
       "660677  201091NM01964           Serious    2022-02-23  57.214898   \n",
       "660678  201091NM02142           Serious    2022-02-28  57.575210   \n",
       "\n",
       "                   Light_Conditions           District Area Longitude  \\\n",
       "0             Darkness - lights lit  Kensington and Chelsea -0.209082   \n",
       "1                          Daylight  Kensington and Chelsea -0.173647   \n",
       "2       Darkness - lighting unknown  Kensington and Chelsea -0.210215   \n",
       "3                          Daylight  Kensington and Chelsea -0.202731   \n",
       "4             Darkness - lights lit  Kensington and Chelsea -0.192487   \n",
       "...                             ...                     ...       ...   \n",
       "660674                     Daylight                Highland -3.467828   \n",
       "660675       Darkness - no lighting                Highland -3.809281   \n",
       "660676                     Daylight                Highland -3.862727   \n",
       "660677       Darkness - no lighting                Highland -3.823997   \n",
       "660678                     Daylight                Highland -3.895673   \n",
       "\n",
       "        Number_of_Casualties  Number_of_Vehicles Road_Surface_Conditions  \\\n",
       "0                          1                   2                     Dry   \n",
       "1                          1                   2             Wet or damp   \n",
       "2                          1                   3                     Dry   \n",
       "3                          1                   4                     Dry   \n",
       "4                          1                   2                     Dry   \n",
       "...                      ...                 ...                     ...   \n",
       "660674                     2                   1                     Dry   \n",
       "660675                     1                   1            Frost or ice   \n",
       "660676                     1                   3            Frost or ice   \n",
       "660677                     1                   2             Wet or damp   \n",
       "660678                     1                   1             Wet or damp   \n",
       "\n",
       "                    Road_Type Urban_or_Rural_Area  \\\n",
       "0          Single carriageway               Urban   \n",
       "1          Single carriageway               Urban   \n",
       "2       Unaccounted Road Type               Urban   \n",
       "3          Single carriageway               Urban   \n",
       "4       Unaccounted Road Type               Urban   \n",
       "...                       ...                 ...   \n",
       "660674     Single carriageway               Rural   \n",
       "660675     Single carriageway               Rural   \n",
       "660676     Single carriageway               Rural   \n",
       "660677     Single carriageway               Rural   \n",
       "660678       Dual carriageway               Rural   \n",
       "\n",
       "                    Weather_Conditions                          Vehicle_Type  \\\n",
       "0                   Fine no high winds                                   Car   \n",
       "1                Raining no high winds                                   Car   \n",
       "2       Unaccounted Weather Cobditions                 Taxi/Private hire car   \n",
       "3                   Fine no high winds  Bus or coach (17 or more pass seats)   \n",
       "4       Unaccounted Weather Cobditions                         Other vehicle   \n",
       "...                                ...                                   ...   \n",
       "660674              Fine no high winds                                   Car   \n",
       "660675              Fine no high winds                                   Car   \n",
       "660676              Fine no high winds                                   Car   \n",
       "660677              Fine no high winds                 Motorcycle over 500cc   \n",
       "660678           Snowing no high winds                                   Car   \n",
       "\n",
       "        Year      Month Day DaysOfWeek  \n",
       "0       2019       June   5  Wednesday  \n",
       "1       2019       July   2    Tuesday  \n",
       "2       2019     August  26     Monday  \n",
       "3       2019     August  16     Friday  \n",
       "4       2019  September   3    Tuesday  \n",
       "...      ...        ...  ..        ...  \n",
       "660674  2022   February  18     Friday  \n",
       "660675  2022   February  21     Monday  \n",
       "660676  2022   February  23  Wednesday  \n",
       "660677  2022   February  23  Wednesday  \n",
       "660678  2022   February  28     Monday  \n",
       "\n",
       "[660679 rows x 18 columns]"
      ]
     },
     "execution_count": 135,
     "metadata": {},
     "output_type": "execute_result"
    }
   ],
   "source": [
    "accident"
   ]
  },
  {
   "cell_type": "markdown",
   "id": "e51e857b-df4e-4d0e-9f21-a23977d89c91",
   "metadata": {},
   "source": [
    "<h2>Question: Using the recent years from 2020 to 2022, Which District Area is most prone to accidents? </h2>"
   ]
  },
  {
   "cell_type": "code",
   "execution_count": 152,
   "id": "cdf1b135-074b-4c4e-9226-b08004b40010",
   "metadata": {},
   "outputs": [],
   "source": [
    "accident_2019 = accident[accident['Year'] == 2019]\n",
    "accident_2020 = accident[accident['Year'] == 2020]\n",
    "accident_2021 = accident[accident['Year'] == 2021]\n",
    "accident_2022 = accident[accident['Year'] == 2022]"
   ]
  },
  {
   "cell_type": "code",
   "execution_count": 156,
   "id": "8f215e78-b1f3-4aa3-a3f7-412cca4bd5de",
   "metadata": {},
   "outputs": [
    {
     "data": {
      "text/plain": [
       "District Area\n",
       "Birmingham                   3506\n",
       "Leeds                        2333\n",
       "Manchester                   1756\n",
       "Glasgow City                 1651\n",
       "Bradford                     1570\n",
       "                             ... \n",
       "Cheshire East                   0\n",
       "Northumberland                  0\n",
       "Central Bedfordshire            0\n",
       "Cheshire West and Chester       0\n",
       "Cornwall                        0\n",
       "Name: count, Length: 422, dtype: int64"
      ]
     },
     "execution_count": 156,
     "metadata": {},
     "output_type": "execute_result"
    }
   ],
   "source": [
    "accident_2020['District Area'].value_counts()"
   ]
  },
  {
   "cell_type": "code",
   "execution_count": 154,
   "id": "edf7d571-93c4-4494-b5c3-247113e9b21d",
   "metadata": {},
   "outputs": [
    {
     "data": {
      "text/plain": [
       "District Area\n",
       "Birmingham            3289\n",
       "Leeds                 2186\n",
       "Manchester            1707\n",
       "Bradford              1567\n",
       "Glasgow City          1509\n",
       "                      ... \n",
       "Chester-le-Street       25\n",
       "Alnwick                 20\n",
       "South Shropshire        18\n",
       "Teesdale                15\n",
       "Berwick-upon-Tweed      13\n",
       "Name: count, Length: 422, dtype: int64"
      ]
     },
     "execution_count": 154,
     "metadata": {},
     "output_type": "execute_result"
    }
   ],
   "source": [
    "accident_2021['District Area'].value_counts()"
   ]
  },
  {
   "cell_type": "code",
   "execution_count": 155,
   "id": "422ebf0c-de5f-4d31-bbe1-11ed21a4ca8b",
   "metadata": {},
   "outputs": [
    {
     "data": {
      "text/plain": [
       "District Area\n",
       "Birmingham          2876\n",
       "Leeds               1954\n",
       "Bradford            1439\n",
       "Manchester          1425\n",
       "Westminster         1421\n",
       "                    ... \n",
       "Aberdeenshire          0\n",
       "Mid Bedfordshire       0\n",
       "Midlothian             0\n",
       "Moray                  0\n",
       "Aberdeen City          0\n",
       "Name: count, Length: 422, dtype: int64"
      ]
     },
     "execution_count": 155,
     "metadata": {},
     "output_type": "execute_result"
    }
   ],
   "source": [
    "accident_2022['District Area'].value_counts()"
   ]
  },
  {
   "cell_type": "markdown",
   "id": "fa1a83df-11fc-42ab-b4fd-c7f561d39704",
   "metadata": {},
   "source": [
    "<h3>Insight 18: The district that is most prone to accidents is Birmingham, followed by Leeds, and Manchester.</h3>"
   ]
  },
  {
   "cell_type": "markdown",
   "id": "3c147173-c773-40fc-802a-98e2a7a082e8",
   "metadata": {},
   "source": [
    "<h3>Question: From the data frame, what is the Road Type that causes the most accidents?</h3>"
   ]
  },
  {
   "cell_type": "code",
   "execution_count": 211,
   "id": "16c45e2c-79ee-4f45-af90-936c11783bd8",
   "metadata": {},
   "outputs": [],
   "source": [
    "roadtype = accident['Road_Type'].value_counts()"
   ]
  },
  {
   "cell_type": "code",
   "execution_count": 212,
   "id": "05947d0f-7b1a-4948-b178-45b2d3e33c37",
   "metadata": {},
   "outputs": [],
   "source": [
    "total = accident['Road_Type'].value_counts().sum()"
   ]
  },
  {
   "cell_type": "code",
   "execution_count": 219,
   "id": "79aa4ec9-0881-432c-9ba6-062e18e2bd1c",
   "metadata": {},
   "outputs": [
    {
     "data": {
      "text/html": [
       "<div>\n",
       "<style scoped>\n",
       "    .dataframe tbody tr th:only-of-type {\n",
       "        vertical-align: middle;\n",
       "    }\n",
       "\n",
       "    .dataframe tbody tr th {\n",
       "        vertical-align: top;\n",
       "    }\n",
       "\n",
       "    .dataframe thead th {\n",
       "        text-align: right;\n",
       "    }\n",
       "</style>\n",
       "<table border=\"1\" class=\"dataframe\">\n",
       "  <thead>\n",
       "    <tr style=\"text-align: right;\">\n",
       "      <th>Road_Type</th>\n",
       "      <th>Dual carriageway</th>\n",
       "      <th>One way street</th>\n",
       "      <th>Roundabout</th>\n",
       "      <th>Single carriageway</th>\n",
       "      <th>Slip road</th>\n",
       "      <th>Unaccounted Road Type</th>\n",
       "    </tr>\n",
       "    <tr>\n",
       "      <th>Accident_Severity</th>\n",
       "      <th></th>\n",
       "      <th></th>\n",
       "      <th></th>\n",
       "      <th></th>\n",
       "      <th></th>\n",
       "      <th></th>\n",
       "    </tr>\n",
       "  </thead>\n",
       "  <tbody>\n",
       "    <tr>\n",
       "      <th>Fatal</th>\n",
       "      <td>1815</td>\n",
       "      <td>95</td>\n",
       "      <td>142</td>\n",
       "      <td>6527</td>\n",
       "      <td>49</td>\n",
       "      <td>33</td>\n",
       "    </tr>\n",
       "    <tr>\n",
       "      <th>Serious</th>\n",
       "      <td>11746</td>\n",
       "      <td>1655</td>\n",
       "      <td>3665</td>\n",
       "      <td>70059</td>\n",
       "      <td>611</td>\n",
       "      <td>481</td>\n",
       "    </tr>\n",
       "    <tr>\n",
       "      <th>Slight</th>\n",
       "      <td>85863</td>\n",
       "      <td>11809</td>\n",
       "      <td>40185</td>\n",
       "      <td>415557</td>\n",
       "      <td>6381</td>\n",
       "      <td>4006</td>\n",
       "    </tr>\n",
       "  </tbody>\n",
       "</table>\n",
       "</div>"
      ],
      "text/plain": [
       "Road_Type          Dual carriageway  One way street  Roundabout  \\\n",
       "Accident_Severity                                                 \n",
       "Fatal                          1815              95         142   \n",
       "Serious                       11746            1655        3665   \n",
       "Slight                        85863           11809       40185   \n",
       "\n",
       "Road_Type          Single carriageway  Slip road  Unaccounted Road Type  \n",
       "Accident_Severity                                                        \n",
       "Fatal                            6527         49                     33  \n",
       "Serious                         70059        611                    481  \n",
       "Slight                         415557       6381                   4006  "
      ]
     },
     "execution_count": 219,
     "metadata": {},
     "output_type": "execute_result"
    }
   ],
   "source": [
    "accident.groupby(['Accident_Severity','Road_Type'], observed=False).size().unstack()"
   ]
  },
  {
   "cell_type": "code",
   "execution_count": 220,
   "id": "8fea138f-fe3e-4219-a26e-745799e57e7a",
   "metadata": {},
   "outputs": [
    {
     "data": {
      "text/plain": [
       "Road_Type\n",
       "Single carriageway       0.744905\n",
       "Dual carriageway         0.150488\n",
       "Roundabout               0.066586\n",
       "One way street           0.020523\n",
       "Slip road                0.010657\n",
       "Unaccounted Road Type    0.006841\n",
       "Name: count, dtype: float64"
      ]
     },
     "execution_count": 220,
     "metadata": {},
     "output_type": "execute_result"
    }
   ],
   "source": [
    "roadtype / total"
   ]
  },
  {
   "cell_type": "markdown",
   "id": "129ff0d4-dc8e-4387-90ac-a149d3df7857",
   "metadata": {},
   "source": [
    "<h3>Insight 19: The road type that has the highest accident is Single carriageway. Single Carriageway causes 74% of the accidents.</h3>"
   ]
  },
  {
   "cell_type": "markdown",
   "id": "4a89d1f7-81cc-4f4c-a409-6e56eb09c467",
   "metadata": {},
   "source": [
    "<h2>Question: Which Day of the week has the most amount of accidents?</h2>"
   ]
  },
  {
   "cell_type": "code",
   "execution_count": 223,
   "id": "14024097-bd54-4182-8089-a169a3fec10f",
   "metadata": {},
   "outputs": [
    {
     "data": {
      "text/plain": [
       "DaysOfWeek\n",
       "Saturday     107178\n",
       "Wednesday     99558\n",
       "Thursday      99511\n",
       "Friday        97900\n",
       "Tuesday       94550\n",
       "Sunday        89302\n",
       "Monday        72680\n",
       "Name: count, dtype: int64"
      ]
     },
     "execution_count": 223,
     "metadata": {},
     "output_type": "execute_result"
    }
   ],
   "source": [
    "accident['DaysOfWeek'].value_counts()"
   ]
  },
  {
   "cell_type": "markdown",
   "id": "73caa122-ad88-4717-b24a-a8958ff110c0",
   "metadata": {},
   "source": [
    "<h3>Insight 20: The day of the week that has the most accidents is Saturday. This might be because more people are going out to relax or spend time out of work. Causing them to travel and go outside which makes them prone to higher chances of accidents.\n",
    "</h3>"
   ]
  },
  {
   "cell_type": "code",
   "execution_count": null,
   "id": "48faf604-ab30-4793-8ab3-ae276a792cad",
   "metadata": {},
   "outputs": [],
   "source": []
  },
  {
   "cell_type": "code",
   "execution_count": null,
   "id": "a512adbc-6a95-4fa4-b1fb-c7a443fc3a31",
   "metadata": {},
   "outputs": [],
   "source": []
  },
  {
   "cell_type": "code",
   "execution_count": null,
   "id": "43a748ee-070a-4aa2-9460-42c8b9f7744a",
   "metadata": {},
   "outputs": [],
   "source": []
  },
  {
   "cell_type": "code",
   "execution_count": null,
   "id": "41ad6e33-86f9-4161-beef-d00f7fcde86d",
   "metadata": {},
   "outputs": [],
   "source": []
  }
 ],
 "metadata": {
  "kernelspec": {
   "display_name": "Python 3 (ipykernel)",
   "language": "python",
   "name": "python3"
  },
  "language_info": {
   "codemirror_mode": {
    "name": "ipython",
    "version": 3
   },
   "file_extension": ".py",
   "mimetype": "text/x-python",
   "name": "python",
   "nbconvert_exporter": "python",
   "pygments_lexer": "ipython3",
   "version": "3.11.4"
  }
 },
 "nbformat": 4,
 "nbformat_minor": 5
}
