{
 "cells": [
  {
   "cell_type": "markdown",
   "id": "e0e731d2-6dbd-47b1-89b1-80d8e3d0b931",
   "metadata": {},
   "source": [
    "<h2>Josh Vrylle Castillo</h2>\n",
    "<h3>Data Analysis on Accidents</h3>"
   ]
  },
  {
   "cell_type": "markdown",
   "id": "e65bc867-3307-446a-b921-abe9eb534273",
   "metadata": {},
   "source": [
    "<h3>Installing and Importing Modules</h3>"
   ]
  },
  {
   "cell_type": "code",
   "execution_count": 1,
   "id": "3a156c02-f47a-4331-a56b-c4f38095c0df",
   "metadata": {},
   "outputs": [
    {
     "name": "stdout",
     "output_type": "stream",
     "text": [
      "Requirement already satisfied: numpy in c:\\users\\joshc\\appdata\\local\\programs\\python\\python311\\lib\\site-packages (1.26.2)Note: you may need to restart the kernel to use updated packages.\n",
      "\n"
     ]
    },
    {
     "name": "stderr",
     "output_type": "stream",
     "text": [
      "\n",
      "[notice] A new release of pip is available: 24.0 -> 25.0.1\n",
      "[notice] To update, run: python.exe -m pip install --upgrade pip\n"
     ]
    }
   ],
   "source": [
    "pip install numpy"
   ]
  },
  {
   "cell_type": "code",
   "execution_count": 2,
   "id": "7ba2a3db-d70a-472b-baa0-e4f1fc02df6a",
   "metadata": {},
   "outputs": [
    {
     "name": "stdout",
     "output_type": "stream",
     "text": [
      "Requirement already satisfied: seaborn in c:\\users\\joshc\\appdata\\local\\programs\\python\\python311\\lib\\site-packages (0.13.0)\n",
      "Requirement already satisfied: numpy!=1.24.0,>=1.20 in c:\\users\\joshc\\appdata\\local\\programs\\python\\python311\\lib\\site-packages (from seaborn) (1.26.2)\n",
      "Requirement already satisfied: pandas>=1.2 in c:\\users\\joshc\\appdata\\local\\programs\\python\\python311\\lib\\site-packages (from seaborn) (2.1.4)\n",
      "Requirement already satisfied: matplotlib!=3.6.1,>=3.3 in c:\\users\\joshc\\appdata\\local\\programs\\python\\python311\\lib\\site-packages (from seaborn) (3.8.2)\n",
      "Requirement already satisfied: contourpy>=1.0.1 in c:\\users\\joshc\\appdata\\local\\programs\\python\\python311\\lib\\site-packages (from matplotlib!=3.6.1,>=3.3->seaborn) (1.2.0)\n",
      "Requirement already satisfied: cycler>=0.10 in c:\\users\\joshc\\appdata\\local\\programs\\python\\python311\\lib\\site-packages (from matplotlib!=3.6.1,>=3.3->seaborn) (0.12.1)\n",
      "Requirement already satisfied: fonttools>=4.22.0 in c:\\users\\joshc\\appdata\\local\\programs\\python\\python311\\lib\\site-packages (from matplotlib!=3.6.1,>=3.3->seaborn) (4.45.1)\n",
      "Requirement already satisfied: kiwisolver>=1.3.1 in c:\\users\\joshc\\appdata\\local\\programs\\python\\python311\\lib\\site-packages (from matplotlib!=3.6.1,>=3.3->seaborn) (1.4.5)\n",
      "Requirement already satisfied: packaging>=20.0 in c:\\users\\joshc\\appdata\\roaming\\python\\python311\\site-packages (from matplotlib!=3.6.1,>=3.3->seaborn) (23.2)\n",
      "Requirement already satisfied: pillow>=8 in c:\\users\\joshc\\appdata\\local\\programs\\python\\python311\\lib\\site-packages (from matplotlib!=3.6.1,>=3.3->seaborn) (10.1.0)\n",
      "Requirement already satisfied: pyparsing>=2.3.1 in c:\\users\\joshc\\appdata\\local\\programs\\python\\python311\\lib\\site-packages (from matplotlib!=3.6.1,>=3.3->seaborn) (3.1.1)\n",
      "Requirement already satisfied: python-dateutil>=2.7 in c:\\users\\joshc\\appdata\\roaming\\python\\python311\\site-packages (from matplotlib!=3.6.1,>=3.3->seaborn) (2.8.2)\n",
      "Requirement already satisfied: pytz>=2020.1 in c:\\users\\joshc\\appdata\\local\\programs\\python\\python311\\lib\\site-packages (from pandas>=1.2->seaborn) (2023.3.post1)\n",
      "Requirement already satisfied: tzdata>=2022.1 in c:\\users\\joshc\\appdata\\local\\programs\\python\\python311\\lib\\site-packages (from pandas>=1.2->seaborn) (2023.3)\n",
      "Requirement already satisfied: six>=1.5 in c:\\users\\joshc\\appdata\\roaming\\python\\python311\\site-packages (from python-dateutil>=2.7->matplotlib!=3.6.1,>=3.3->seaborn) (1.16.0)\n",
      "Note: you may need to restart the kernel to use updated packages.\n"
     ]
    },
    {
     "name": "stderr",
     "output_type": "stream",
     "text": [
      "\n",
      "[notice] A new release of pip is available: 24.0 -> 25.0.1\n",
      "[notice] To update, run: python.exe -m pip install --upgrade pip\n"
     ]
    }
   ],
   "source": [
    "pip install seaborn"
   ]
  },
  {
   "cell_type": "code",
   "execution_count": 3,
   "id": "87a854c6-6386-4860-83c7-05dffbd93b93",
   "metadata": {},
   "outputs": [
    {
     "name": "stdout",
     "output_type": "stream",
     "text": [
      "Requirement already satisfied: pandas in c:\\users\\joshc\\appdata\\local\\programs\\python\\python311\\lib\\site-packages (2.1.4)\n",
      "Requirement already satisfied: numpy<2,>=1.23.2 in c:\\users\\joshc\\appdata\\local\\programs\\python\\python311\\lib\\site-packages (from pandas) (1.26.2)\n",
      "Requirement already satisfied: python-dateutil>=2.8.2 in c:\\users\\joshc\\appdata\\roaming\\python\\python311\\site-packages (from pandas) (2.8.2)\n",
      "Requirement already satisfied: pytz>=2020.1 in c:\\users\\joshc\\appdata\\local\\programs\\python\\python311\\lib\\site-packages (from pandas) (2023.3.post1)\n",
      "Requirement already satisfied: tzdata>=2022.1 in c:\\users\\joshc\\appdata\\local\\programs\\python\\python311\\lib\\site-packages (from pandas) (2023.3)\n",
      "Requirement already satisfied: six>=1.5 in c:\\users\\joshc\\appdata\\roaming\\python\\python311\\site-packages (from python-dateutil>=2.8.2->pandas) (1.16.0)\n",
      "Note: you may need to restart the kernel to use updated packages.\n"
     ]
    },
    {
     "name": "stderr",
     "output_type": "stream",
     "text": [
      "\n",
      "[notice] A new release of pip is available: 24.0 -> 25.0.1\n",
      "[notice] To update, run: python.exe -m pip install --upgrade pip\n"
     ]
    }
   ],
   "source": [
    "pip install pandas"
   ]
  },
  {
   "cell_type": "code",
   "execution_count": 4,
   "id": "a49bff3c-e9bf-4874-b019-2c985e686d5a",
   "metadata": {},
   "outputs": [
    {
     "name": "stdout",
     "output_type": "stream",
     "text": [
      "Requirement already satisfied: matplotlib in c:\\users\\joshc\\appdata\\local\\programs\\python\\python311\\lib\\site-packages (3.8.2)Note: you may need to restart the kernel to use updated packages.\n",
      "\n",
      "Requirement already satisfied: contourpy>=1.0.1 in c:\\users\\joshc\\appdata\\local\\programs\\python\\python311\\lib\\site-packages (from matplotlib) (1.2.0)\n",
      "Requirement already satisfied: cycler>=0.10 in c:\\users\\joshc\\appdata\\local\\programs\\python\\python311\\lib\\site-packages (from matplotlib) (0.12.1)\n",
      "Requirement already satisfied: fonttools>=4.22.0 in c:\\users\\joshc\\appdata\\local\\programs\\python\\python311\\lib\\site-packages (from matplotlib) (4.45.1)\n",
      "Requirement already satisfied: kiwisolver>=1.3.1 in c:\\users\\joshc\\appdata\\local\\programs\\python\\python311\\lib\\site-packages (from matplotlib) (1.4.5)\n",
      "Requirement already satisfied: numpy<2,>=1.21 in c:\\users\\joshc\\appdata\\local\\programs\\python\\python311\\lib\\site-packages (from matplotlib) (1.26.2)\n",
      "Requirement already satisfied: packaging>=20.0 in c:\\users\\joshc\\appdata\\roaming\\python\\python311\\site-packages (from matplotlib) (23.2)\n",
      "Requirement already satisfied: pillow>=8 in c:\\users\\joshc\\appdata\\local\\programs\\python\\python311\\lib\\site-packages (from matplotlib) (10.1.0)\n",
      "Requirement already satisfied: pyparsing>=2.3.1 in c:\\users\\joshc\\appdata\\local\\programs\\python\\python311\\lib\\site-packages (from matplotlib) (3.1.1)\n",
      "Requirement already satisfied: python-dateutil>=2.7 in c:\\users\\joshc\\appdata\\roaming\\python\\python311\\site-packages (from matplotlib) (2.8.2)\n",
      "Requirement already satisfied: six>=1.5 in c:\\users\\joshc\\appdata\\roaming\\python\\python311\\site-packages (from python-dateutil>=2.7->matplotlib) (1.16.0)\n"
     ]
    },
    {
     "name": "stderr",
     "output_type": "stream",
     "text": [
      "\n",
      "[notice] A new release of pip is available: 24.0 -> 25.0.1\n",
      "[notice] To update, run: python.exe -m pip install --upgrade pip\n"
     ]
    }
   ],
   "source": [
    "pip install matplotlib"
   ]
  },
  {
   "cell_type": "code",
   "execution_count": 5,
   "id": "c03d2c51-10ba-48ed-bfbc-a3a56e0c61bb",
   "metadata": {},
   "outputs": [
    {
     "name": "stdout",
     "output_type": "stream",
     "text": [
      "Requirement already satisfied: scipy in c:\\users\\joshc\\appdata\\local\\programs\\python\\python311\\lib\\site-packages (1.15.2)\n",
      "Requirement already satisfied: numpy<2.5,>=1.23.5 in c:\\users\\joshc\\appdata\\local\\programs\\python\\python311\\lib\\site-packages (from scipy) (1.26.2)\n",
      "Note: you may need to restart the kernel to use updated packages.\n"
     ]
    },
    {
     "name": "stderr",
     "output_type": "stream",
     "text": [
      "\n",
      "[notice] A new release of pip is available: 24.0 -> 25.0.1\n",
      "[notice] To update, run: python.exe -m pip install --upgrade pip\n"
     ]
    }
   ],
   "source": [
    "pip install scipy"
   ]
  },
  {
   "cell_type": "code",
   "execution_count": 6,
   "id": "1b411987-2c7a-4aa9-b3a5-7f786ebdd7fc",
   "metadata": {},
   "outputs": [],
   "source": [
    "import numpy as np\n",
    "import pandas as pd\n",
    "import seaborn as sns\n",
    "import scipy as sp\n",
    "import matplotlib.pyplot as plt\n",
    "import warnings\n",
    "warnings.filterwarnings('ignore')"
   ]
  },
  {
   "cell_type": "code",
   "execution_count": 7,
   "id": "5c7e4621-839e-4994-bad2-50ce6a2f8024",
   "metadata": {},
   "outputs": [],
   "source": [
    "from scipy.stats import f_oneway"
   ]
  },
  {
   "cell_type": "code",
   "execution_count": 8,
   "id": "6516abf2-0295-43ef-996c-d75109f14ad4",
   "metadata": {},
   "outputs": [],
   "source": [
    "accident = pd.read_csv('dataset\\\\accident_data.csv')"
   ]
  },
  {
   "cell_type": "code",
   "execution_count": 9,
   "id": "3d85c82b-56fb-42a9-8a14-a7e7273b2912",
   "metadata": {},
   "outputs": [
    {
     "data": {
      "text/html": [
       "<div>\n",
       "<style scoped>\n",
       "    .dataframe tbody tr th:only-of-type {\n",
       "        vertical-align: middle;\n",
       "    }\n",
       "\n",
       "    .dataframe tbody tr th {\n",
       "        vertical-align: top;\n",
       "    }\n",
       "\n",
       "    .dataframe thead th {\n",
       "        text-align: right;\n",
       "    }\n",
       "</style>\n",
       "<table border=\"1\" class=\"dataframe\">\n",
       "  <thead>\n",
       "    <tr style=\"text-align: right;\">\n",
       "      <th></th>\n",
       "      <th>Latitude</th>\n",
       "      <th>Longitude</th>\n",
       "      <th>Number_of_Casualties</th>\n",
       "      <th>Number_of_Vehicles</th>\n",
       "    </tr>\n",
       "  </thead>\n",
       "  <tbody>\n",
       "    <tr>\n",
       "      <th>count</th>\n",
       "      <td>660654.000000</td>\n",
       "      <td>660653.000000</td>\n",
       "      <td>660679.000000</td>\n",
       "      <td>660679.000000</td>\n",
       "    </tr>\n",
       "    <tr>\n",
       "      <th>mean</th>\n",
       "      <td>52.553866</td>\n",
       "      <td>-1.431210</td>\n",
       "      <td>1.357040</td>\n",
       "      <td>1.831255</td>\n",
       "    </tr>\n",
       "    <tr>\n",
       "      <th>std</th>\n",
       "      <td>1.406922</td>\n",
       "      <td>1.383330</td>\n",
       "      <td>0.824847</td>\n",
       "      <td>0.715269</td>\n",
       "    </tr>\n",
       "    <tr>\n",
       "      <th>min</th>\n",
       "      <td>49.914430</td>\n",
       "      <td>-7.516225</td>\n",
       "      <td>1.000000</td>\n",
       "      <td>1.000000</td>\n",
       "    </tr>\n",
       "    <tr>\n",
       "      <th>25%</th>\n",
       "      <td>51.490690</td>\n",
       "      <td>-2.332291</td>\n",
       "      <td>1.000000</td>\n",
       "      <td>1.000000</td>\n",
       "    </tr>\n",
       "    <tr>\n",
       "      <th>50%</th>\n",
       "      <td>52.315641</td>\n",
       "      <td>-1.411667</td>\n",
       "      <td>1.000000</td>\n",
       "      <td>2.000000</td>\n",
       "    </tr>\n",
       "    <tr>\n",
       "      <th>75%</th>\n",
       "      <td>53.453452</td>\n",
       "      <td>-0.232869</td>\n",
       "      <td>1.000000</td>\n",
       "      <td>2.000000</td>\n",
       "    </tr>\n",
       "    <tr>\n",
       "      <th>max</th>\n",
       "      <td>60.757544</td>\n",
       "      <td>1.762010</td>\n",
       "      <td>68.000000</td>\n",
       "      <td>32.000000</td>\n",
       "    </tr>\n",
       "  </tbody>\n",
       "</table>\n",
       "</div>"
      ],
      "text/plain": [
       "            Latitude      Longitude  Number_of_Casualties  Number_of_Vehicles\n",
       "count  660654.000000  660653.000000         660679.000000       660679.000000\n",
       "mean       52.553866      -1.431210              1.357040            1.831255\n",
       "std         1.406922       1.383330              0.824847            0.715269\n",
       "min        49.914430      -7.516225              1.000000            1.000000\n",
       "25%        51.490690      -2.332291              1.000000            1.000000\n",
       "50%        52.315641      -1.411667              1.000000            2.000000\n",
       "75%        53.453452      -0.232869              1.000000            2.000000\n",
       "max        60.757544       1.762010             68.000000           32.000000"
      ]
     },
     "execution_count": 9,
     "metadata": {},
     "output_type": "execute_result"
    }
   ],
   "source": [
    "accident.describe()"
   ]
  },
  {
   "cell_type": "code",
   "execution_count": 10,
   "id": "692ad14a-9f90-4ea3-ac87-9b46d785503a",
   "metadata": {},
   "outputs": [
    {
     "name": "stdout",
     "output_type": "stream",
     "text": [
      "<class 'pandas.core.frame.DataFrame'>\n",
      "RangeIndex: 660679 entries, 0 to 660678\n",
      "Data columns (total 14 columns):\n",
      " #   Column                   Non-Null Count   Dtype  \n",
      "---  ------                   --------------   -----  \n",
      " 0   Index                    660679 non-null  object \n",
      " 1   Accident_Severity        660679 non-null  object \n",
      " 2   Accident Date            660679 non-null  object \n",
      " 3   Latitude                 660654 non-null  float64\n",
      " 4   Light_Conditions         660679 non-null  object \n",
      " 5   District Area            660679 non-null  object \n",
      " 6   Longitude                660653 non-null  float64\n",
      " 7   Number_of_Casualties     660679 non-null  int64  \n",
      " 8   Number_of_Vehicles       660679 non-null  int64  \n",
      " 9   Road_Surface_Conditions  659953 non-null  object \n",
      " 10  Road_Type                656159 non-null  object \n",
      " 11  Urban_or_Rural_Area      660664 non-null  object \n",
      " 12  Weather_Conditions       646551 non-null  object \n",
      " 13  Vehicle_Type             660679 non-null  object \n",
      "dtypes: float64(2), int64(2), object(10)\n",
      "memory usage: 70.6+ MB\n"
     ]
    }
   ],
   "source": [
    "accident.info()"
   ]
  },
  {
   "cell_type": "markdown",
   "id": "0158f51e-ba9c-4f61-9117-12626b001540",
   "metadata": {},
   "source": [
    "<h3>Cleaning the Null Values</h3>"
   ]
  },
  {
   "cell_type": "code",
   "execution_count": 11,
   "id": "8e9a0164-c478-4364-a6fe-efbfc217cae9",
   "metadata": {},
   "outputs": [
    {
     "data": {
      "text/plain": [
       "Index                          0\n",
       "Accident_Severity              0\n",
       "Accident Date                  0\n",
       "Latitude                      25\n",
       "Light_Conditions               0\n",
       "District Area                  0\n",
       "Longitude                     26\n",
       "Number_of_Casualties           0\n",
       "Number_of_Vehicles             0\n",
       "Road_Surface_Conditions      726\n",
       "Road_Type                   4520\n",
       "Urban_or_Rural_Area           15\n",
       "Weather_Conditions         14128\n",
       "Vehicle_Type                   0\n",
       "dtype: int64"
      ]
     },
     "execution_count": 11,
     "metadata": {},
     "output_type": "execute_result"
    }
   ],
   "source": [
    "accident.isnull().sum()"
   ]
  },
  {
   "cell_type": "code",
   "execution_count": 12,
   "id": "36f757dd-04d1-45b5-95b1-9b66d606958a",
   "metadata": {},
   "outputs": [],
   "source": [
    "accident['Road_Surface_Conditions'] = accident['Road_Surface_Conditions'].fillna('Unaccounted Road Conditions')\n",
    "accident['Road_Type'] = accident['Road_Type'].fillna('Unaccounted Road Type')\n",
    "accident['Urban_or_Rural_Area'] = accident['Urban_or_Rural_Area'].fillna('Unaccounted')\n",
    "accident['Weather_Conditions'] = accident['Weather_Conditions'].fillna('Unaccounted Weather Cobditions')\n",
    "accident['Latitude'] = accident['Latitude'].fillna(accident['Latitude'].mode()[0])\n",
    "accident['Longitude'] = accident['Longitude'].fillna(accident['Longitude'].mode()[0])"
   ]
  },
  {
   "cell_type": "code",
   "execution_count": 13,
   "id": "75c4a51f-d1c3-4bec-b148-4b3e85aa0589",
   "metadata": {},
   "outputs": [],
   "source": [
    "# accident['Road_Surface_Conditions'] = accident['Road_Surface_Conditions'].fillna(accident['Road_Surface_Conditions'].mode()[0])\n",
    "# accident['Road_Type'] = accident['Road_Type'].fillna(accident['Road_Type'].mode()[0])\n",
    "# accident['Urban_or_Rural_Area'] = accident['Urban_or_Rural_Area'].fillna(accident['Urban_or_Rural_Area'].mode()[0])\n",
    "# accident['Weather_Conditions'] = accident['Weather_Conditions'].fillna(accident['Weather_Conditions'].mode()[0])\n",
    "# accident['Latitude'] = accident['Latitude'].fillna(accident['Latitude'].mode()[0])\n",
    "# accident['Longitude'] = accident['Longitude'].fillna(accident['Longitude'].mode()[0])"
   ]
  },
  {
   "cell_type": "markdown",
   "id": "78f076a6-a452-49ad-b377-e2e35c74834c",
   "metadata": {},
   "source": [
    "<h3>Cleaning the Data Types</h3>"
   ]
  },
  {
   "cell_type": "code",
   "execution_count": 14,
   "id": "40d87d2f-2781-4763-987d-3806fb0acc6c",
   "metadata": {},
   "outputs": [
    {
     "name": "stdout",
     "output_type": "stream",
     "text": [
      "<class 'pandas.core.frame.DataFrame'>\n",
      "RangeIndex: 660679 entries, 0 to 660678\n",
      "Data columns (total 14 columns):\n",
      " #   Column                   Non-Null Count   Dtype  \n",
      "---  ------                   --------------   -----  \n",
      " 0   Index                    660679 non-null  object \n",
      " 1   Accident_Severity        660679 non-null  object \n",
      " 2   Accident Date            660679 non-null  object \n",
      " 3   Latitude                 660679 non-null  float64\n",
      " 4   Light_Conditions         660679 non-null  object \n",
      " 5   District Area            660679 non-null  object \n",
      " 6   Longitude                660679 non-null  float64\n",
      " 7   Number_of_Casualties     660679 non-null  int64  \n",
      " 8   Number_of_Vehicles       660679 non-null  int64  \n",
      " 9   Road_Surface_Conditions  660679 non-null  object \n",
      " 10  Road_Type                660679 non-null  object \n",
      " 11  Urban_or_Rural_Area      660679 non-null  object \n",
      " 12  Weather_Conditions       660679 non-null  object \n",
      " 13  Vehicle_Type             660679 non-null  object \n",
      "dtypes: float64(2), int64(2), object(10)\n",
      "memory usage: 70.6+ MB\n"
     ]
    }
   ],
   "source": [
    "accident.info()"
   ]
  },
  {
   "cell_type": "code",
   "execution_count": 15,
   "id": "1db7918f-3788-4601-857c-62277b159502",
   "metadata": {},
   "outputs": [],
   "source": [
    "accident['Accident_Severity'] = accident['Accident_Severity'].astype('category')\n",
    "accident['Light_Conditions'] = accident['Light_Conditions'].astype('category')\n",
    "accident['District Area'] = accident['District Area'].astype('category')\n",
    "accident['Road_Surface_Conditions'] = accident['Road_Surface_Conditions'].astype('category')\n",
    "accident['Road_Type'] = accident['Road_Type'].astype('category')\n",
    "accident['Urban_or_Rural_Area'] = accident['Urban_or_Rural_Area'].astype('category')\n",
    "accident['Weather_Conditions'] = accident['Weather_Conditions'].astype('category')\n",
    "accident['Vehicle_Type'] = accident['Vehicle_Type'].astype('category')\n",
    "accident['Latitude'] = accident['Latitude'].astype('category')\n",
    "accident['Longitude'] = accident['Longitude'].astype('category')"
   ]
  },
  {
   "cell_type": "markdown",
   "id": "c5468933-c3ea-4e72-a946-2b27b9e14082",
   "metadata": {},
   "source": [
    "<h3>Modifying the Date</h3>"
   ]
  },
  {
   "cell_type": "code",
   "execution_count": 16,
   "id": "23a88159-87c0-4ee1-a7cb-596614686e8b",
   "metadata": {},
   "outputs": [],
   "source": [
    "accident['Accident Date'] = accident['Accident Date'].str.strip()\n",
    "\n",
    "accident['Accident Date'] = accident['Accident Date'].str.replace('/','-')"
   ]
  },
  {
   "cell_type": "code",
   "execution_count": 17,
   "id": "9394be57-0e88-4a96-b716-f696f67e4b46",
   "metadata": {},
   "outputs": [],
   "source": [
    "accident['Accident Date'] = pd.to_datetime(accident['Accident Date'], dayfirst=True, errors = 'coerce')"
   ]
  },
  {
   "cell_type": "code",
   "execution_count": 18,
   "id": "dd6374d5-6e31-494e-9d05-f0c4c2913fbb",
   "metadata": {},
   "outputs": [],
   "source": [
    "accident['Year'] = accident['Accident Date'].dt.year.astype('category')\n",
    "accident['Month'] = accident['Accident Date'].dt.month.astype('category')\n",
    "accident['Day'] = accident['Accident Date'].dt.day.astype('category')\n",
    "accident['DaysOfWeek'] = accident['Accident Date'].dt.dayofweek\n",
    "\n",
    "accident['DaysOfWeek'] = accident['DaysOfWeek'].map({0:'Monday',1:'Tuesday',2:'Wednesday',3:'Thursday',4:'Friday',5:'Saturday',6:'Sunday'})\n",
    "accident['Month'] = accident['Month'].map({1:'January',2:'February',3:'March',4:'April',5:'May',6:'June',7:'July',8:'August',9:'September',10:'October',11:'November',12:'December'})"
   ]
  },
  {
   "cell_type": "code",
   "execution_count": 19,
   "id": "fb8f089b-0a92-46ed-8930-bba8c1d42500",
   "metadata": {},
   "outputs": [
    {
     "data": {
      "text/plain": [
       "Index                      0\n",
       "Accident_Severity          0\n",
       "Accident Date              0\n",
       "Latitude                   0\n",
       "Light_Conditions           0\n",
       "District Area              0\n",
       "Longitude                  0\n",
       "Number_of_Casualties       0\n",
       "Number_of_Vehicles         0\n",
       "Road_Surface_Conditions    0\n",
       "Road_Type                  0\n",
       "Urban_or_Rural_Area        0\n",
       "Weather_Conditions         0\n",
       "Vehicle_Type               0\n",
       "Year                       0\n",
       "Month                      0\n",
       "Day                        0\n",
       "DaysOfWeek                 0\n",
       "dtype: int64"
      ]
     },
     "execution_count": 19,
     "metadata": {},
     "output_type": "execute_result"
    }
   ],
   "source": [
    "accident.isnull().sum()"
   ]
  },
  {
   "cell_type": "code",
   "execution_count": 20,
   "id": "446d08e8-ca37-47cd-94d6-d57a25327deb",
   "metadata": {},
   "outputs": [],
   "source": [
    "accident_2019 = accident[accident['Year'] == 2019]\n",
    "accident_2020 = accident[accident['Year'] == 2020]\n",
    "accident_2021 = accident[accident['Year'] == 2021]\n",
    "accident_2022 = accident[accident['Year'] == 2022]"
   ]
  },
  {
   "cell_type": "code",
   "execution_count": 27,
   "id": "6a6ace5b-0abd-42c5-bcb1-043bd4f4e3d8",
   "metadata": {},
   "outputs": [],
   "source": [
    "accident_january = accident[accident['Month'] == 'January']\n",
    "accident_february = accident[accident['Month'] == 'February']\n",
    "accident_march = accident[accident['Month'] == 'March']\n",
    "accident_april = accident[accident['Month'] == 'April']\n",
    "accident_may = accident[accident['Month'] == 'May']\n",
    "accident_june = accident[accident['Month'] == 'June']\n",
    "accident_july = accident[accident['Month'] == 'July']\n",
    "accident_august = accident[accident['Month'] == 'August']\n",
    "accident_september = accident[accident['Month'] == 'September']\n",
    "accident_october = accident[accident['Month'] == 'October']\n",
    "accident_november = accident[accident['Month'] == 'November']\n",
    "accident_december = accident[accident['Month'] == 'December']"
   ]
  },
  {
   "cell_type": "markdown",
   "id": "30c4b09a-ac76-4804-aa87-9fa7392444ca",
   "metadata": {},
   "source": [
    "<h1>Valuable Insights</h1>"
   ]
  },
  {
   "cell_type": "markdown",
   "id": "a5e38579-9516-4406-a564-3eb97b3eae0b",
   "metadata": {},
   "source": [
    "<h2>Question: Which factors contributes to the most Slight accidents? ( Light Conditions, Road Surface Conditions, Weather Conditions )</h2>"
   ]
  },
  {
   "cell_type": "code",
   "execution_count": 28,
   "id": "85eca5c7-d900-4ba9-a664-6a46c2bf1a12",
   "metadata": {},
   "outputs": [
    {
     "data": {
      "text/html": [
       "<div>\n",
       "<style scoped>\n",
       "    .dataframe tbody tr th:only-of-type {\n",
       "        vertical-align: middle;\n",
       "    }\n",
       "\n",
       "    .dataframe tbody tr th {\n",
       "        vertical-align: top;\n",
       "    }\n",
       "\n",
       "    .dataframe thead th {\n",
       "        text-align: right;\n",
       "    }\n",
       "</style>\n",
       "<table border=\"1\" class=\"dataframe\">\n",
       "  <thead>\n",
       "    <tr style=\"text-align: right;\">\n",
       "      <th>Light_Conditions</th>\n",
       "      <th>Darkness - lighting unknown</th>\n",
       "      <th>Darkness - lights lit</th>\n",
       "      <th>Darkness - lights unlit</th>\n",
       "      <th>Darkness - no lighting</th>\n",
       "      <th>Daylight</th>\n",
       "    </tr>\n",
       "    <tr>\n",
       "      <th>Accident_Severity</th>\n",
       "      <th></th>\n",
       "      <th></th>\n",
       "      <th></th>\n",
       "      <th></th>\n",
       "      <th></th>\n",
       "    </tr>\n",
       "  </thead>\n",
       "  <tbody>\n",
       "    <tr>\n",
       "      <th>Fatal</th>\n",
       "      <td>68</td>\n",
       "      <td>1860</td>\n",
       "      <td>45</td>\n",
       "      <td>1612</td>\n",
       "      <td>5076</td>\n",
       "    </tr>\n",
       "    <tr>\n",
       "      <th>Serious</th>\n",
       "      <td>794</td>\n",
       "      <td>19130</td>\n",
       "      <td>360</td>\n",
       "      <td>7174</td>\n",
       "      <td>60759</td>\n",
       "    </tr>\n",
       "    <tr>\n",
       "      <th>Slight</th>\n",
       "      <td>5622</td>\n",
       "      <td>108345</td>\n",
       "      <td>2138</td>\n",
       "      <td>28651</td>\n",
       "      <td>419045</td>\n",
       "    </tr>\n",
       "  </tbody>\n",
       "</table>\n",
       "</div>"
      ],
      "text/plain": [
       "Light_Conditions   Darkness - lighting unknown  Darkness - lights lit  \\\n",
       "Accident_Severity                                                       \n",
       "Fatal                                       68                   1860   \n",
       "Serious                                    794                  19130   \n",
       "Slight                                    5622                 108345   \n",
       "\n",
       "Light_Conditions   Darkness - lights unlit  Darkness - no lighting  Daylight  \n",
       "Accident_Severity                                                             \n",
       "Fatal                                   45                    1612      5076  \n",
       "Serious                                360                    7174     60759  \n",
       "Slight                                2138                   28651    419045  "
      ]
     },
     "execution_count": 28,
     "metadata": {},
     "output_type": "execute_result"
    }
   ],
   "source": [
    "accident.groupby(['Accident_Severity','Light_Conditions'],observed=False).size().unstack()"
   ]
  },
  {
   "cell_type": "code",
   "execution_count": 29,
   "id": "a6d84c07-ec84-4ebd-b8ea-0e77c06d5c0d",
   "metadata": {},
   "outputs": [
    {
     "data": {
      "text/plain": [
       "563801"
      ]
     },
     "execution_count": 29,
     "metadata": {},
     "output_type": "execute_result"
    }
   ],
   "source": [
    "slight = accident[accident['Accident_Severity'] == 'Slight'].value_counts().sum()\n",
    "slight"
   ]
  },
  {
   "cell_type": "code",
   "execution_count": null,
   "id": "b334b84d-64a4-4cdf-897c-6b3727ead957",
   "metadata": {},
   "outputs": [],
   "source": []
  },
  {
   "cell_type": "code",
   "execution_count": 30,
   "id": "841a83dc-c2c6-4270-bbff-a87ca9fa546c",
   "metadata": {},
   "outputs": [
    {
     "data": {
      "text/plain": [
       "419045"
      ]
     },
     "execution_count": 30,
     "metadata": {},
     "output_type": "execute_result"
    }
   ],
   "source": [
    "accident[(accident['Accident_Severity'] == 'Slight')&(accident['Light_Conditions'] == 'Daylight')].value_counts().sum()\n"
   ]
  },
  {
   "cell_type": "code",
   "execution_count": 31,
   "id": "4380a911-b6f6-4f96-a838-0abe325f27ad",
   "metadata": {},
   "outputs": [
    {
     "data": {
      "text/plain": [
       "0.743249834604763"
      ]
     },
     "execution_count": 31,
     "metadata": {},
     "output_type": "execute_result"
    }
   ],
   "source": [
    "419045 / slight"
   ]
  },
  {
   "cell_type": "code",
   "execution_count": null,
   "id": "37c67179-8f90-4775-abc3-35cc342c5447",
   "metadata": {},
   "outputs": [],
   "source": [
    "slight_and_lightcond = accident[accident['Accident_Severity'] == 'Slight']"
   ]
  },
  {
   "cell_type": "code",
   "execution_count": 54,
   "id": "ff4fcf9b-a1d6-402e-88a7-e7cee692acd5",
   "metadata": {},
   "outputs": [
    {
     "data": {
      "image/png": "[encoded data removed]",
      "text/plain": [
       "<Figure size 1300x800 with 1 Axes>"
      ]
     },
     "metadata": {},
     "output_type": "display_data"
    }
   ],
   "source": [
    "slight_and_lightcond = accident[accident['Accident_Severity'] == 'Slight']\n",
    "\n",
    "slight_in_lightcond = slight_and_lightcond.groupby(['Light_Conditions']).size()\n",
    "slight_in_lightcond.plot(kind='bar')\n",
    "plt.title('Slight Accidents on Light Conditions')\n",
    "plt.xlabel('Light Conditions')\n",
    "plt.ylabel('Accidents')\n",
    "plt.gcf().set_size_inches(13,8)\n",
    "plt.show()"
   ]
  },
  {
   "cell_type": "markdown",
   "id": "80be4d2d-9ed8-4106-8275-8bd33877f225",
   "metadata": {},
   "source": [
    "<h3>Insight 1: Daylight is the leading light condition that causes the most slight accidents from 2019 to 2022. 74.32% of the Slight accidents comes from Daylight condition.</h3>"
   ]
  },
  {
   "cell_type": "code",
   "execution_count": 33,
   "id": "fd9bedbd-eb8d-42d5-8a73-e69093a7e51a",
   "metadata": {},
   "outputs": [
    {
     "data": {
      "text/html": [
       "<div>\n",
       "<style scoped>\n",
       "    .dataframe tbody tr th:only-of-type {\n",
       "        vertical-align: middle;\n",
       "    }\n",
       "\n",
       "    .dataframe tbody tr th {\n",
       "        vertical-align: top;\n",
       "    }\n",
       "\n",
       "    .dataframe thead th {\n",
       "        text-align: right;\n",
       "    }\n",
       "</style>\n",
       "<table border=\"1\" class=\"dataframe\">\n",
       "  <thead>\n",
       "    <tr style=\"text-align: right;\">\n",
       "      <th>Road_Surface_Conditions</th>\n",
       "      <th>Dry</th>\n",
       "      <th>Flood over 3cm. deep</th>\n",
       "      <th>Frost or ice</th>\n",
       "      <th>Snow</th>\n",
       "      <th>Unaccounted Road Conditions</th>\n",
       "      <th>Wet or damp</th>\n",
       "    </tr>\n",
       "    <tr>\n",
       "      <th>Accident_Severity</th>\n",
       "      <th></th>\n",
       "      <th></th>\n",
       "      <th></th>\n",
       "      <th></th>\n",
       "      <th></th>\n",
       "      <th></th>\n",
       "    </tr>\n",
       "  </thead>\n",
       "  <tbody>\n",
       "    <tr>\n",
       "      <th>Fatal</th>\n",
       "      <td>5788</td>\n",
       "      <td>23</td>\n",
       "      <td>193</td>\n",
       "      <td>35</td>\n",
       "      <td>2</td>\n",
       "      <td>2620</td>\n",
       "    </tr>\n",
       "    <tr>\n",
       "      <th>Serious</th>\n",
       "      <td>61638</td>\n",
       "      <td>152</td>\n",
       "      <td>2007</td>\n",
       "      <td>565</td>\n",
       "      <td>70</td>\n",
       "      <td>23785</td>\n",
       "    </tr>\n",
       "    <tr>\n",
       "      <th>Slight</th>\n",
       "      <td>380395</td>\n",
       "      <td>842</td>\n",
       "      <td>16317</td>\n",
       "      <td>5290</td>\n",
       "      <td>654</td>\n",
       "      <td>160303</td>\n",
       "    </tr>\n",
       "  </tbody>\n",
       "</table>\n",
       "</div>"
      ],
      "text/plain": [
       "Road_Surface_Conditions     Dry  Flood over 3cm. deep  Frost or ice  Snow  \\\n",
       "Accident_Severity                                                           \n",
       "Fatal                      5788                    23           193    35   \n",
       "Serious                   61638                   152          2007   565   \n",
       "Slight                   380395                   842         16317  5290   \n",
       "\n",
       "Road_Surface_Conditions  Unaccounted Road Conditions  Wet or damp  \n",
       "Accident_Severity                                                  \n",
       "Fatal                                              2         2620  \n",
       "Serious                                           70        23785  \n",
       "Slight                                           654       160303  "
      ]
     },
     "execution_count": 33,
     "metadata": {},
     "output_type": "execute_result"
    }
   ],
   "source": [
    "accident.groupby(['Accident_Severity','Road_Surface_Conditions'],observed=False).size().unstack()"
   ]
  },
  {
   "cell_type": "code",
   "execution_count": 34,
   "id": "65c93e9f-1cfb-4861-b037-a555271d8e30",
   "metadata": {},
   "outputs": [
    {
     "data": {
      "text/plain": [
       "380395"
      ]
     },
     "execution_count": 34,
     "metadata": {},
     "output_type": "execute_result"
    }
   ],
   "source": [
    "accident[(accident['Accident_Severity'] == 'Slight')&(accident['Road_Surface_Conditions'] == 'Dry')].value_counts().sum()"
   ]
  },
  {
   "cell_type": "code",
   "execution_count": 35,
   "id": "1650eeeb-1741-4335-a343-e08f50ac61f8",
   "metadata": {},
   "outputs": [
    {
     "data": {
      "text/plain": [
       "0.6758572616933989"
      ]
     },
     "execution_count": 35,
     "metadata": {},
     "output_type": "execute_result"
    }
   ],
   "source": [
    "381049 / slight"
   ]
  },
  {
   "cell_type": "code",
   "execution_count": 36,
   "id": "46c218ac-bf36-426a-9833-1c41433e3383",
   "metadata": {},
   "outputs": [
    {
     "data": {
      "image/png": "[encoded data removed]",
      "text/plain": [
       "<Figure size 1300x800 with 1 Axes>"
      ]
     },
     "metadata": {},
     "output_type": "display_data"
    }
   ],
   "source": [
    "slight_and_roadcond = accident[accident['Accident_Severity'] == 'Slight']\n",
    "\n",
    "slight_in_roadcond = slight_and_roadcond.groupby(['Road_Surface_Conditions']).size()\n",
    "slight_in_roadcond.plot(kind='bar')\n",
    "plt.title('Slight Accidents on Road Conditions')\n",
    "plt.xlabel('Road Conditions')\n",
    "plt.ylabel('Accidents')\n",
    "plt.gcf().set_size_inches(13,8)\n",
    "plt.show()"
   ]
  },
  {
   "cell_type": "markdown",
   "id": "4cef0e59-92ac-485c-8dad-b65866245647",
   "metadata": {},
   "source": [
    "<h3>Insight 2: Dry is the leading road condition that causes the most slight accidents from 2019 to 2022. 67.59% of the Slight accidents comes from Dry road condition. </h3>"
   ]
  },
  {
   "cell_type": "code",
   "execution_count": 37,
   "id": "09adcddb-c635-4128-a192-f81f47fe2b01",
   "metadata": {},
   "outputs": [
    {
     "data": {
      "text/html": [
       "<div>\n",
       "<style scoped>\n",
       "    .dataframe tbody tr th:only-of-type {\n",
       "        vertical-align: middle;\n",
       "    }\n",
       "\n",
       "    .dataframe tbody tr th {\n",
       "        vertical-align: top;\n",
       "    }\n",
       "\n",
       "    .dataframe thead th {\n",
       "        text-align: right;\n",
       "    }\n",
       "</style>\n",
       "<table border=\"1\" class=\"dataframe\">\n",
       "  <thead>\n",
       "    <tr style=\"text-align: right;\">\n",
       "      <th>Weather_Conditions</th>\n",
       "      <th>Fine + high winds</th>\n",
       "      <th>Fine no high winds</th>\n",
       "      <th>Fog or mist</th>\n",
       "      <th>Other</th>\n",
       "      <th>Raining + high winds</th>\n",
       "      <th>Raining no high winds</th>\n",
       "      <th>Snowing + high winds</th>\n",
       "      <th>Snowing no high winds</th>\n",
       "      <th>Unaccounted Weather Cobditions</th>\n",
       "    </tr>\n",
       "    <tr>\n",
       "      <th>Accident_Severity</th>\n",
       "      <th></th>\n",
       "      <th></th>\n",
       "      <th></th>\n",
       "      <th></th>\n",
       "      <th></th>\n",
       "      <th></th>\n",
       "      <th></th>\n",
       "      <th></th>\n",
       "      <th></th>\n",
       "    </tr>\n",
       "  </thead>\n",
       "  <tbody>\n",
       "    <tr>\n",
       "      <th>Fatal</th>\n",
       "      <td>175</td>\n",
       "      <td>7100</td>\n",
       "      <td>82</td>\n",
       "      <td>165</td>\n",
       "      <td>145</td>\n",
       "      <td>848</td>\n",
       "      <td>3</td>\n",
       "      <td>36</td>\n",
       "      <td>107</td>\n",
       "    </tr>\n",
       "    <tr>\n",
       "      <th>Serious</th>\n",
       "      <td>1245</td>\n",
       "      <td>72046</td>\n",
       "      <td>483</td>\n",
       "      <td>1801</td>\n",
       "      <td>1261</td>\n",
       "      <td>9468</td>\n",
       "      <td>109</td>\n",
       "      <td>565</td>\n",
       "      <td>1239</td>\n",
       "    </tr>\n",
       "    <tr>\n",
       "      <th>Slight</th>\n",
       "      <td>7134</td>\n",
       "      <td>441739</td>\n",
       "      <td>2963</td>\n",
       "      <td>15184</td>\n",
       "      <td>8209</td>\n",
       "      <td>69380</td>\n",
       "      <td>773</td>\n",
       "      <td>5637</td>\n",
       "      <td>12782</td>\n",
       "    </tr>\n",
       "  </tbody>\n",
       "</table>\n",
       "</div>"
      ],
      "text/plain": [
       "Weather_Conditions  Fine + high winds  Fine no high winds  Fog or mist  Other  \\\n",
       "Accident_Severity                                                               \n",
       "Fatal                             175                7100           82    165   \n",
       "Serious                          1245               72046          483   1801   \n",
       "Slight                           7134              441739         2963  15184   \n",
       "\n",
       "Weather_Conditions  Raining + high winds  Raining no high winds  \\\n",
       "Accident_Severity                                                 \n",
       "Fatal                                145                    848   \n",
       "Serious                             1261                   9468   \n",
       "Slight                              8209                  69380   \n",
       "\n",
       "Weather_Conditions  Snowing + high winds  Snowing no high winds  \\\n",
       "Accident_Severity                                                 \n",
       "Fatal                                  3                     36   \n",
       "Serious                              109                    565   \n",
       "Slight                               773                   5637   \n",
       "\n",
       "Weather_Conditions  Unaccounted Weather Cobditions  \n",
       "Accident_Severity                                   \n",
       "Fatal                                          107  \n",
       "Serious                                       1239  \n",
       "Slight                                       12782  "
      ]
     },
     "execution_count": 37,
     "metadata": {},
     "output_type": "execute_result"
    }
   ],
   "source": [
    "accident.groupby(['Accident_Severity','Weather_Conditions'],observed=False).size().unstack()"
   ]
  },
  {
   "cell_type": "code",
   "execution_count": 38,
   "id": "a8f774c0-de92-4cbf-a2a1-5947f62d5147",
   "metadata": {},
   "outputs": [
    {
     "data": {
      "text/plain": [
       "441739"
      ]
     },
     "execution_count": 38,
     "metadata": {},
     "output_type": "execute_result"
    }
   ],
   "source": [
    "accident[(accident['Accident_Severity'] == 'Slight')&(accident['Weather_Conditions'] == 'Fine no high winds')].value_counts().sum()"
   ]
  },
  {
   "cell_type": "code",
   "execution_count": 39,
   "id": "f209e5c4-ba06-4cc5-9694-a8a7fac645b8",
   "metadata": {},
   "outputs": [
    {
     "data": {
      "text/plain": [
       "0.8061727453480927"
      ]
     },
     "execution_count": 39,
     "metadata": {},
     "output_type": "execute_result"
    }
   ],
   "source": [
    "454521 / slight"
   ]
  },
  {
   "cell_type": "code",
   "execution_count": 40,
   "id": "071e7d7d-0af6-4bb8-924f-7136d05e9715",
   "metadata": {},
   "outputs": [
    {
     "data": {
      "image/png": "[encoded data removed]",
      "text/plain": [
       "<Figure size 1300x800 with 1 Axes>"
      ]
     },
     "metadata": {},
     "output_type": "display_data"
    }
   ],
   "source": [
    "slight_and_weathercond = accident[accident['Accident_Severity'] == 'Slight']\n",
    "\n",
    "slight_in_weathercond = slight_and_weathercond.groupby(['Weather_Conditions']).size()\n",
    "slight_in_weathercond.plot(kind='bar')\n",
    "plt.title('Slight Accidents on Weather Conditions')\n",
    "plt.xlabel('Weather Conditions')\n",
    "plt.ylabel('Accidents')\n",
    "plt.gcf().set_size_inches(13,8)\n",
    "plt.show()"
   ]
  },
  {
   "cell_type": "markdown",
   "id": "ee850e87-4616-438d-803c-61e5a935248a",
   "metadata": {},
   "source": [
    "<h3>Insight 3: Fine no high winds is the leading weather condition that causes the most slight accidents from 2019 to 2022. 80.61% of the Slight accidents comes from Fine no high winds weather condition.</h3>"
   ]
  },
  {
   "cell_type": "code",
   "execution_count": 41,
   "id": "ba185896-c60f-43cc-8658-6232b5749dea",
   "metadata": {},
   "outputs": [
    {
     "data": {
      "image/png": "[encoded data removed]",
      "text/plain": [
       "<Figure size 1300x800 with 1 Axes>"
      ]
     },
     "metadata": {},
     "output_type": "display_data"
    }
   ],
   "source": [
    "\n",
    "accident_severity = accident.groupby(['Accident_Severity']).size()\n",
    "accident_severity.plot(kind='bar')\n",
    "plt.title('Accident Severity')\n",
    "plt.xlabel('Severity')\n",
    "plt.ylabel('Accidents')\n",
    "plt.gcf().set_size_inches(13,8)\n",
    "plt.show()"
   ]
  },
  {
   "cell_type": "markdown",
   "id": "2cf876c9-9ac3-4325-acec-a0d6c5b278d2",
   "metadata": {},
   "source": [
    "<h3>Insight 4: According to the data above, the highest accident severity is slight, followed by serious and fatal, respectively. The most common conditions for the Slight accidents are the following: 74.32% for Daylight, 67.58% for Dry roads, and 80.61% for Fine no high winds weather. This means that you are most prone to slight accidents while in the most ideal weather(fine no high winds), road condition(dry), and light condition(daylight).</h3>"
   ]
  },
  {
   "cell_type": "markdown",
   "id": "832e194b-c7e3-49e5-906f-0f087e2717d3",
   "metadata": {},
   "source": [
    "<h2>Question: From the data gathered above. Slight accidents happen during the most ideal weather conditions. Does the same concept happen to Serious accidents? What about Fatal accidents? </h2>"
   ]
  },
  {
   "cell_type": "code",
   "execution_count": 42,
   "id": "8012177a-4d22-4ef2-b11d-cf4545bc5480",
   "metadata": {},
   "outputs": [
    {
     "data": {
      "text/html": [
       "<div>\n",
       "<style scoped>\n",
       "    .dataframe tbody tr th:only-of-type {\n",
       "        vertical-align: middle;\n",
       "    }\n",
       "\n",
       "    .dataframe tbody tr th {\n",
       "        vertical-align: top;\n",
       "    }\n",
       "\n",
       "    .dataframe thead th {\n",
       "        text-align: right;\n",
       "    }\n",
       "</style>\n",
       "<table border=\"1\" class=\"dataframe\">\n",
       "  <thead>\n",
       "    <tr style=\"text-align: right;\">\n",
       "      <th>Light_Conditions</th>\n",
       "      <th>Darkness - lighting unknown</th>\n",
       "      <th>Darkness - lights lit</th>\n",
       "      <th>Darkness - lights unlit</th>\n",
       "      <th>Darkness - no lighting</th>\n",
       "      <th>Daylight</th>\n",
       "    </tr>\n",
       "    <tr>\n",
       "      <th>Accident_Severity</th>\n",
       "      <th></th>\n",
       "      <th></th>\n",
       "      <th></th>\n",
       "      <th></th>\n",
       "      <th></th>\n",
       "    </tr>\n",
       "  </thead>\n",
       "  <tbody>\n",
       "    <tr>\n",
       "      <th>Fatal</th>\n",
       "      <td>68</td>\n",
       "      <td>1860</td>\n",
       "      <td>45</td>\n",
       "      <td>1612</td>\n",
       "      <td>5076</td>\n",
       "    </tr>\n",
       "    <tr>\n",
       "      <th>Serious</th>\n",
       "      <td>794</td>\n",
       "      <td>19130</td>\n",
       "      <td>360</td>\n",
       "      <td>7174</td>\n",
       "      <td>60759</td>\n",
       "    </tr>\n",
       "    <tr>\n",
       "      <th>Slight</th>\n",
       "      <td>5622</td>\n",
       "      <td>108345</td>\n",
       "      <td>2138</td>\n",
       "      <td>28651</td>\n",
       "      <td>419045</td>\n",
       "    </tr>\n",
       "  </tbody>\n",
       "</table>\n",
       "</div>"
      ],
      "text/plain": [
       "Light_Conditions   Darkness - lighting unknown  Darkness - lights lit  \\\n",
       "Accident_Severity                                                       \n",
       "Fatal                                       68                   1860   \n",
       "Serious                                    794                  19130   \n",
       "Slight                                    5622                 108345   \n",
       "\n",
       "Light_Conditions   Darkness - lights unlit  Darkness - no lighting  Daylight  \n",
       "Accident_Severity                                                             \n",
       "Fatal                                   45                    1612      5076  \n",
       "Serious                                360                    7174     60759  \n",
       "Slight                                2138                   28651    419045  "
      ]
     },
     "execution_count": 42,
     "metadata": {},
     "output_type": "execute_result"
    }
   ],
   "source": [
    "accident.groupby(['Accident_Severity','Light_Conditions'],observed=False).size().unstack()"
   ]
  },
  {
   "cell_type": "code",
   "execution_count": 43,
   "id": "9af3e9d7-8e35-40c8-b26b-2f32658eb69b",
   "metadata": {},
   "outputs": [
    {
     "data": {
      "text/html": [
       "<div>\n",
       "<style scoped>\n",
       "    .dataframe tbody tr th:only-of-type {\n",
       "        vertical-align: middle;\n",
       "    }\n",
       "\n",
       "    .dataframe tbody tr th {\n",
       "        vertical-align: top;\n",
       "    }\n",
       "\n",
       "    .dataframe thead th {\n",
       "        text-align: right;\n",
       "    }\n",
       "</style>\n",
       "<table border=\"1\" class=\"dataframe\">\n",
       "  <thead>\n",
       "    <tr style=\"text-align: right;\">\n",
       "      <th>Road_Surface_Conditions</th>\n",
       "      <th>Dry</th>\n",
       "      <th>Flood over 3cm. deep</th>\n",
       "      <th>Frost or ice</th>\n",
       "      <th>Snow</th>\n",
       "      <th>Unaccounted Road Conditions</th>\n",
       "      <th>Wet or damp</th>\n",
       "    </tr>\n",
       "    <tr>\n",
       "      <th>Accident_Severity</th>\n",
       "      <th></th>\n",
       "      <th></th>\n",
       "      <th></th>\n",
       "      <th></th>\n",
       "      <th></th>\n",
       "      <th></th>\n",
       "    </tr>\n",
       "  </thead>\n",
       "  <tbody>\n",
       "    <tr>\n",
       "      <th>Fatal</th>\n",
       "      <td>5788</td>\n",
       "      <td>23</td>\n",
       "      <td>193</td>\n",
       "      <td>35</td>\n",
       "      <td>2</td>\n",
       "      <td>2620</td>\n",
       "    </tr>\n",
       "    <tr>\n",
       "      <th>Serious</th>\n",
       "      <td>61638</td>\n",
       "      <td>152</td>\n",
       "      <td>2007</td>\n",
       "      <td>565</td>\n",
       "      <td>70</td>\n",
       "      <td>23785</td>\n",
       "    </tr>\n",
       "    <tr>\n",
       "      <th>Slight</th>\n",
       "      <td>380395</td>\n",
       "      <td>842</td>\n",
       "      <td>16317</td>\n",
       "      <td>5290</td>\n",
       "      <td>654</td>\n",
       "      <td>160303</td>\n",
       "    </tr>\n",
       "  </tbody>\n",
       "</table>\n",
       "</div>"
      ],
      "text/plain": [
       "Road_Surface_Conditions     Dry  Flood over 3cm. deep  Frost or ice  Snow  \\\n",
       "Accident_Severity                                                           \n",
       "Fatal                      5788                    23           193    35   \n",
       "Serious                   61638                   152          2007   565   \n",
       "Slight                   380395                   842         16317  5290   \n",
       "\n",
       "Road_Surface_Conditions  Unaccounted Road Conditions  Wet or damp  \n",
       "Accident_Severity                                                  \n",
       "Fatal                                              2         2620  \n",
       "Serious                                           70        23785  \n",
       "Slight                                           654       160303  "
      ]
     },
     "execution_count": 43,
     "metadata": {},
     "output_type": "execute_result"
    }
   ],
   "source": [
    "accident.groupby(['Accident_Severity','Road_Surface_Conditions'],observed=False).size().unstack()"
   ]
  },
  {
   "cell_type": "code",
   "execution_count": 44,
   "id": "e4fda99e-7daf-4fb1-b2f1-081d03260b2d",
   "metadata": {},
   "outputs": [
    {
     "data": {
      "text/html": [
       "<div>\n",
       "<style scoped>\n",
       "    .dataframe tbody tr th:only-of-type {\n",
       "        vertical-align: middle;\n",
       "    }\n",
       "\n",
       "    .dataframe tbody tr th {\n",
       "        vertical-align: top;\n",
       "    }\n",
       "\n",
       "    .dataframe thead th {\n",
       "        text-align: right;\n",
       "    }\n",
       "</style>\n",
       "<table border=\"1\" class=\"dataframe\">\n",
       "  <thead>\n",
       "    <tr style=\"text-align: right;\">\n",
       "      <th>Weather_Conditions</th>\n",
       "      <th>Fine + high winds</th>\n",
       "      <th>Fine no high winds</th>\n",
       "      <th>Fog or mist</th>\n",
       "      <th>Other</th>\n",
       "      <th>Raining + high winds</th>\n",
       "      <th>Raining no high winds</th>\n",
       "      <th>Snowing + high winds</th>\n",
       "      <th>Snowing no high winds</th>\n",
       "      <th>Unaccounted Weather Cobditions</th>\n",
       "    </tr>\n",
       "    <tr>\n",
       "      <th>Accident_Severity</th>\n",
       "      <th></th>\n",
       "      <th></th>\n",
       "      <th></th>\n",
       "      <th></th>\n",
       "      <th></th>\n",
       "      <th></th>\n",
       "      <th></th>\n",
       "      <th></th>\n",
       "      <th></th>\n",
       "    </tr>\n",
       "  </thead>\n",
       "  <tbody>\n",
       "    <tr>\n",
       "      <th>Fatal</th>\n",
       "      <td>175</td>\n",
       "      <td>7100</td>\n",
       "      <td>82</td>\n",
       "      <td>165</td>\n",
       "      <td>145</td>\n",
       "      <td>848</td>\n",
       "      <td>3</td>\n",
       "      <td>36</td>\n",
       "      <td>107</td>\n",
       "    </tr>\n",
       "    <tr>\n",
       "      <th>Serious</th>\n",
       "      <td>1245</td>\n",
       "      <td>72046</td>\n",
       "      <td>483</td>\n",
       "      <td>1801</td>\n",
       "      <td>1261</td>\n",
       "      <td>9468</td>\n",
       "      <td>109</td>\n",
       "      <td>565</td>\n",
       "      <td>1239</td>\n",
       "    </tr>\n",
       "    <tr>\n",
       "      <th>Slight</th>\n",
       "      <td>7134</td>\n",
       "      <td>441739</td>\n",
       "      <td>2963</td>\n",
       "      <td>15184</td>\n",
       "      <td>8209</td>\n",
       "      <td>69380</td>\n",
       "      <td>773</td>\n",
       "      <td>5637</td>\n",
       "      <td>12782</td>\n",
       "    </tr>\n",
       "  </tbody>\n",
       "</table>\n",
       "</div>"
      ],
      "text/plain": [
       "Weather_Conditions  Fine + high winds  Fine no high winds  Fog or mist  Other  \\\n",
       "Accident_Severity                                                               \n",
       "Fatal                             175                7100           82    165   \n",
       "Serious                          1245               72046          483   1801   \n",
       "Slight                           7134              441739         2963  15184   \n",
       "\n",
       "Weather_Conditions  Raining + high winds  Raining no high winds  \\\n",
       "Accident_Severity                                                 \n",
       "Fatal                                145                    848   \n",
       "Serious                             1261                   9468   \n",
       "Slight                              8209                  69380   \n",
       "\n",
       "Weather_Conditions  Snowing + high winds  Snowing no high winds  \\\n",
       "Accident_Severity                                                 \n",
       "Fatal                                  3                     36   \n",
       "Serious                              109                    565   \n",
       "Slight                               773                   5637   \n",
       "\n",
       "Weather_Conditions  Unaccounted Weather Cobditions  \n",
       "Accident_Severity                                   \n",
       "Fatal                                          107  \n",
       "Serious                                       1239  \n",
       "Slight                                       12782  "
      ]
     },
     "execution_count": 44,
     "metadata": {},
     "output_type": "execute_result"
    }
   ],
   "source": [
    "accident.groupby(['Accident_Severity','Weather_Conditions'],observed=False).size().unstack()"
   ]
  },
  {
   "cell_type": "code",
   "execution_count": 45,
   "id": "b87b3674-aa56-4c66-984e-5530cf8c8305",
   "metadata": {},
   "outputs": [
    {
     "data": {
      "image/png": "[encoded data removed]",
      "text/plain": [
       "<Figure size 1300x800 with 1 Axes>"
      ]
     },
     "metadata": {},
     "output_type": "display_data"
    }
   ],
   "source": [
    "serious_and_lightcond = accident[accident['Accident_Severity'] == 'Serious']\n",
    "\n",
    "serious_in_lightcond = serious_and_lightcond.groupby(['Light_Conditions']).size()\n",
    "serious_in_lightcond.plot(kind='bar')\n",
    "plt.title('Serious Accidents on Light Conditions')\n",
    "plt.xlabel('Light Conditions')\n",
    "plt.ylabel('Accidents')\n",
    "plt.gcf().set_size_inches(13,8)\n",
    "plt.show()"
   ]
  },
  {
   "cell_type": "code",
   "execution_count": 46,
   "id": "fcad8102-95b9-4693-8ebe-c6bd779e04a9",
   "metadata": {},
   "outputs": [
    {
     "data": {
      "image/png": "[encoded data removed]",
      "text/plain": [
       "<Figure size 1300x800 with 1 Axes>"
      ]
     },
     "metadata": {},
     "output_type": "display_data"
    }
   ],
   "source": [
    "serious_and_weathercond = accident[accident['Accident_Severity'] == 'Serious']\n",
    "\n",
    "serious_in_weathercond = serious_and_weathercond.groupby(['Weather_Conditions']).size()\n",
    "serious_in_weathercond.plot(kind='bar')\n",
    "plt.title('Serious Accidents on Weather Conditions')\n",
    "plt.xlabel('Weather Conditions')\n",
    "plt.ylabel('Accidents')\n",
    "plt.gcf().set_size_inches(13,8)\n",
    "plt.show()"
   ]
  },
  {
   "cell_type": "code",
   "execution_count": 47,
   "id": "bb31a190-aeb8-47a2-9241-2db03d269ac7",
   "metadata": {},
   "outputs": [
    {
     "data": {
      "image/png": "[encoded data removed]",
      "text/plain": [
       "<Figure size 1300x800 with 1 Axes>"
      ]
     },
     "metadata": {},
     "output_type": "display_data"
    }
   ],
   "source": [
    "serious_and_roadcond = accident[accident['Accident_Severity'] == 'Serious']\n",
    "\n",
    "serious_in_roadcond = serious_and_roadcond.groupby(['Road_Surface_Conditions']).size()\n",
    "serious_in_roadcond.plot(kind='bar')\n",
    "plt.title('Serious Accidents on Road Conditions')\n",
    "plt.xlabel('Road Conditions')\n",
    "plt.ylabel('Accidents')\n",
    "plt.gcf().set_size_inches(13,8)\n",
    "plt.show()"
   ]
  },
  {
   "cell_type": "markdown",
   "id": "d67a4c24-732f-4db5-a697-b734627d478c",
   "metadata": {},
   "source": [
    "<h3>Insight 5: The conditions that causes the most Serious accidents are the following: daylight(light condition), dry(road condition), and Fine no winds(weather condition)</h3>"
   ]
  },
  {
   "cell_type": "code",
   "execution_count": 48,
   "id": "be0e1671-4c7c-4137-879f-cb8339218acd",
   "metadata": {},
   "outputs": [
    {
     "data": {
      "image/png": "[encoded data removed]",
      "text/plain": [
       "<Figure size 1300x800 with 1 Axes>"
      ]
     },
     "metadata": {},
     "output_type": "display_data"
    }
   ],
   "source": [
    "fatal_and_lightcond = accident[accident['Accident_Severity'] == 'Fatal']\n",
    "\n",
    "fatal_in_lightcond = fatal_and_lightcond.groupby(['Light_Conditions']).size()\n",
    "fatal_in_lightcond.plot(kind='bar')\n",
    "plt.title('Fatal Accidents on Light Conditions')\n",
    "plt.xlabel('Light Conditions')\n",
    "plt.ylabel('Accidents')\n",
    "plt.gcf().set_size_inches(13,8)\n",
    "plt.show()"
   ]
  },
  {
   "cell_type": "code",
   "execution_count": 49,
   "id": "65c8d28d-65c7-427f-b0a7-b78d65fd8f6a",
   "metadata": {},
   "outputs": [
    {
     "data": {
      "image/png": "[encoded data removed]",
      "text/plain": [
       "<Figure size 1300x800 with 1 Axes>"
      ]
     },
     "metadata": {},
     "output_type": "display_data"
    }
   ],
   "source": [
    "fatal_and_roadcond = accident[accident['Accident_Severity'] == 'Fatal']\n",
    "\n",
    "fatal_in_roadcond = fatal_and_roadcond.groupby(['Road_Surface_Conditions']).size()\n",
    "fatal_in_roadcond.plot(kind='bar')\n",
    "plt.title('Fatal Accidents on Road Conditions')\n",
    "plt.xlabel('Road Conditions')\n",
    "plt.ylabel('Accidents')\n",
    "plt.gcf().set_size_inches(13,8)\n",
    "plt.show()"
   ]
  },
  {
   "cell_type": "code",
   "execution_count": 50,
   "id": "fc008d95-7527-4cf3-b632-adac4d8aae11",
   "metadata": {},
   "outputs": [
    {
     "data": {
      "image/png": "[encoded data removed]",
      "text/plain": [
       "<Figure size 1300x800 with 1 Axes>"
      ]
     },
     "metadata": {},
     "output_type": "display_data"
    }
   ],
   "source": [
    "fatal_and_weathercond = accident[accident['Accident_Severity'] == 'Fatal']\n",
    "\n",
    "fatal_in_weathercond = fatal_and_weathercond.groupby(['Weather_Conditions']).size()\n",
    "fatal_in_weathercond.plot(kind='bar')\n",
    "plt.title('Fatal Accidents on Weather Conditions')\n",
    "plt.xlabel('Weather Conditions')\n",
    "plt.ylabel('Accidents')\n",
    "plt.gcf().set_size_inches(13,8)\n",
    "plt.show()"
   ]
  },
  {
   "cell_type": "markdown",
   "id": "6f038663-a70d-469d-84ba-4c7ab4e60614",
   "metadata": {},
   "source": [
    "<h3>Insight 6: The conditions that causes the most Fatal accidents are the following: daylight(light condition), dry(road condition), and Fine no winds(weather condition)</h3>"
   ]
  },
  {
   "cell_type": "markdown",
   "id": "9b76dced-a991-4c5f-b955-2de25b62ec6c",
   "metadata": {},
   "source": [
    "<h3>Insight 7: Answering the previous question. Surprisingly, the same concept applies to Serious and Fatal accidents. We can conclude that the 'ideal conditions' can cause the most accidents. We all know that in unideal conditions such as having fogs, snows, wet roads, and very dim roads, it is very dangerous to go outside. One possible reason why more accidents happen during ideal conditions is because there are more people outside, thus higher probability of them being in an accident. When an unideal condition is present like a typhoon, people tends to stay indoors, making them safer.</h3>"
   ]
  },
  {
   "cell_type": "code",
   "execution_count": 51,
   "id": "974aadd0-f20e-4d44-ae7b-0f3b31a1b597",
   "metadata": {},
   "outputs": [
    {
     "data": {
      "text/html": [
       "<div>\n",
       "<style scoped>\n",
       "    .dataframe tbody tr th:only-of-type {\n",
       "        vertical-align: middle;\n",
       "    }\n",
       "\n",
       "    .dataframe tbody tr th {\n",
       "        vertical-align: top;\n",
       "    }\n",
       "\n",
       "    .dataframe thead th {\n",
       "        text-align: right;\n",
       "    }\n",
       "</style>\n",
       "<table border=\"1\" class=\"dataframe\">\n",
       "  <thead>\n",
       "    <tr style=\"text-align: right;\">\n",
       "      <th></th>\n",
       "      <th>Index</th>\n",
       "      <th>Accident_Severity</th>\n",
       "      <th>Accident Date</th>\n",
       "      <th>Latitude</th>\n",
       "      <th>Light_Conditions</th>\n",
       "      <th>District Area</th>\n",
       "      <th>Longitude</th>\n",
       "      <th>Number_of_Casualties</th>\n",
       "      <th>Number_of_Vehicles</th>\n",
       "      <th>Road_Surface_Conditions</th>\n",
       "      <th>Road_Type</th>\n",
       "      <th>Urban_or_Rural_Area</th>\n",
       "      <th>Weather_Conditions</th>\n",
       "      <th>Vehicle_Type</th>\n",
       "      <th>Year</th>\n",
       "      <th>Month</th>\n",
       "      <th>Day</th>\n",
       "      <th>DaysOfWeek</th>\n",
       "    </tr>\n",
       "  </thead>\n",
       "  <tbody>\n",
       "    <tr>\n",
       "      <th>0</th>\n",
       "      <td>200701BS64157</td>\n",
       "      <td>Serious</td>\n",
       "      <td>2019-06-05</td>\n",
       "      <td>51.506187</td>\n",
       "      <td>Darkness - lights lit</td>\n",
       "      <td>Kensington and Chelsea</td>\n",
       "      <td>-0.209082</td>\n",
       "      <td>1</td>\n",
       "      <td>2</td>\n",
       "      <td>Dry</td>\n",
       "      <td>Single carriageway</td>\n",
       "      <td>Urban</td>\n",
       "      <td>Fine no high winds</td>\n",
       "      <td>Car</td>\n",
       "      <td>2019</td>\n",
       "      <td>June</td>\n",
       "      <td>5</td>\n",
       "      <td>Wednesday</td>\n",
       "    </tr>\n",
       "    <tr>\n",
       "      <th>1</th>\n",
       "      <td>200701BS65737</td>\n",
       "      <td>Serious</td>\n",
       "      <td>2019-07-02</td>\n",
       "      <td>51.495029</td>\n",
       "      <td>Daylight</td>\n",
       "      <td>Kensington and Chelsea</td>\n",
       "      <td>-0.173647</td>\n",
       "      <td>1</td>\n",
       "      <td>2</td>\n",
       "      <td>Wet or damp</td>\n",
       "      <td>Single carriageway</td>\n",
       "      <td>Urban</td>\n",
       "      <td>Raining no high winds</td>\n",
       "      <td>Car</td>\n",
       "      <td>2019</td>\n",
       "      <td>July</td>\n",
       "      <td>2</td>\n",
       "      <td>Tuesday</td>\n",
       "    </tr>\n",
       "    <tr>\n",
       "      <th>2</th>\n",
       "      <td>200701BS66127</td>\n",
       "      <td>Serious</td>\n",
       "      <td>2019-08-26</td>\n",
       "      <td>51.517715</td>\n",
       "      <td>Darkness - lighting unknown</td>\n",
       "      <td>Kensington and Chelsea</td>\n",
       "      <td>-0.210215</td>\n",
       "      <td>1</td>\n",
       "      <td>3</td>\n",
       "      <td>Dry</td>\n",
       "      <td>Unaccounted Road Type</td>\n",
       "      <td>Urban</td>\n",
       "      <td>Unaccounted Weather Cobditions</td>\n",
       "      <td>Taxi/Private hire car</td>\n",
       "      <td>2019</td>\n",
       "      <td>August</td>\n",
       "      <td>26</td>\n",
       "      <td>Monday</td>\n",
       "    </tr>\n",
       "    <tr>\n",
       "      <th>3</th>\n",
       "      <td>200701BS66128</td>\n",
       "      <td>Serious</td>\n",
       "      <td>2019-08-16</td>\n",
       "      <td>51.495478</td>\n",
       "      <td>Daylight</td>\n",
       "      <td>Kensington and Chelsea</td>\n",
       "      <td>-0.202731</td>\n",
       "      <td>1</td>\n",
       "      <td>4</td>\n",
       "      <td>Dry</td>\n",
       "      <td>Single carriageway</td>\n",
       "      <td>Urban</td>\n",
       "      <td>Fine no high winds</td>\n",
       "      <td>Bus or coach (17 or more pass seats)</td>\n",
       "      <td>2019</td>\n",
       "      <td>August</td>\n",
       "      <td>16</td>\n",
       "      <td>Friday</td>\n",
       "    </tr>\n",
       "    <tr>\n",
       "      <th>4</th>\n",
       "      <td>200701BS66837</td>\n",
       "      <td>Slight</td>\n",
       "      <td>2019-09-03</td>\n",
       "      <td>51.488576</td>\n",
       "      <td>Darkness - lights lit</td>\n",
       "      <td>Kensington and Chelsea</td>\n",
       "      <td>-0.192487</td>\n",
       "      <td>1</td>\n",
       "      <td>2</td>\n",
       "      <td>Dry</td>\n",
       "      <td>Unaccounted Road Type</td>\n",
       "      <td>Urban</td>\n",
       "      <td>Unaccounted Weather Cobditions</td>\n",
       "      <td>Other vehicle</td>\n",
       "      <td>2019</td>\n",
       "      <td>September</td>\n",
       "      <td>3</td>\n",
       "      <td>Tuesday</td>\n",
       "    </tr>\n",
       "    <tr>\n",
       "      <th>...</th>\n",
       "      <td>...</td>\n",
       "      <td>...</td>\n",
       "      <td>...</td>\n",
       "      <td>...</td>\n",
       "      <td>...</td>\n",
       "      <td>...</td>\n",
       "      <td>...</td>\n",
       "      <td>...</td>\n",
       "      <td>...</td>\n",
       "      <td>...</td>\n",
       "      <td>...</td>\n",
       "      <td>...</td>\n",
       "      <td>...</td>\n",
       "      <td>...</td>\n",
       "      <td>...</td>\n",
       "      <td>...</td>\n",
       "      <td>...</td>\n",
       "      <td>...</td>\n",
       "    </tr>\n",
       "    <tr>\n",
       "      <th>660674</th>\n",
       "      <td>201091NM01760</td>\n",
       "      <td>Slight</td>\n",
       "      <td>2022-02-18</td>\n",
       "      <td>57.374005</td>\n",
       "      <td>Daylight</td>\n",
       "      <td>Highland</td>\n",
       "      <td>-3.467828</td>\n",
       "      <td>2</td>\n",
       "      <td>1</td>\n",
       "      <td>Dry</td>\n",
       "      <td>Single carriageway</td>\n",
       "      <td>Rural</td>\n",
       "      <td>Fine no high winds</td>\n",
       "      <td>Car</td>\n",
       "      <td>2022</td>\n",
       "      <td>February</td>\n",
       "      <td>18</td>\n",
       "      <td>Friday</td>\n",
       "    </tr>\n",
       "    <tr>\n",
       "      <th>660675</th>\n",
       "      <td>201091NM01881</td>\n",
       "      <td>Slight</td>\n",
       "      <td>2022-02-21</td>\n",
       "      <td>57.232273</td>\n",
       "      <td>Darkness - no lighting</td>\n",
       "      <td>Highland</td>\n",
       "      <td>-3.809281</td>\n",
       "      <td>1</td>\n",
       "      <td>1</td>\n",
       "      <td>Frost or ice</td>\n",
       "      <td>Single carriageway</td>\n",
       "      <td>Rural</td>\n",
       "      <td>Fine no high winds</td>\n",
       "      <td>Car</td>\n",
       "      <td>2022</td>\n",
       "      <td>February</td>\n",
       "      <td>21</td>\n",
       "      <td>Monday</td>\n",
       "    </tr>\n",
       "    <tr>\n",
       "      <th>660676</th>\n",
       "      <td>201091NM01935</td>\n",
       "      <td>Slight</td>\n",
       "      <td>2022-02-23</td>\n",
       "      <td>57.585044</td>\n",
       "      <td>Daylight</td>\n",
       "      <td>Highland</td>\n",
       "      <td>-3.862727</td>\n",
       "      <td>1</td>\n",
       "      <td>3</td>\n",
       "      <td>Frost or ice</td>\n",
       "      <td>Single carriageway</td>\n",
       "      <td>Rural</td>\n",
       "      <td>Fine no high winds</td>\n",
       "      <td>Car</td>\n",
       "      <td>2022</td>\n",
       "      <td>February</td>\n",
       "      <td>23</td>\n",
       "      <td>Wednesday</td>\n",
       "    </tr>\n",
       "    <tr>\n",
       "      <th>660677</th>\n",
       "      <td>201091NM01964</td>\n",
       "      <td>Serious</td>\n",
       "      <td>2022-02-23</td>\n",
       "      <td>57.214898</td>\n",
       "      <td>Darkness - no lighting</td>\n",
       "      <td>Highland</td>\n",
       "      <td>-3.823997</td>\n",
       "      <td>1</td>\n",
       "      <td>2</td>\n",
       "      <td>Wet or damp</td>\n",
       "      <td>Single carriageway</td>\n",
       "      <td>Rural</td>\n",
       "      <td>Fine no high winds</td>\n",
       "      <td>Motorcycle over 500cc</td>\n",
       "      <td>2022</td>\n",
       "      <td>February</td>\n",
       "      <td>23</td>\n",
       "      <td>Wednesday</td>\n",
       "    </tr>\n",
       "    <tr>\n",
       "      <th>660678</th>\n",
       "      <td>201091NM02142</td>\n",
       "      <td>Serious</td>\n",
       "      <td>2022-02-28</td>\n",
       "      <td>57.575210</td>\n",
       "      <td>Daylight</td>\n",
       "      <td>Highland</td>\n",
       "      <td>-3.895673</td>\n",
       "      <td>1</td>\n",
       "      <td>1</td>\n",
       "      <td>Wet or damp</td>\n",
       "      <td>Dual carriageway</td>\n",
       "      <td>Rural</td>\n",
       "      <td>Snowing no high winds</td>\n",
       "      <td>Car</td>\n",
       "      <td>2022</td>\n",
       "      <td>February</td>\n",
       "      <td>28</td>\n",
       "      <td>Monday</td>\n",
       "    </tr>\n",
       "  </tbody>\n",
       "</table>\n",
       "<p>660679 rows × 18 columns</p>\n",
       "</div>"
      ],
      "text/plain": [
       "                Index Accident_Severity Accident Date   Latitude  \\\n",
       "0       200701BS64157           Serious    2019-06-05  51.506187   \n",
       "1       200701BS65737           Serious    2019-07-02  51.495029   \n",
       "2       200701BS66127           Serious    2019-08-26  51.517715   \n",
       "3       200701BS66128           Serious    2019-08-16  51.495478   \n",
       "4       200701BS66837            Slight    2019-09-03  51.488576   \n",
       "...               ...               ...           ...        ...   \n",
       "660674  201091NM01760            Slight    2022-02-18  57.374005   \n",
       "660675  201091NM01881            Slight    2022-02-21  57.232273   \n",
       "660676  201091NM01935            Slight    2022-02-23  57.585044   \n",
       "660677  201091NM01964           Serious    2022-02-23  57.214898   \n",
       "660678  201091NM02142           Serious    2022-02-28  57.575210   \n",
       "\n",
       "                   Light_Conditions           District Area Longitude  \\\n",
       "0             Darkness - lights lit  Kensington and Chelsea -0.209082   \n",
       "1                          Daylight  Kensington and Chelsea -0.173647   \n",
       "2       Darkness - lighting unknown  Kensington and Chelsea -0.210215   \n",
       "3                          Daylight  Kensington and Chelsea -0.202731   \n",
       "4             Darkness - lights lit  Kensington and Chelsea -0.192487   \n",
       "...                             ...                     ...       ...   \n",
       "660674                     Daylight                Highland -3.467828   \n",
       "660675       Darkness - no lighting                Highland -3.809281   \n",
       "660676                     Daylight                Highland -3.862727   \n",
       "660677       Darkness - no lighting                Highland -3.823997   \n",
       "660678                     Daylight                Highland -3.895673   \n",
       "\n",
       "        Number_of_Casualties  Number_of_Vehicles Road_Surface_Conditions  \\\n",
       "0                          1                   2                     Dry   \n",
       "1                          1                   2             Wet or damp   \n",
       "2                          1                   3                     Dry   \n",
       "3                          1                   4                     Dry   \n",
       "4                          1                   2                     Dry   \n",
       "...                      ...                 ...                     ...   \n",
       "660674                     2                   1                     Dry   \n",
       "660675                     1                   1            Frost or ice   \n",
       "660676                     1                   3            Frost or ice   \n",
       "660677                     1                   2             Wet or damp   \n",
       "660678                     1                   1             Wet or damp   \n",
       "\n",
       "                    Road_Type Urban_or_Rural_Area  \\\n",
       "0          Single carriageway               Urban   \n",
       "1          Single carriageway               Urban   \n",
       "2       Unaccounted Road Type               Urban   \n",
       "3          Single carriageway               Urban   \n",
       "4       Unaccounted Road Type               Urban   \n",
       "...                       ...                 ...   \n",
       "660674     Single carriageway               Rural   \n",
       "660675     Single carriageway               Rural   \n",
       "660676     Single carriageway               Rural   \n",
       "660677     Single carriageway               Rural   \n",
       "660678       Dual carriageway               Rural   \n",
       "\n",
       "                    Weather_Conditions                          Vehicle_Type  \\\n",
       "0                   Fine no high winds                                   Car   \n",
       "1                Raining no high winds                                   Car   \n",
       "2       Unaccounted Weather Cobditions                 Taxi/Private hire car   \n",
       "3                   Fine no high winds  Bus or coach (17 or more pass seats)   \n",
       "4       Unaccounted Weather Cobditions                         Other vehicle   \n",
       "...                                ...                                   ...   \n",
       "660674              Fine no high winds                                   Car   \n",
       "660675              Fine no high winds                                   Car   \n",
       "660676              Fine no high winds                                   Car   \n",
       "660677              Fine no high winds                 Motorcycle over 500cc   \n",
       "660678           Snowing no high winds                                   Car   \n",
       "\n",
       "        Year      Month Day DaysOfWeek  \n",
       "0       2019       June   5  Wednesday  \n",
       "1       2019       July   2    Tuesday  \n",
       "2       2019     August  26     Monday  \n",
       "3       2019     August  16     Friday  \n",
       "4       2019  September   3    Tuesday  \n",
       "...      ...        ...  ..        ...  \n",
       "660674  2022   February  18     Friday  \n",
       "660675  2022   February  21     Monday  \n",
       "660676  2022   February  23  Wednesday  \n",
       "660677  2022   February  23  Wednesday  \n",
       "660678  2022   February  28     Monday  \n",
       "\n",
       "[660679 rows x 18 columns]"
      ]
     },
     "execution_count": 51,
     "metadata": {},
     "output_type": "execute_result"
    }
   ],
   "source": [
    "accident"
   ]
  },
  {
   "cell_type": "markdown",
   "id": "fc0252ce-8c6f-4907-8b58-36fa96961901",
   "metadata": {},
   "source": [
    "<h2>Question: Since we found out that ideal conditions makes you more prone to accidents. Where does all these accidents usually occur despite the influence of other conditions? Find out whether there are more accidents on Urban or Rural areas. </h2>"
   ]
  },
  {
   "cell_type": "code",
   "execution_count": 52,
   "id": "3a2fa98c-6cc2-453b-8cfb-e00debdfbb81",
   "metadata": {},
   "outputs": [],
   "source": [
    "urban = accident[accident['Urban_or_Rural_Area'] == 'Urban']\n",
    "rural = accident[accident['Urban_or_Rural_Area'] == 'Rural']"
   ]
  },
  {
   "cell_type": "code",
   "execution_count": 53,
   "id": "5be76a36-27ed-4b9c-95d2-c15484455cf0",
   "metadata": {},
   "outputs": [
    {
     "data": {
      "text/plain": [
       "421663"
      ]
     },
     "execution_count": 53,
     "metadata": {},
     "output_type": "execute_result"
    }
   ],
   "source": [
    "urban.value_counts().sum()"
   ]
  },
  {
   "cell_type": "code",
   "execution_count": null,
   "id": "320fc34e-82f7-40c8-acd5-dae87053f6d9",
   "metadata": {},
   "outputs": [],
   "source": [
    "rural.value_counts().sum()"
   ]
  },
  {
   "cell_type": "code",
   "execution_count": null,
   "id": "d7cc2cef-6daf-449b-85ad-c48bc7650426",
   "metadata": {},
   "outputs": [],
   "source": [
    "total_urban_rural = accident['Urban_or_Rural_Area'].value_counts().sum()\n",
    "total_urban_rural"
   ]
  },
  {
   "cell_type": "code",
   "execution_count": null,
   "id": "9e33fc00-5279-44fb-8287-d48824d08c2c",
   "metadata": {},
   "outputs": [],
   "source": [
    "421663/ total_urban_rural"
   ]
  },
  {
   "cell_type": "code",
   "execution_count": null,
   "id": "25f3803c-5d9e-4ce4-8fab-2925630954a9",
   "metadata": {},
   "outputs": [],
   "source": [
    "238990/total_urban_rural"
   ]
  },
  {
   "cell_type": "code",
   "execution_count": null,
   "id": "ea17a91b-3bf3-471b-80fd-6dcccf0ecaa2",
   "metadata": {},
   "outputs": [],
   "source": [
    "63.82 + 36.17\n"
   ]
  },
  {
   "cell_type": "code",
   "execution_count": null,
   "id": "12733057-82d5-4f4f-bc38-6782cb98f2cc",
   "metadata": {},
   "outputs": [],
   "source": [
    "1 - 0.9999606465469616"
   ]
  },
  {
   "cell_type": "code",
   "execution_count": null,
   "id": "4623f3ab-876e-432a-ba27-da56cfac0c89",
   "metadata": {},
   "outputs": [],
   "source": [
    "urban_or_rural = accident['Urban_or_Rural_Area'].value_counts()\n",
    "urban_or_rural"
   ]
  },
  {
   "cell_type": "code",
   "execution_count": null,
   "id": "d48fe711-0bbb-406c-b1c4-e03c96048a62",
   "metadata": {},
   "outputs": [],
   "source": [
    "mylabels = ['urban', 'rural','','']\n",
    "\n",
    "plt.pie(urban_or_rural, labels = mylabels)\n",
    "plt.title('Urban or Rural')\n",
    "plt.show()"
   ]
  },
  {
   "cell_type": "markdown",
   "id": "42161473-56b7-4464-96d1-a6a5e2e51c1f",
   "metadata": {},
   "source": [
    "<h3>Insight 8: 63.82% of the accidents happen in Urban areas. 36.17% of the accidents happens in Rural areas. The remaining 0.01% are unaccounted for. This means that there are more accidents in places where there are more people present.</h3> "
   ]
  },
  {
   "cell_type": "markdown",
   "id": "a9273dc8-f67d-45f5-8ea8-fceaef7acd07",
   "metadata": {},
   "source": [
    "<h2>Question: For the accidents in Urban areas, what are the top 5 vehicle types that causes the most accidents? What about the Rural areas?</h2>"
   ]
  },
  {
   "cell_type": "code",
   "execution_count": null,
   "id": "bfb139cc-0376-476b-95d4-c30c9954e9a7",
   "metadata": {},
   "outputs": [],
   "source": [
    "accident['Vehicle_Type'].value_counts()"
   ]
  },
  {
   "cell_type": "code",
   "execution_count": null,
   "id": "629a64ac-42a2-4485-ad24-c9ad6600aa40",
   "metadata": {},
   "outputs": [],
   "source": [
    "urban['Vehicle_Type'].value_counts()"
   ]
  },
  {
   "cell_type": "code",
   "execution_count": null,
   "id": "c1a7fbf9-f91d-43aa-9cba-74b289533414",
   "metadata": {},
   "outputs": [],
   "source": [
    "rural['Vehicle_Type'].value_counts()"
   ]
  },
  {
   "cell_type": "code",
   "execution_count": null,
   "id": "5f1860b1-52d6-4c03-b467-d81b1ece1312",
   "metadata": {},
   "outputs": [],
   "source": [
    "accident"
   ]
  },
  {
   "cell_type": "code",
   "execution_count": null,
   "id": "4958c628-7a3d-4cc3-a13f-e2e1e994156c",
   "metadata": {},
   "outputs": [],
   "source": [
    "urban_and_vehicletype = accident[accident['Urban_or_Rural_Area'] == 'Urban']\n",
    "\n",
    "urban_in_vehicletype = urban_and_vehicletype.groupby(['Vehicle_Type']).size()\n",
    "urban_in_vehicletype.plot(kind='bar')\n",
    "plt.title('Accidents by Vehicle Type in Urban Areas')\n",
    "plt.xlabel('Vehicle Types')\n",
    "plt.ylabel('Accidents')\n",
    "plt.gcf().set_size_inches(13,8)\n",
    "plt.show()"
   ]
  },
  {
   "cell_type": "markdown",
   "id": "50eb735d-523c-4fb0-9dfa-68e92f399bd9",
   "metadata": {},
   "source": [
    "<h3>Insight 9: The top 5 vehicle type that causes the most accident on Urban Areas are the following: Car, Van / Goods 3.5 tonnes mgw or under, Bus or coach (17 or more pass seats), Motorcycle over 500cc, and Goods 7.5 tonnes mgw and over.</h3>"
   ]
  },
  {
   "cell_type": "code",
   "execution_count": null,
   "id": "fcad5b3b-c6b4-4e19-a370-a4c02c6ba1f1",
   "metadata": {},
   "outputs": [],
   "source": [
    "rural_and_vehicletype = accident[accident['Urban_or_Rural_Area'] == 'Rural']\n",
    "\n",
    "rural_in_vehicletype = rural_and_vehicletype.groupby(['Vehicle_Type']).size()\n",
    "rural_in_vehicletype.plot(kind='bar')\n",
    "plt.title('Accidents by Vehicle Type in Rural Areas')\n",
    "plt.xlabel('Vehicle Types')\n",
    "plt.ylabel('Accidents')\n",
    "plt.gcf().set_size_inches(13,8)\n",
    "plt.show()"
   ]
  },
  {
   "cell_type": "markdown",
   "id": "b57f1407-f61a-4945-8915-b7fff4d8919a",
   "metadata": {},
   "source": [
    "<h3>Insight 10: The top 5 vehicle type that causes the most accident on Rural Areas are the following: Car, Van / Goods 3.5 tonnes mgw or under, Bus or coach (17 or more pass seats), Motorcycle over 500cc, and Goods 7.5 tonnes mgw and over.</h3>"
   ]
  },
  {
   "cell_type": "markdown",
   "id": "f79d0fec-fe44-44b2-8207-6c3bf8bdef11",
   "metadata": {},
   "source": [
    "<h3>Insight 11: Despite being whole different areas, Urban and Rural areas have the same leading type of vehicles in causing accidents. This might indicate that the vehicle type that is much largely produced can cause the most accidents. The most common type of vehicle in United Kingdom are cars and vans, and they are the leading vehicle types for accidents. </h3>"
   ]
  },
  {
   "cell_type": "markdown",
   "id": "d0dff4dd-9302-4b5c-b910-df7c3464fe16",
   "metadata": {},
   "source": [
    "<h2>Question: Using the oldest data availlable in the dataframe, can you find the total percentage and exact amount of the fatalities?</h2>"
   ]
  },
  {
   "cell_type": "code",
   "execution_count": null,
   "id": "dd5e2e96-5733-42cd-8e8d-ada2beb6c5f2",
   "metadata": {},
   "outputs": [],
   "source": [
    "accident_2019 = accident[accident['Year'] == 2019]\n",
    "accident_2019['Accident_Severity'].value_counts()"
   ]
  },
  {
   "cell_type": "code",
   "execution_count": null,
   "id": "b85b683f-2cbf-48d8-b87d-c75716381b4d",
   "metadata": {},
   "outputs": [],
   "source": [
    "accident_2019['Accident_Severity'].value_counts().sum()"
   ]
  },
  {
   "cell_type": "code",
   "execution_count": null,
   "id": "c1f66e7f-85d1-43d4-9011-6598538b1cc0",
   "metadata": {},
   "outputs": [],
   "source": [
    "2714 /144419"
   ]
  },
  {
   "cell_type": "code",
   "execution_count": null,
   "id": "55df2964-ae0c-4caf-b724-b93b000b5d95",
   "metadata": {},
   "outputs": [],
   "source": [
    "\n",
    "fatal_2019 = accident_2019.groupby(['Accident_Severity']).size()\n",
    "fatal_2019.plot(kind='bar')\n",
    "plt.title('Accidents Severity in 2019')\n",
    "plt.xlabel('Accident Severity')\n",
    "plt.ylabel('Accidents')\n",
    "plt.gcf().set_size_inches(13,8)\n",
    "plt.show()"
   ]
  },
  {
   "cell_type": "markdown",
   "id": "54a87470-7766-41bd-9424-9d79174298d4",
   "metadata": {},
   "source": [
    "<h3>Insight 12: In year 2019, 1.87% of the accidents are fatal with a number 2714 occurences.</h3>"
   ]
  },
  {
   "cell_type": "markdown",
   "id": "7b831d3d-dbce-4757-a7ad-241da4344aad",
   "metadata": {},
   "source": [
    "<h2>Question: What about using the most recent data availlable in the dataframe, can you find the total percentage and exact amount of the fatalities?</h2>"
   ]
  },
  {
   "cell_type": "code",
   "execution_count": null,
   "id": "c4bfdea8-44d3-458d-8b5c-385c3eb0c050",
   "metadata": {},
   "outputs": [],
   "source": [
    "accident_2022 = accident[accident['Year'] == 2022]\n",
    "accident_2022['Accident_Severity'].value_counts()"
   ]
  },
  {
   "cell_type": "code",
   "execution_count": null,
   "id": "be2c7495-c58e-4e51-93b2-e4d957f4f989",
   "metadata": {},
   "outputs": [],
   "source": [
    "accident_2022['Accident_Severity'].value_counts().sum()"
   ]
  },
  {
   "cell_type": "code",
   "execution_count": null,
   "id": "11675fa2-b68a-4f12-82e7-cce7c8d0be7e",
   "metadata": {},
   "outputs": [],
   "source": [
    "1549 / 144419"
   ]
  },
  {
   "cell_type": "code",
   "execution_count": null,
   "id": "cc172486-472e-49ae-a7cc-54748d1b31a6",
   "metadata": {},
   "outputs": [],
   "source": [
    "fatal_2022 = accident_2022.groupby(['Accident_Severity']).size()\n",
    "fatal_2022.plot(kind='bar')\n",
    "plt.title('Accidents Severity in 2022')\n",
    "plt.xlabel('Accident Severity')\n",
    "plt.ylabel('Accidents')\n",
    "plt.gcf().set_size_inches(13,8)\n",
    "plt.show()"
   ]
  },
  {
   "cell_type": "markdown",
   "id": "c8208356-3fec-4eaa-b316-8038c7abbb17",
   "metadata": {},
   "source": [
    "<h3>Insight 13: In year 2022, 1.07% of the accidents are fatal with a number 1549 occurences.</h3>"
   ]
  },
  {
   "cell_type": "markdown",
   "id": "4d384f38-bbbd-4735-83dc-d89e9ea97b8b",
   "metadata": {},
   "source": [
    "<h3>Insight 14: Based on the analysis about Fatal accidents. We found out that they have significantly less numbers than that of Slight and Serious accidents combined with only less than 2% occurences. In comparison between the year 2019 and 2022, there are less fatal accidents in the recent years compared to older years. </h3>"
   ]
  },
  {
   "cell_type": "markdown",
   "id": "95d00cc8-579d-470a-b076-19b18b3891e7",
   "metadata": {},
   "source": [
    "<h2>Question: Using the data from 2022, What months causes the most overall accidents? What about the average accidents per month?</h2>"
   ]
  },
  {
   "cell_type": "code",
   "execution_count": null,
   "id": "b2f0c747-47e0-4a72-8a84-93991b0e4d50",
   "metadata": {},
   "outputs": [],
   "source": [
    "accident_2022.groupby(['Accident_Severity','Month'], observed=False).size().unstack()"
   ]
  },
  {
   "cell_type": "code",
   "execution_count": null,
   "id": "a2f6e133-708b-483c-b5f0-62ccc75bc341",
   "metadata": {},
   "outputs": [],
   "source": [
    "accident_2022.groupby(['Accident_Severity','Month'], observed=False).size().unstack().sum()"
   ]
  },
  {
   "cell_type": "code",
   "execution_count": null,
   "id": "8371cf72-ce26-4947-92d0-812dcccba7f1",
   "metadata": {},
   "outputs": [],
   "source": [
    "line_2022 = accident_2022.groupby(['Month']).size()\n",
    "\n",
    "plt.plot(line_2022, marker='o')\n",
    "plt.title(\"Accident rate per Month during 2022\")\n",
    "plt.ylabel(\"Accidents\")\n",
    "plt.gcf().set_size_inches(13,8)\n",
    "plt.show()"
   ]
  },
  {
   "cell_type": "markdown",
   "id": "9c863d65-adec-43ec-bdb3-53b3195f0917",
   "metadata": {},
   "source": [
    "<h3>Insight 15: The month with the highest accident rate during 2022 is November, closely followed by October, with only a margin of 88 accidents. This occurence might be due to Halloween event every November.</h3>"
   ]
  },
  {
   "cell_type": "markdown",
   "id": "c5873432-6256-4365-91be-5af1f918b3c6",
   "metadata": {},
   "source": [
    "<h3>Insight 16: The month with the lowest accident rate during 2022 is December, followed closely by January, and then relatively followed by February. These are the months where most people are usually on vacation.</h3>"
   ]
  },
  {
   "cell_type": "markdown",
   "id": "aaea9d7f-949d-43ca-9f91-a55cbab5cb66",
   "metadata": {},
   "source": [
    "<h2>Question: Since November and October is the month where there is the highest accidents. Does the Halloween have to do with this? Halloween is celebrated during October 31, for some people it extends to early November 1.</h2>"
   ]
  },
  {
   "cell_type": "code",
   "execution_count": null,
   "id": "bdc08e1a-af48-4c2b-9637-9608ddefd927",
   "metadata": {},
   "outputs": [],
   "source": [
    "accident_2022.groupby(['Day','Month'], observed=False).size().unstack()"
   ]
  },
  {
   "cell_type": "code",
   "execution_count": null,
   "id": "20ad10e9-88b5-4c84-8212-f1104591a16a",
   "metadata": {},
   "outputs": [],
   "source": [
    "accident_2022.groupby(['Day','Month'], observed=False).size().unstack()"
   ]
  },
  {
   "cell_type": "code",
   "execution_count": null,
   "id": "46283b43-ea73-4047-9f3d-abbd4d41d928",
   "metadata": {},
   "outputs": [],
   "source": [
    "accident_2022.groupby(['Month']).size()\n",
    "\n",
    "oct_2022 = accident_2022[accident_2022['Month'] == \"October\"]\n",
    "nov_2022 = accident_2022[accident_2022['Month'] == 'November']\n"
   ]
  },
  {
   "cell_type": "code",
   "execution_count": null,
   "id": "e2cf8bc9-6187-4019-8664-71a08e164ffa",
   "metadata": {},
   "outputs": [],
   "source": [
    "df_oct_2022 = oct_2022.groupby(['Day']).size()\n",
    "df_oct_2022.plot(kind='bar')\n",
    "plt.title('October 2022')\n",
    "plt.xlabel('Days')\n",
    "plt.ylabel('Accidents')\n",
    "plt.gcf().set_size_inches(13,8)\n",
    "plt.show()"
   ]
  },
  {
   "cell_type": "code",
   "execution_count": null,
   "id": "4301eb69-1818-4ad8-8faf-13d5ae82c774",
   "metadata": {},
   "outputs": [],
   "source": [
    "df_nov_2022 = nov_2022.groupby(['Day']).size()\n",
    "df_nov_2022.plot(kind='bar')\n",
    "plt.title('November 2022')\n",
    "plt.xlabel('Days')\n",
    "plt.ylabel('Accidents')\n",
    "plt.gcf().set_size_inches(13,8)\n",
    "plt.show()"
   ]
  },
  {
   "cell_type": "markdown",
   "id": "3385dcdf-60ea-431e-9f92-c524677ea1e9",
   "metadata": {},
   "source": [
    "<h3>Insight 17: In October 31, There are 344 accidents. In November 1, there 432 accidents. The Day in October and November which has the highest accidents is October 1 and November 5. This means that Halloween event does not heighten the amount of accidents. But, it does lower the accident rate for October 31, the start of Halloween."
   ]
  },
  {
   "cell_type": "code",
   "execution_count": null,
   "id": "703b63d0-b9f6-4aaa-a32b-c5419730ec39",
   "metadata": {},
   "outputs": [],
   "source": [
    "accident"
   ]
  },
  {
   "cell_type": "markdown",
   "id": "e51e857b-df4e-4d0e-9f21-a23977d89c91",
   "metadata": {},
   "source": [
    "<h2>Question: Using the recent years from 2020 to 2022, Which District Area is most prone to accidents? </h2>"
   ]
  },
  {
   "cell_type": "code",
   "execution_count": null,
   "id": "cdf1b135-074b-4c4e-9226-b08004b40010",
   "metadata": {},
   "outputs": [],
   "source": [
    "accident_2019 = accident[accident['Year'] == 2019]\n",
    "accident_2020 = accident[accident['Year'] == 2020]\n",
    "accident_2021 = accident[accident['Year'] == 2021]\n",
    "accident_2022 = accident[accident['Year'] == 2022]"
   ]
  },
  {
   "cell_type": "code",
   "execution_count": null,
   "id": "8f215e78-b1f3-4aa3-a3f7-412cca4bd5de",
   "metadata": {},
   "outputs": [],
   "source": [
    "district_2022 = accident_2020['District Area'].value_counts()"
   ]
  },
  {
   "cell_type": "code",
   "execution_count": null,
   "id": "d71341dd-0dd5-422e-8967-27f2b0dddc70",
   "metadata": {},
   "outputs": [],
   "source": [
    "line_2022 = accident_2022.groupby(['Month']).size()"
   ]
  },
  {
   "cell_type": "code",
   "execution_count": null,
   "id": "edf7d571-93c4-4494-b5c3-247113e9b21d",
   "metadata": {},
   "outputs": [],
   "source": [
    "accident_2021['District Area'].value_counts()"
   ]
  },
  {
   "cell_type": "code",
   "execution_count": null,
   "id": "422ebf0c-de5f-4d31-bbe1-11ed21a4ca8b",
   "metadata": {},
   "outputs": [],
   "source": [
    "accident_2022['District Area'].value_counts()"
   ]
  },
  {
   "cell_type": "markdown",
   "id": "fa1a83df-11fc-42ab-b4fd-c7f561d39704",
   "metadata": {},
   "source": [
    "<h3>Insight 18: The district that is most prone to accidents is Birmingham, followed by Leeds, and Manchester.</h3>"
   ]
  },
  {
   "cell_type": "markdown",
   "id": "3c147173-c773-40fc-802a-98e2a7a082e8",
   "metadata": {},
   "source": [
    "<h3>Question: From the data frame, what is the Road Type that causes the most accidents?</h3>"
   ]
  },
  {
   "cell_type": "code",
   "execution_count": null,
   "id": "16c45e2c-79ee-4f45-af90-936c11783bd8",
   "metadata": {},
   "outputs": [],
   "source": [
    "roadtype = accident['Road_Type'].value_counts()"
   ]
  },
  {
   "cell_type": "code",
   "execution_count": null,
   "id": "05947d0f-7b1a-4948-b178-45b2d3e33c37",
   "metadata": {},
   "outputs": [],
   "source": [
    "total = accident['Road_Type'].value_counts().sum()"
   ]
  },
  {
   "cell_type": "code",
   "execution_count": null,
   "id": "79aa4ec9-0881-432c-9ba6-062e18e2bd1c",
   "metadata": {},
   "outputs": [],
   "source": [
    "accident.groupby(['Accident_Severity','Road_Type'], observed=False).size().unstack()"
   ]
  },
  {
   "cell_type": "code",
   "execution_count": null,
   "id": "8fea138f-fe3e-4219-a26e-745799e57e7a",
   "metadata": {},
   "outputs": [],
   "source": [
    "roadtype / total"
   ]
  },
  {
   "cell_type": "code",
   "execution_count": null,
   "id": "13f585ac-2e23-4e50-96ca-9b63a2893244",
   "metadata": {},
   "outputs": [],
   "source": [
    "road_type = accident.groupby(['Road_Type']).size()\n",
    "road_type.plot(kind='bar')\n",
    "plt.title('Most accident prone road type')\n",
    "plt.xlabel('Road Type')\n",
    "plt.ylabel('Accidents')\n",
    "plt.gcf().set_size_inches(13,8)\n",
    "plt.show()"
   ]
  },
  {
   "cell_type": "markdown",
   "id": "129ff0d4-dc8e-4387-90ac-a149d3df7857",
   "metadata": {},
   "source": [
    "<h3>Insight 19: The road type that has the highest accident is Single carriageway. Single Carriageway causes 74% of the accidents.</h3>"
   ]
  },
  {
   "cell_type": "markdown",
   "id": "4a89d1f7-81cc-4f4c-a409-6e56eb09c467",
   "metadata": {},
   "source": [
    "<h2>Question: Which Day of the week has the most amount of accidents?</h2>"
   ]
  },
  {
   "cell_type": "code",
   "execution_count": null,
   "id": "14024097-bd54-4182-8089-a169a3fec10f",
   "metadata": {},
   "outputs": [],
   "source": [
    "accident['DaysOfWeek'].value_counts()"
   ]
  },
  {
   "cell_type": "code",
   "execution_count": null,
   "id": "7370411d-49d0-48d4-8e70-ddd2321d286e",
   "metadata": {},
   "outputs": [],
   "source": [
    "daysofweek = accident.groupby(['DaysOfWeek']).size()\n",
    "daysofweek.plot(kind='bar')\n",
    "plt.title('Days of week that has the most accidents')\n",
    "plt.xlabel('Days of Week')\n",
    "plt.ylabel('Accidents')\n",
    "plt.gcf().set_size_inches(13,8)\n",
    "plt.show()"
   ]
  },
  {
   "cell_type": "markdown",
   "id": "73caa122-ad88-4717-b24a-a8958ff110c0",
   "metadata": {},
   "source": [
    "<h3>Insight 20: The day of the week that has the most accidents is Saturday. This might be because more people are going out to relax or spend time out of work. Causing them to travel and go outside which makes them prone to higher chances of accidents.\n",
    "</h3>"
   ]
  },
  {
   "cell_type": "code",
   "execution_count": null,
   "id": "48faf604-ab30-4793-8ab3-ae276a792cad",
   "metadata": {},
   "outputs": [],
   "source": []
  },
  {
   "cell_type": "code",
   "execution_count": null,
   "id": "a512adbc-6a95-4fa4-b1fb-c7a443fc3a31",
   "metadata": {},
   "outputs": [],
   "source": []
  },
  {
   "cell_type": "code",
   "execution_count": null,
   "id": "43a748ee-070a-4aa2-9460-42c8b9f7744a",
   "metadata": {},
   "outputs": [],
   "source": []
  },
  {
   "cell_type": "code",
   "execution_count": null,
   "id": "41ad6e33-86f9-4161-beef-d00f7fcde86d",
   "metadata": {},
   "outputs": [],
   "source": []
  }
 ],
 "metadata": {
  "kernelspec": {
   "display_name": "Python 3 (ipykernel)",
   "language": "python",
   "name": "python3"
  },
  "language_info": {
   "codemirror_mode": {
    "name": "ipython",
    "version": 3
   },
   "file_extension": ".py",
   "mimetype": "text/x-python",
   "name": "python",
   "nbconvert_exporter": "python",
   "pygments_lexer": "ipython3",
   "version": "3.11.4"
  }
 },
 "nbformat": 4,
 "nbformat_minor": 5
}
